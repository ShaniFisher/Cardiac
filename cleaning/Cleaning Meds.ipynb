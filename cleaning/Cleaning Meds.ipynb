{
 "cells": [
  {
   "cell_type": "code",
   "execution_count": 1,
   "metadata": {},
   "outputs": [],
   "source": [
    "import pandas as pd\n",
    "import numpy as np"
   ]
  },
  {
   "cell_type": "code",
   "execution_count": 309,
   "metadata": {},
   "outputs": [],
   "source": [
    "df_meds=pd.read_csv('Cardiac Program_Archive - Cardiac_Meds.csv')"
   ]
  },
  {
   "cell_type": "code",
   "execution_count": 310,
   "metadata": {},
   "outputs": [
    {
     "name": "stdout",
     "output_type": "stream",
     "text": [
      "original shape (4258, 28)\n",
      "shape after removing multitechvision rows (4238, 28)\n"
     ]
    }
   ],
   "source": [
    "print('original shape', df_meds.shape)\n",
    "df_meds=df_meds.loc[df_meds['create_user']!='multitechvisions@gmail.com']#delete rows with this user\n",
    "print('shape after removing multitechvision rows', df_meds.shape)"
   ]
  },
  {
   "cell_type": "code",
   "execution_count": 290,
   "metadata": {},
   "outputs": [
    {
     "name": "stdout",
     "output_type": "stream",
     "text": [
      "9999    2197\n",
      "1       1861\n",
      "0        154\n",
      "Name: ACE, dtype: int64\n"
     ]
    }
   ],
   "source": [
    "#Cleaning ACE\n",
    "df_meds['ACE']=df_meds['ACE'].str.lower()\n",
    "df_meds.loc[df_meds['ACE'].isin(['none', '0']), \"ACE\"]=0\n",
    "df_meds=df_meds.loc[~df_meds['ACE'].str.contains('allergic', na=False)] \n",
    "df_meds=df_meds.loc[df_meds['ACE']!='asdf']#removed test created by multitechvision\n",
    "df_meds=df_meds.loc[df_meds['ACE']!='5'] #removed test\n",
    "df_meds['ACE']=df_meds['ACE'].fillna(9999)\n",
    "allowed_vals2=[0, 9999]\n",
    "df_meds.loc[~df_meds[\"ACE\"].isin(allowed_vals2), \"ACE\"] = 1\n",
    "print(df_meds['ACE'].value_counts())"
   ]
  },
  {
   "cell_type": "code",
   "execution_count": 262,
   "metadata": {},
   "outputs": [
    {
     "data": {
      "text/plain": [
       "1       2913\n",
       "9999    1217\n",
       "0         82\n",
       "Name: BB, dtype: int64"
      ]
     },
     "execution_count": 262,
     "metadata": {},
     "output_type": "execute_result"
    }
   ],
   "source": [
    "#Cleaning BB\n",
    "df_meds['BB']=df_meds['BB'].str.lower()\n",
    "df_meds['BB']=df_meds['BB'].fillna(9999)\n",
    "df_meds.loc[df_meds['BB'].isin(['none', '0']), \"BB\"]=0\n",
    "df_meds.loc[~df_meds[\"BB\"].isin(allowed_vals2), \"BB\"] = 1\n",
    "df_meds['BB'].value_counts()"
   ]
  },
  {
   "cell_type": "code",
   "execution_count": 263,
   "metadata": {},
   "outputs": [
    {
     "data": {
      "text/plain": [
       "1       2157\n",
       "9999    1961\n",
       "0         94\n",
       "Name: Diuretics, dtype: int64"
      ]
     },
     "execution_count": 263,
     "metadata": {},
     "output_type": "execute_result"
    }
   ],
   "source": [
    "#Cleaning Diuretics\n",
    "df_meds['Diuretics']=df_meds['Diuretics'].str.lower()\n",
    "df_meds['Diuretics']=df_meds['Diuretics'].fillna(9999)\n",
    "df_meds.loc[df_meds['Diuretics'].isin(['none', '0']), \"Diuretics\"]=0\n",
    "df_meds.loc[~df_meds[\"Diuretics\"].isin(allowed_vals2), \"Diuretics\"] = 1\n",
    "df_meds['Diuretics'].value_counts()"
   ]
  },
  {
   "cell_type": "code",
   "execution_count": 264,
   "metadata": {},
   "outputs": [
    {
     "data": {
      "text/plain": [
       "1       2842\n",
       "9999    1283\n",
       "0         87\n",
       "Name: Anticoagulant, dtype: int64"
      ]
     },
     "execution_count": 264,
     "metadata": {},
     "output_type": "execute_result"
    }
   ],
   "source": [
    "#Cleaning Anticoagulant\n",
    "df_meds['Anticoagulant']=df_meds['Anticoagulant'].str.lower()\n",
    "df_meds['Anticoagulant']=df_meds['Anticoagulant'].fillna(9999)\n",
    "df_meds.loc[df_meds['Anticoagulant'].isin(['none', '0']), \"Anticoagulant\"]=0\n",
    "none_values=df_meds.loc[df_meds['Anticoagulant'].str.contains('none', na=False)]['Anticoagulant'].tolist()\n",
    "df_meds.loc[df_meds['Anticoagulant'].isin(none_values),\"Anticoagulant\"]=0\n",
    "df_meds.loc[~df_meds[\"Anticoagulant\"].isin(allowed_vals2), \"Anticoagulant\"] = 1\n",
    "df_meds['Anticoagulant'].value_counts()"
   ]
  },
  {
   "cell_type": "code",
   "execution_count": 265,
   "metadata": {},
   "outputs": [
    {
     "data": {
      "text/plain": [
       "9999    4017\n",
       "1        161\n",
       "0         34\n",
       "Name: Ionotropes, dtype: int64"
      ]
     },
     "execution_count": 265,
     "metadata": {},
     "output_type": "execute_result"
    }
   ],
   "source": [
    "#Cleaning Ionotropes\n",
    "df_meds['Ionotropes']=df_meds['Ionotropes'].str.lower()\n",
    "df_meds['Ionotropes']=df_meds['Ionotropes'].fillna(9999)\n",
    "df_meds.loc[df_meds['Ionotropes'].isin(['none', '0']), \"Ionotropes\"]=0\n",
    "df_meds.loc[~df_meds[\"Ionotropes\"].isin(allowed_vals2), \"Ionotropes\"] = 1\n",
    "df_meds.Ionotropes.value_counts()"
   ]
  },
  {
   "cell_type": "code",
   "execution_count": 280,
   "metadata": {},
   "outputs": [],
   "source": [
    "df_meds.to_csv('clean_cardiac_meds.csv')"
   ]
  }
 ],
 "metadata": {
  "kernelspec": {
   "display_name": "Python 3",
   "language": "python",
   "name": "python3"
  },
  "language_info": {
   "codemirror_mode": {
    "name": "ipython",
    "version": 3
   },
   "file_extension": ".py",
   "mimetype": "text/x-python",
   "name": "python",
   "nbconvert_exporter": "python",
   "pygments_lexer": "ipython3",
   "version": "3.6.5"
  }
 },
 "nbformat": 4,
 "nbformat_minor": 2
}
