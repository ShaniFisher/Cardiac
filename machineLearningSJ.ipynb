{
 "cells": [
  {
   "cell_type": "markdown",
   "metadata": {},
   "source": [
    "Load Packages"
   ]
  },
  {
   "cell_type": "code",
   "execution_count": 5,
   "metadata": {},
   "outputs": [],
   "source": [
    "import pandas as pd\n",
    "import numpy as np\n",
    "import sklearn as skl\n",
    "import matplotlib.pyplot as plt\n",
    "import seaborn as sns\n",
    "from Meta_fun import *\n",
    "%matplotlib inline\n"
   ]
  },
  {
   "cell_type": "markdown",
   "metadata": {},
   "source": [
    "Load Data set"
   ]
  },
  {
   "cell_type": "code",
   "execution_count": 6,
   "metadata": {},
   "outputs": [
    {
     "name": "stdout",
     "output_type": "stream",
     "text": [
      "The autoreload extension is already loaded. To reload it, use:\n",
      "  %reload_ext autoreload\n",
      "Live Sheet:\n",
      "Sheet name: \"patients\"\n",
      "Retained columns: ['patient_link', 'date_of_birth', 'patient_gender', 'ef', 'special_status']\n",
      "\n",
      "Sheet name: \"patient_enrollment_records\"\n",
      "Retained columns: ['patient_link', 'facilities_link', 'enrollment_date', 'hospital_discharged_from', 'admit_weight', 'diagnosis_1', 'acute_or_chronic', 'aicd', 'status', 'discharge', 'discharge_date', 'cardiac_related', 'create_user']\n",
      "\n",
      "Sheet name: \"patient weights\"\n",
      "Retained columns: ['patient_link', 'name', 'patient_weight_date', 'weight', 'this_weight_change', 'weight_change_since_admit']\n",
      "\n",
      "Sheet name: \"patient BNP\"\n",
      "Retained columns: ['patient_link', 'bnp_date', 'bnp', 'this_bnp_change']\n",
      "\n",
      "Sheet name: \"Cardiac_Meds\"\n",
      "Retained columns: ['patient_link', 'cardiac_meds_date', 'ace', 'bb', 'diuretics', 'anticoagulant', 'ionotropes', 'other cardiac meds']\n",
      "\n",
      "Sheet name: \"patient labs\"\n",
      "Retained columns: ['patient_link', 'labs_date', 'bun', 'cr', 'sodium', 'potasium', 'mg', 'this_cr_change']\n",
      "\n",
      "Sheet name: \"patient BP\"\n",
      "Retained columns: ['patient_link', 'bp_date', 'resting_hr', 'systolic', 'diastolic', 'resting_bp']\n",
      "\n",
      "\n",
      "\n",
      "Archive Sheet:\n",
      "Sheet name: \"patient_enrollment_records\"\n",
      "Retained columns: ['patient_link', 'facilities_link', 'enrollment_date', 'hospital_discharged_from', 'admit_weight', 'diagnosis_1', 'acute_or_chronic', 'aicd', 'status', 'discharge', 'discharge_date', 'cardiac_related', 'create_user']\n",
      "\n",
      "Sheet name: \"patient weights\"\n",
      "Retained columns: ['patient_link', 'name', 'patient_weight_date', 'weight', 'this_weight_change', 'weight_change_since_admit']\n",
      "\n",
      "Sheet name: \"patient BNP\"\n",
      "Retained columns: ['patient_link', 'bnp_date', 'bnp', 'this_bnp_change']\n",
      "\n",
      "Sheet name: \"Cardiac_Meds\"\n",
      "Retained columns: ['patient_link', 'cardiac_meds_date', 'ace', 'bb', 'diuretics', 'anticoagulant', 'ionotropes', 'other cardiac meds']\n",
      "\n",
      "Sheet name: \"patient labs\"\n",
      "Retained columns: ['patient_link', 'labs_date', 'bun', 'cr', 'sodium', 'potasium', 'mg', 'this_cr_change']\n",
      "\n",
      "Sheet name: \"patient BP\"\n",
      "Retained columns: ['patient_link', 'bp_date', 'resting_hr', 'systolic', 'diastolic', 'resting_bp']\n",
      "\n",
      "\n",
      "\n",
      "0 NaT added to list\n",
      "0 NaT added to list\n",
      "Date column \"enrollment_date\" in sheet \"patient_enrollment_records\" has been converted to appropriate datatype\n",
      "\n",
      "0 NaT added to list\n",
      "6 NaT added to list\n",
      "Date column \"patient_weight_date\" in sheet \"patient weights\" has been converted to appropriate datatype\n",
      "\n",
      "85 NaT added to list\n",
      "80 NaT added to list\n",
      "Date column \"bnp_date\" in sheet \"patient BNP\" has been converted to appropriate datatype\n",
      "\n",
      "0 NaT added to list\n",
      "0 NaT added to list\n",
      "Date column \"cardiac_meds_date\" in sheet \"Cardiac_Meds\" has been converted to appropriate datatype\n",
      "\n",
      "0 NaT added to list\n",
      "41 NaT added to list\n",
      "Date column \"labs_date\" in sheet \"patient labs\" has been converted to appropriate datatype\n",
      "\n",
      "0 NaT added to list\n",
      "257 NaT added to list\n",
      "Date column \"bp_date\" in sheet \"patient BP\" has been converted to appropriate datatype\n",
      "\n",
      "194 NaT added to list\n",
      "Date column \"date_of_birth\" in sheet \"patients\" has been converted to appropriate datatype\n",
      "\n",
      "\n",
      "No records found in the data frame that match these enroll IDs:\n",
      "========================================\n",
      "Series([], Name: enrollId, dtype: object)\n",
      "Failed to add enrollID to 2 rows with indexes:\n",
      "========================================\n",
      "Int64Index([840, 983], dtype='int64')\n",
      "Added \"enrollID\" column to sheet \"patient_enrollment_records\"\n",
      "Could not find a least missing/most recent row for enrollId: nan\n",
      "Reduced sheet \"patient_enrollment_records\" from 1965 rows to 1395 rows by filtering most recent dates with least missing\n",
      "\n",
      "Records for all patients found in the data frame. Yay!\n",
      "\n",
      "Failed to add enrollID to 919 rows with indexes:\n",
      "========================================\n",
      "Int64Index([    4,     7,     8,    10,    11,    12,    13,    14,    15,\n",
      "               21,\n",
      "            ...\n",
      "            26026, 26027, 26055, 26134, 26135, 26138, 26142, 26143, 26144,\n",
      "            26145],\n",
      "           dtype='int64', length=919)\n",
      "Added \"enrollID\" column to sheet \"patient weights\"\n",
      "Could not find a least missing/most recent row for enrollId: nan\n",
      "Reduced sheet \"patient weights\" from 26202 rows to 1308 rows by filtering most recent dates with least missing\n",
      "\n",
      "Records for all patients found in the data frame. Yay!\n",
      "\n",
      "Failed to add enrollID to 423 rows with indexes:\n",
      "========================================\n",
      "Int64Index([   8,   13,   14,   18,   19,   35,   42,   92,  100,  120,\n",
      "            ...\n",
      "            6719, 6921, 6949, 6990, 6997, 7010, 7014, 7015, 7016, 7105],\n",
      "           dtype='int64', length=423)\n",
      "Added \"enrollID\" column to sheet \"patient BNP\"\n",
      "Could not find a least missing/most recent row for enrollId: nan\n",
      "Reduced sheet \"patient BNP\" from 7114 rows to 1103 rows by filtering most recent dates with least missing\n",
      "\n",
      "Records for all patients found in the data frame. Yay!\n",
      "\n",
      "Failed to add enrollID to 100 rows with indexes:\n",
      "========================================\n",
      "Int64Index([  38,  118,  160,  258,  259,  306,  404,  405,  406,  556,  580,\n",
      "             785,  991, 1027, 1190, 1279, 1280, 1381, 1393, 1479, 1525, 1615,\n",
      "            1663, 1798, 1803, 1950, 2147, 2278, 2280, 2286, 2347, 2377, 2388,\n",
      "            2446, 2526, 2568, 2666, 2667, 2714, 2812, 2813, 2814, 2964, 2988,\n",
      "            3193, 3399, 3435, 3598, 3687, 3688, 3789, 3801, 3887, 3933, 4024,\n",
      "            4394, 4866, 4867, 4883, 5075, 5076, 5109, 5111, 5113, 5545, 5547,\n",
      "            5557, 5782, 5787, 5892, 5895, 5896, 5897, 5931, 5940, 5941, 5971,\n",
      "            6032, 6034, 6035, 6039, 6082, 6140, 6169, 6215, 6318, 6360, 6362,\n",
      "            6363, 6414, 6500, 6714, 6724, 6728, 7382, 7383, 7384, 7385, 7386,\n",
      "            7391],\n",
      "           dtype='int64')\n",
      "Added \"enrollID\" column to sheet \"Cardiac_Meds\"\n",
      "Could not find a least missing/most recent row for enrollId: nan\n",
      "Reduced sheet \"Cardiac_Meds\" from 8728 rows to 1092 rows by filtering most recent dates with least missing\n",
      "\n",
      "Records for all patients found in the data frame. Yay!\n",
      "\n",
      "Failed to add enrollID to 507 rows with indexes:\n",
      "========================================\n",
      "Int64Index([   64,    70,    72,    74,    76,    78,    79,    80,    81,\n",
      "               82,\n",
      "            ...\n",
      "            10696, 10697, 10698, 10699, 10738, 10739, 10740, 10741, 10742,\n",
      "            10743],\n",
      "           dtype='int64', length=507)\n",
      "Added \"enrollID\" column to sheet \"patient labs\"\n",
      "Could not find a least missing/most recent row for enrollId: nan\n",
      "Reduced sheet \"patient labs\" from 10754 rows to 1233 rows by filtering most recent dates with least missing\n",
      "\n",
      "Records for all patients found in the data frame. Yay!\n",
      "\n",
      "Failed to add enrollID to 372 rows with indexes:\n",
      "========================================\n",
      "Int64Index([   0,   13,   23,   28,   44,   69,   73,   77,   90,   91,\n",
      "            ...\n",
      "            4594, 4595, 4612, 4809, 4813, 4815, 4818, 4821, 5296, 5602],\n",
      "           dtype='int64', length=372)\n",
      "Added \"enrollID\" column to sheet \"patient BP\"\n",
      "Could not find a least missing/most recent row for enrollId: nan\n",
      "Reduced sheet \"patient BP\" from 6175 rows to 1058 rows by filtering most recent dates with least missing\n",
      "\n",
      "\n",
      "\n",
      "Merged sheet \"patient weights\" with the full dataframe and changed the row number by -85\n",
      "Merged sheet \"patient BNP\" with the full dataframe and changed the row number by -216\n",
      "Merged sheet \"Cardiac_Meds\" with the full dataframe and changed the row number by -171\n",
      "Merged sheet \"patient labs\" with the full dataframe and changed the row number by -2\n",
      "Merged sheet \"patient BP\" with the full dataframe and changed the row number by -141\n",
      "\n",
      "\n",
      "DATA MERGE IS COMPLETE\n"
     ]
    }
   ],
   "source": [
    "# %load Pipeline_clean.py\n",
    "%load_ext autoreload\n",
    "%autoreload 2\n",
    "import pandas as pd\n",
    "import numpy as np\n",
    "from data_merge import *\n",
    "from Clean_Fun import *\n",
    "\n",
    "# NOTE have to use remove_invalid_rows() inside ALex's function,\n",
    "# before we remove patient name\n",
    "# %% Load dataset\n",
    "\n",
    "live_path='Data/Cardiac Program_M.xlsx'\n",
    "archive_path='Data/Cardiac Program_Archive.xlsx'\n",
    "live_sheet_pkl='pickle_jar/live_sheets.pkl'\n",
    "archive_sheet_pkl='pickle_jar/archive_sheets.pkl'\n",
    "datecol_pkl='pickle_jar/datecols.pkl'\n",
    "df = sheet_merge(live_path, archive_path,\n",
    "    live_sheet_pkl, archive_sheet_pkl, datecol_pkl)\n"
   ]
  },
  {
   "cell_type": "code",
   "execution_count": 7,
   "metadata": {},
   "outputs": [],
   "source": [
    "df.to_csv(\"Data/after_merge.csv\")"
   ]
  },
  {
   "cell_type": "markdown",
   "metadata": {},
   "source": [
    "Apply the cleaning function to the data frame."
   ]
  },
  {
   "cell_type": "code",
   "execution_count": 3,
   "metadata": {},
   "outputs": [
    {
     "name": "stdout",
     "output_type": "stream",
     "text": [
      "EF less than 0 set to None\n",
      "EF less than 0 set to None\n",
      "EF less than 0 set to None\n",
      "EF less than 0 set to None\n",
      "EF less than 0 set to None\n",
      "EF less than 0 set to None\n",
      "EF less than 0 set to None\n",
      "EF less than 0 set to None\n",
      "EF less than 0 set to None\n",
      "EF less than 0 set to None\n",
      "Couldn't extract EF so set to na_val\n",
      "51 (30 -35)\n",
      "num missing 383\n",
      "value counts before zero and one assignment: 0                                                      383\n",
      "lisinopril 5mg qd                                       41\n",
      "none                                                    35\n",
      "lisinopril 2.5mg qd                                     34\n",
      "losartan 50mg qd                                        21\n",
      "lisinopril 10mg qd                                      20\n",
      "losartan 100mg qd                                       19\n",
      "losartan 25mg qd                                        18\n",
      "lisinopril 20mg qd                                      12\n",
      "enalapril 5mg qd                                         8\n",
      "losartan potassium oral tablet 50 mg qd                  7\n",
      "enalapril 10mg qd                                        6\n",
      "enalapril 20mg qd                                        4\n",
      "lisinopril                                               4\n",
      "lisinopril 5mg bid                                       4\n",
      "enalapril 2.5mg qd                                       3\n",
      "enalapril maleate oral tablet 5 mg qd                    3\n",
      "losartan potassium oral tablet 50 mg daily               3\n",
      "lisinopril 2.5 mg qd                                     3\n",
      "lisinopril 5mg q12h                                      2\n",
      "lisinopril 40mg qd                                       2\n",
      "lisinopril 5 mg qd,                                      2\n",
      "lisinopril oral tablet 10 mg qd                          2\n",
      "lisinopril 5 mg qd                                       2\n",
      "cozaar 100mg qd                                          2\n",
      "enalapril maleate oral tablet 5 mg                       2\n",
      "enalapril 5mg bid                                        2\n",
      "lisinopril oral tablet 40 mg daily                       2\n",
      "losartan potassium oral tablet 25 mg, qd-every day       2\n",
      "verapamil hcl er 180mg qd                                2\n",
      "                                                      ... \n",
      "losartan 50mg*0.5tab qd                                  1\n",
      "losartan potassium oral tablet 50 mg, qd2-every day      1\n",
      "lisinopril 5 bid                                         1\n",
      "lisinopril 2.5mg po daily                                1\n",
      "none due renal impairment d/c papers                     1\n",
      "lisinopril oral tablet 2.5 mg qd                         1\n",
      "lisinopril 5mg two times per day                         1\n",
      "allergic to ace                                          1\n",
      "isosorbide dinitrate 5mg q12h                            1\n",
      "enalapril 20 mg qd                                       1\n",
      "norvasc 10 mg qd                                         1\n",
      "lorsartan potassium 50mg qd                              1\n",
      "enalapril maleate oral tablet 10 mg                      1\n",
      "lisinopril tablet 5 mg od                                1\n",
      "losartan potassium oral tab 100mg qd                     1\n",
      "lisinopril oral tablet 2.5 mg, qd                        1\n",
      "enalapril maleate oral tablet 20 mg qd                   1\n",
      "enalapril 2.5mg q12h                                     1\n",
      "isosorbide mono 30mg qd2                                 1\n",
      "enalapril maleate  5 mg qd                               1\n",
      "valsartan 320mg qd                                       1\n",
      "isosorbide mononitrate 10mg daily                        1\n",
      "lisinopril 2.5mg qd  hold if b/p <90/50                  1\n",
      "enalapril 20mg q12h                                      1\n",
      "losartan potassium-hctz oral tablet 50-12.5 mg qd        1\n",
      "enalapril 2,5mg qd                                       1\n",
      "vasotec 5mg qd                                           1\n",
      "ramipril 5mg qd d/c'd 2/2 to chronic cough               1\n",
      "benicar tablet 20 mg (olmesartan medoxomil) qd           1\n",
      "enalapril                                                1\n",
      "Name: ace, Length: 139, dtype: int64\n",
      "zero values: ['none; allergic to lisinopril', 'none', 'none due renal impairment d/c papers', 'allergic to ace', 'none; allergic to lisinopril', 'allergic to ace; \\non arb: 10/23/17 inc. to lorsartan potassium 100mg qd', 'no ace or arb']\n",
      "Values set to 1.0: \n",
      " ['enalapril', 'entresto tablet 24-26 mg (sacubitril-valsartan) bid', 'asdf', 'losartan potassium oral tablet 25 mg', 'enalapril 20mg daily', 'amlodipine 5 mg qd, entresto 24-26mg q12', 'lisinopril oral tablet 40 mg', 'enalapril 10 mg bid', 'lisinopril oral tablet 20 mg qd', 'enalapril maleate oral tab 10mg bid', 'losartan potassium oral tablet 50 mg daily', 'lisinopril 5 mg qd', 'enalapril 10mg qd', 'losartan 100-25 mg qd', 'lisinopril 5mg', 'enalapril maleate oral tablet 5 mg qd', 'lisinopril 5mg - bid', 'lisinopril 10 mg qd', 'hydralazine 25 tid; imdur 30 qd', 'losartan 100mg qd', 'lisinopril oral tablet 10 mg daily', 'lisinopril 20mg q12h', 'lisinopril 2.5mg po daily', 'lisinopril 5mg two times per day', 'losartan hctz tablet 50-12.5 mg qd', 'vasotec 5mg qd', 'enalapril 20 mg qd', 'enalapril 5mg bid', 'lorsartan potassium 50mg qd', 'enalapril 2.5mg q12h', 'lisinopril tablet 5 mg od', 'losartan potassium oral tab 100mg qd', 'lisinopril 5mg daily', 'lisinopril 5 mg qd,', 'isosorbide mono 30mg qd2', 'enalapril maleate oral tablet 2.5 mg', 'isosorbide mononitrate 10mg daily', 'lisinopril 2.5mg qd  hold if b/p <90/50', 'enalipiril', 'enalapril 5mg qd', 'lisinopril 2.5mg od', 'lisinopril 40mg po daily', 'benicar tablet 20 mg (olmesartan medoxomil) qd', 'enalapril 10 q12h', 'losartan potassium oral tablet 50mg*2tab  qd', 'lisinopril-hydrochlorothiazide tablet 20-25 mg qd', 'losartan 100 mg qd', 'losartan 25mg +50mg qd', 'lisinopril oral tablet 10 mg qd', 'lisinopril 20g qd', 'losartan 50mg', 'lisinopril 2.5 mg qd,', '10/23/17 add lisinopril 5mg qd', 'enalapril maleate oral tablet 10 mg, qd', 'lisinopril 40mg qd', 'valsartan 320mg qd', 'lisinopril 2.5 mg qd', 'cozaar 50mg qd', 'lisinopril oral tablet 10 mg', 'losartan 50mg*0.5tab qd', 'lisinopril 10mg bid', 'lisinopril 5mg*3tab bid hold for bp < 100', 'verapamil hcl er 180mg qd', 'lisinopril 2.5mg qd', 'vasotec 10mg qd', 'amlodopine 2.5 mg qd', 'lisinopril 5mg ds', 'enalapril maleate oral tablet 0.5 mg', 'enalapril maleate oral tablet 2.5 mg qd', 'lisinopril oral tablet 5 mg daily', 'enalapril 2.5 mg  qd', 'lisinopril oral tablet 20 mg', 'hydralazine 100mg q6h', 'losartan 50mg qd', 'lisinopril 5 bid', 'losartan 150mg qd', 'coreg 3.125mg q12h', 'ramipril 2.5mg qd', 'losartan 25 mg daily', 'entresto tablet 97-103 mg (sacubitril-valsartan) bid', 'lisinopril 5mg qd', 'losartan potassium oral tablet 50 mg qd \"hold if syst bp is <110\"', 'enalapril 2.5mg qd', 'quinapril 20mg qd', 'losartan potassium oral tablet 25 mg, qd-every day', 'losartan potassium oral tablet 50 mg qd', 'lisinopril oral tablet 2.5 mg qd', 'lisinopril 5mg bid', 'enalapril 20mg qd', 'norvasc 10 mg qd', 'arb: losartan 50mg qd', 'isosorbide dinitrate 5mg q12h', 'lisinopril oral tablet 40 mg daily', 'enalapril maleate oral tablet 10 mg', 'enalapril 2,5mg qd', 'enalapril maleate oral tablet 20 mg qd', 'lisinopril', 'losartan potassium oral tablet 100 mg daily', 'enalapril maleate  5 mg qd', 'enalapril 5mg q12h', 'enalapril 20mg q12h', 'losartan potassium-hctz oral tablet 50-12.5 mg qd', 'lisinopril 5mg q12h', \"ramipril 5mg qd d/c'd 2/2 to chronic cough\", 'enalapril maleate oral tablet 5 mg', 'losartan potassium oral tablet 50 mg, qd2-every day', 'ramipril 5mg qd', 'entresto 24 mg-26 mg tablet bid', 'lisinopril 2.5mg', 'lisinopril 10mg qd', 'lisinopril oral tablet 2.5 mg daily', 'lisinopril 20mg qd', 'cozaar 100mg qd2', 'enalapril 2.5mg', 'lisinopril 20 mg', 'lisinopril 40 mg qd', 'arb-losartan 50mg qd', 'enalapril 5 mg qd', 'losartan 25mg qd', 'benazepril 40mg bid2; clopidogrel 75mg qd2', 'enalapril 2.5mg daily', 'lisinopril 5mg qd\\nlosartan 50mg qd', 'valsartan 160mg qd', 'lisinopril oral tablet 20 mg daily', 'lisinopril oral tablet 20 mg*2 twice daily', 'lisinopril oral tablet 5 mg, qd', 'cozaar 100mg qd', 'enalapril maleate oral tablet 20 mg, bid', 'losartan 25 mg tablet\\nsig: give 1 tablet (25 mg) by oral route once daily', 'n/a on records', 'lisinopril oral tablet 5 mg qd', 'lisinopril oral tablet 2.5 mg, qd']\n",
      "0.0    423\n",
      "1.0    341\n",
      "Name: ace, dtype: int64\n",
      "num missing 194\n",
      "value counts before zero and one assignment: 0                                                                                           194\n",
      "metoprolol 25mg qd                                                                           38\n",
      "metoprolol 50mg qd                                                                           33\n",
      "metoprolol 25mg q12h                                                                         22\n",
      "none                                                                                         20\n",
      "metoprolol 100mg qd                                                                          18\n",
      "metoprolol 50mg q12h                                                                         17\n",
      "metoprolol 25mg bid                                                                          13\n",
      "coreg 6.25mg bid                                                                             10\n",
      "carvedilol 25mg q12h                                                                         10\n",
      "carvedilol 12.5mg q12h                                                                       10\n",
      "carvedilol 6.25mg q12h                                                                        9\n",
      "metoprolol 50mg bid                                                                           9\n",
      "metoprolol 200mg qd                                                                           8\n",
      "carvedilol 6.25mg bid                                                                         8\n",
      "metoprolol 100mg q12h                                                                         7\n",
      "carvedilol 12.5mg bid                                                                         7\n",
      "carvedilol 3.125mg bid                                                                        7\n",
      "carvedilol 25mg bid                                                                           6\n",
      "labetalol 200mg q12h                                                                          6\n",
      "carvedilol 3.125mg q12h                                                                       6\n",
      "atenolol 25mg qd                                                                              4\n",
      "carvedilol oral tablet 6.25 mg q12h                                                           4\n",
      "coreg 6.25mg q12h                                                                             4\n",
      "metoprolol 25mg *0.5tab q12h                                                                  4\n",
      "metoprolol 50mg q8h                                                                           3\n",
      "metoprolol 25mg                                                                               3\n",
      "metoprolol tartrate oral tablet 25 mg bid                                                     3\n",
      "atenolol 100mg qd                                                                             3\n",
      "metoprolol 25mg *0.5tab qd                                                                    3\n",
      "                                                                                           ... \n",
      "atenolol-chlorthalidone tablet 100-25 mg qd                                                   1\n",
      "metoprolol tartrate 25mg *0.5tabqd                                                            1\n",
      "carvedilol 6.25mgbid                                                                          1\n",
      "metoprolol succ er 50 mg q12h                                                                 1\n",
      "coreg 3.125mg q12h                                                                            1\n",
      "metoprolol 12.5 mg q12, coreg 6.25 mg q12,                                                    1\n",
      "bystolic tab 5mg qd                                                                           1\n",
      "metoprolol 25mg  q8h hold if sbp <90 or hr <60                                                1\n",
      "coreg 25 bid                                                                                  1\n",
      "carvedilol oral tablet 6.25 mg, 0.5 tablets twice daily                                       1\n",
      "carvedilol 12.5 mg two times per day                                                          1\n",
      "metoprolol 25mg q12h2                                                                         1\n",
      "metoprolol 25mg *3tab q12h                                                                    1\n",
      "rera                                                                                          1\n",
      "metoprolol 25mg*0.5tab qd                                                                     1\n",
      "metoprolol 100mg q8h                                                                          1\n",
      "carvedilol 6.25mg two times a day                                                             1\n",
      "metoprolol 50 mg *2tab bid                                                                    1\n",
      "coreg 3.125mg qd                                                                              1\n",
      "metoprolol succinate er oral tablet extended release 24 hour 50 mg qd                         1\n",
      "metoprolol succ 25 mg daily                                                                   1\n",
      "metoprolol 50mg  qd                                                                           1\n",
      "labetolol 200mg bid                                                                           1\n",
      "metoprolol tartrate 50 mg tablet sig: give 1 tablet (50 mg) by oral route every 12 hours      1\n",
      "atenolol oral tablet 50 mg, qd-every day                                                      1\n",
      "metoprolol succ er  25 mg qd                                                                  1\n",
      "metoprolol 25mg q12 h                                                                         1\n",
      "metoprolol 50mg+25mg qd                                                                       1\n",
      "metoprolol 25mg *1.5tab bid                                                                   1\n",
      "carvedilol oral tab 25 mg bid                                                                 1\n",
      "Name: bb, Length: 258, dtype: int64\n",
      "zero values: ['none']\n",
      "Values set to 1.0: \n",
      " ['metoprolol tartrate oral tablet 25 mg, q12h  if systolic bp less than 100 then hold medication \\n\\nif pulse less than 60 then hold medication', 'metoprolol tartrate oral tab 75mg bid', 'metoprolol tartrate oral tablet 25 mg* 0.5tab, q6h-every 6 hours', 'metoprolol tartrate oral tablet 25mg qd', 'toprol 100mg +50mg qd', 'toprol xl 25mg daily', 'carvedilol 25mg two times a day', 'metoprolol 25mg', 'metoprolol tartrate oral tab 25mg q12h', 'carvedilol oral tablet 3.125 mg bid', 'atenolol oral tablet 25 mg, qd-every day', 'metoprolol  succ er 25mg qd', 'coreg 3.125 po q12h', 'carvedilol oral tablet 3.125 mg every 12 hours', 'labetalol 200mg *2tab bid', 'carvedilol 6.25mg bid', 'metoprolol er 100mg qd', 'metoprolol tartrate oral tablet 50 mg tid', 'metoprolol 50mg qd\\ntoprol 25mg qd', 'carvedilol 3.125mg 2x', 'carvedilol 3.125mg', 'metoprolol succinate 25 mg qd', 'carvedilol 6.25 mg bid  hold if bp <90/60', 'metoprolol 50 mg qd', 'toprol 50 qd', 'metoprolol 50mg bid', 'metoprolol 100mg + 25mg qd', 'labetalol 200mg *2tab q12h', 'metoprolol er 50mg qd\\nmetoprolol tartrate 25mg qd\\nsotalolhcl  80mg qd', 'coreg 6.25 bid', 'metoprolol tartrate 50mg q12h', 'labetalol 200mg*2tab tid', 'labetalol 200mg tid', 'carvedilol 6.25mg two times a day', 'metoprolol succ er 50 mg qd', 'carvedilol 3.125mg bid', 'carvedilol oral tablet 6.25 mg', 'atenolol 25mg po daily', 'metoprolol  25mg q12h', 'carvedilol 25mg twice daily', 'metoprolol tartrate oral tablet 25 mg 3 tablets every 12 hours', 'carvedilol12.5mg q12h', 'toprol 25mg *0.5tab qd', 'carvedilol oral tablet 6.25 mg, 0.5 tablets twice daily', 'metoprolol succ 50mg qd', 'atenolol oral tablet 100 mg daily', 'toprol xl oral tablet extended release 24 hour 25 mg, qd-every day', 'labetalol 200mg q8h', 'amiodarone 200 mg qd', 'metoprolol 100mg q12h', 'toprol xl 50mg qd', 'carvedilol 3.125mg q12h', 'toprol 100mg qd', 'metoprolol 50 mg bid,', 'metoprolol 25 mg daily', 'carvedilol oral tablet 25 mg every 12 hours', 'metoprolol tartrate oral tablet 100 mg bid', 'labetalol 100mg q8h', 'coreg 25mg bid', 'metoprolol 25mg p.o. bid', 'metoprolol 50 mg  q12h', 'coreg 6.25 mg bid', 'coreg 3,125mg bid', 'metoprolol tartrate 25mg  q12h', 'metoprolol 50mg q12h', 'metoprolol succinate er oral tablet extended release 24 hour 25 mg, qd-every day', 'metoprolol 25mg  bid', 'metoprolol 25mg *0.5tab qd', 'metoprolol 25mg  q12h', 'coreg 3.125mg twice daily', 'labetolol 100mg po q12', 'toprol 25 mg daily', 'metoprolol 50 mg\\t q12h hours hold if systolic bp is less than 100 and/or pulse is less than 60', 'metoprolol tart 100mg q12h', 'coreg 25mg q12h', 'carvedilol 12.5mg *3tab q12h', 'metoprolol er 50mg qd', 'metoprolol 25mg *0.5tab bid', 'atenolol 25mg qd', 'metoprolol tartrate 25mg bid', 'metoprolol tartrate oral tablet 50 mg', 'metoprolol succ er 100mg qd', 'carvedilol 12.5mg*0.5tab q12h', 'toprol 25 mg qd', 'labetalol hcl oral tablet 200 mg daily', 'carvedilol 12.5mg bid2', 'metoprolol 100mg bid', 'coreg 3.125mg bid', 'metoprolol succinate er oral tablet extended release 24 hour 50 mg, qd-every day', 'coreg 6.25 mg*2tab bid', 'lopressor 50mg q12h', 'metoprolol 100mg po daily', 'carvedilol 12.5 mg 1 tablet (12.5 mg) by oral route every 12 hours', 'metoprolol 25mg*2tb q12h', 'carvedlol 12.5mg q12h', 'carvedilol 3.125mg*0.5tab q12h  hold if b/p <100/60, pulse <60', 'metoprolol 25mg bid', 'carvedilol 6.25mg two times per day', 'labetalol hcl oral tablet 100 mg every 8 hours', 'metoprolol 25 mg er qd,', 'carvedilol oral tablet 6.25 mg bid', 'toprol xl 12.5mg qd', 'labetalol 200mg *2tab q8h', 'carvedilol 6.25mgbid', 'labetalol', 'metoprolol succinate er oral tablet extended release 24 hour 25 mg', 'metoprolol 75mg bid', 'metoprolol tartrate 25mg q12h', 'labetalol 200 mg bid', 'carvedilol', 'metoprolol 25 mg bid', 'coreg 12.5mg bid', 'labetalol 100mg q12h', 'metoprolol tartrate oral tablet 25 mg, bid-twice daily', 'metoprolol', 'toprol 50mg qd', 'bystolic 10mg qd', 'carvedilol oral tab 25 mg bid', 'metoprolol succ er 25 mg qd', 'metoprolol 25mg  qd', 'metoprolol 25mg q12h', 'carvedilol oral tablet 12.5 mg', 'labetalol 300mg twice daily', 'metoprolol 200mg q12h', 'carvedilol 25mg*0.5tab bid', 'toprol 25mg qd', 'coreg 3.125 mg bid,', 'coreg 25mg q12', 'metoprolol succinate er oral tablet extended release 24 hour 25 mg qd', 'metoprolol 12.5mg qd', 'metoprolol tartrate 25mg *0.5tabqd', 'coreg 3.125 mg bid', 'metoprolol 100mg q8h', 'metoprolol tartrate oral tablet 50 mg, q8h-every 8 hours  if systolic < 110 then hold medications and call md if hr < 60 hold medication and call md', 'metoprolol tartrate oral tablet 25 mg  - bid', 'bisoprolol 5mg qd', 'coreg 6.25mg qd', 'metoprolol 50 twice daily', 'carvedilol oral tablet 3.125 mg', 'atenolol 100mg qd', 'metoprolol succ er 50 mg q12h', 'coreg 3.125mg q12h', 'metoprolol 12.5 mg q12, coreg 6.25 mg q12,', 'coreg 3.125mg qd', 'metoprolol 25mg *1.5tab bid', 'metoprolol 50mg+25mg qd', 'metoprolol 25mg q12 h', 'metoprolol succ er  25 mg qd', 'atenolol oral tablet 50 mg, qd-every day', 'metoprolol 25mg q8h', 'metoprolol 75mg q12h', 'labetolol 200mg bid', 'metoprolol tartrate 50 mg tablet sig: give 1 tablet (50 mg) by oral route every 12 hours', 'metoprolol 50mg  qd', 'metoprolol succ 25 mg daily', 'metoprolol succinate er oral tablet extended release 24 hour 50 mg qd', 'metoprolol 50 mg *2tab bid', 'coreg 6.25mg q12h', 'bystolic tab 5mg qd', 'metoprolol tartrate oral tablet 25 mg', 'coreg 6.25mg bid', 'carvedilol 12.5 mg bid', 'carvedilol 12.5 mg', 'metoprolol 25mg*0.5tab qd', 'atenolol 50mg ds', 'carvedilol oral tablet 25 mg bid', 'metoprolol tartrate oral tablet 50 mg q12 h', 'carvedilol 6.25mg q12h', 'metoprolol succ 25mg qd', 'metoprolol 100mg two times per day', 'metoprolol 25 mg*0.5tab qd', 'metoprolol 25mg *0.5tab q12h', 'rera', 'metoprolol 25mg *3tab q12h', 'metoprolol 25mg q12h2', 'labetalol 200mg bid', 'carvedilol 12.5 mg two times per day', 'metoprolol succinate er oral tablet extended release 24 hour 100 mg daily', 'metoprolol 200mg qd', 'labetalol 200mg q12h', 'carvedilol 25mg q12h', 'carvedilol 12.5mg bid', 'metoprolol 50mg q8h', 'atenolol-chlorthalidone tablet 100-25 mg qd', 'coreg 25 bid', 'metoprolol 25mg  q8h hold if sbp <90 or hr <60', 'metoprolol 25mg*2tab q12h', 'metoprolol 100mg  qd', 'metoprolol 25mg*2tab  qd', 'metoprolol 25mg po daily', 'metoprolol tartrate oral tablet 50 mg, bid', 'labetalol 300 mg bid', 'metoprolol succ er 25mg qd', 'metoprolol 100 mg qd', 'metoprolol 75mg qd', 'carvedilol 3.125mg qd, metoprolol tart 50mg q12h', 'coreg 12.5mg q12h', 'coreg 3.125mg two times a day', 'metoprolol 25mg *0.5tab two times per day', 'metoprolol er 50 mg qd', 'carvedilol oral tablet 6.25 mg q12h', 'carvedilol 12.5mg q12h', 'carvedilol 25mg bid', 'metoprolol 25mg qd', 'metoprlol 25mg qd', 'metoprolol 25mg *0.5tab two times a day', 'labetalol 200 mg q12hrs', 'carvedilol 6.25 mg 1 tablet (6.25 mg) by oral route 2 times per day', 'metoprolol succ 100mg qd', 'metoprolol tartrate 200mg qd(05292018-06282018)', 'metoprolol100mg q12h', 'metoprolol  50 mg qd', 'metoprolol tartrate oral tablet 25 mg bid', 'metoprolol 50 mg bid', 'atenolol oral tablet 25 mg 0.5 tablet qd', 'metoprolol tartrate 25 mg two times per day', 'metoprolol 200 mg qd', 'labetalol 300mg q8h', 'cravedilol 25mg q12h\\nmetoprolol 50mg qd', 'metoprolol 50mg qd', 'metoprolol tartrate oral tablet 25mg bid', 'carvedilol 3.125 mg q12h', 'carvedilol 6.25mg bid2', 'metoprolol succinate er  25mg qd', 'metoprolol 50mg', 'metoprolol 50mg q12h,', 'coreg 6.25mg q12,', 'carvedilol 6.25mg q8h', 'metoprolol 25 mg q12h', 'metoprolol tartrate 25mg *0.5  two times per day', 'coreg cr capsule extended release 24 hour 10 mg (carvedilol phosphate er) qd', 'labetalol 300mg q12h', 'metoprolol tartrate oral tablet 25 mg, q12h-every 12 hours', 'metoprolol 25mg *3tab qd', 'metoprolol succinate 25mg qd', 'metoprolol tartrate oral tablet 100 mg, q12h', 'metoprolol 100mg qd', \"bisoprolol d/c'd 11/20/17\", 'carvedilol 6.25mg qd', 'bisoprolol 5 mg qd', 'carvedilol 25mg two times per day', 'atenolol 25 mg 1 tablet once daily hold for bp < 110/70', 'metoprolol 50 mg q12h', 'metoprlol 50mg qd', 'metoprolol tartrate oral tablet 50 mg, tid hold if systolic below 120 diastolic below 60', 'metoprolol tartrate oral tablet 50 mg, q12h', 'carvedilol 6.25 mg bid', 'cravedilol 25mg q12h', 'labetalol 300 mg q 8 h,', 'n/a on records', 'carvedilol 3.125 mg bid', 'toprol xl 25mg qd', 'toprol 25mg*0.5tab qd', 'metoprolol succinate er 100 mg  once daily  hold for hr <60, bp < 100 systolic and notify md/np', 'metoprolol tartrate oral tab 100mg q12h']\n",
      "1.0    547\n",
      "0.0    217\n",
      "Name: bb, dtype: int64\n",
      "num missing 251\n",
      "value counts before zero and one assignment: 0                                                                             251\n",
      "lasix 40mg qd                                                                  45\n",
      "furosemide 40mg qd                                                             38\n",
      "furosemide 20mg qd                                                             36\n",
      "lasix 20mg qd                                                                  34\n",
      "none                                                                           19\n",
      "furosemide 40mg bid                                                            15\n",
      "furosemide 80mg qd                                                             10\n",
      "lasix 40mg bid                                                                  8\n",
      "torsemide 20mg qd                                                               7\n",
      "furosemide oral tablet 40 mg qd                                                 7\n",
      "furosemide 20mg bid                                                             6\n",
      "furosemide 80mg bid                                                             5\n",
      "furosemide 40mg q12h                                                            4\n",
      "furosemide oral tablet 20 mg, qd                                                4\n",
      "furosemide oral tablet 20 mg                                                    4\n",
      "spironolactone 25mg qd                                                          4\n",
      "0                                                                               3\n",
      "furosemide 60mg qd                                                              3\n",
      "bumetanide 2mg qd                                                               3\n",
      "torsemide 20mg *2tab qd                                                         3\n",
      "spironolactone 25mg qd\\nfurosemide 40mg qd                                      3\n",
      "lasix 40 mg qd                                                                  3\n",
      "lasix                                                                           3\n",
      "furosemide                                                                      2\n",
      "lasix 80mg bid                                                                  2\n",
      "torsemide 100 mg  two times per day                                             2\n",
      "torsemide 20mg*2tab qd                                                          2\n",
      "furosemide oral tablet 20 mg qd                                                 2\n",
      "lasix 20mg qd\\nspironolactone 25mg qd                                           2\n",
      "                                                                             ... \n",
      "metolazone 2.5mg daily                                                          1\n",
      "lasix 20 mg every 12 hours                                                      1\n",
      "furosemide 20mg two times a day                                                 1\n",
      "lasix oral tablet 60 mg bid                                                     1\n",
      "furosemide 40mg qd\\nfurosemide 80mg qd                                          1\n",
      "torsemide 80mg qd\\ntorsemide 20mg qd ( until 09/05)\\nspironlactone 25mg qd      1\n",
      "lasix 40mg qd; eplerenone 25mg qd\\nspironolactone 25mg qd                       1\n",
      "lasix 40mg qd\\nspironolactone 100mg qd                                          1\n",
      "furosemide 60mg qd\\nfurosemide 80mg qd                                          1\n",
      "lasix 80mg qd\\nmetolazone 2.5mg every other day                                 1\n",
      "furosemide 20mg and spironolactone 25mg daily                                   1\n",
      "lasix 40mg q12h(until 05242018)\\nlasin 20mg qd(on hold)                         1\n",
      "sildenafil 20 mg q 8h,                                                          1\n",
      "lasix oral tablet 40 mg qd                                                      1\n",
      "bumetanide 1mg  two times per day\\nmetolazone 5mg qd                            1\n",
      "spironolactone 25mg *0.5tab qd                                                  1\n",
      "furosemide 80 mg bid                                                            1\n",
      "lasix 40mg p.o. daily                                                           1\n",
      "quinapril 20mg qd                                                               1\n",
      "spironolactone 25mg bid\\nlasix 20mg qd                                          1\n",
      "furosemide 20 mg qd\\nspironolactone 25mg qd                                     1\n",
      "lasix 60mg bid                                                                  1\n",
      "furosemide 40mg qd\\nlasix 40mg qd (untill 08/03)                                1\n",
      "furosemide 40 mg                                                                1\n",
      "spironolactone 25mg qd; bumetadine 2mg bid; metolazone 2.5mg tid2               1\n",
      "furosemide 80mg 1x                                                              1\n",
      "furosemide oral tablet 20 mg qd\\nspironolactone 25mg qd                         1\n",
      "furosemide 20mg daily, special instructions:hold for sbp <100*** ▼              1\n",
      "furosemide 80mg qd\\nmetolazone 5 mg qd                                          1\n",
      "furosemide 40mg *1.5tab q12h                                                    1\n",
      "Name: diuretics, Length: 245, dtype: int64\n",
      "zero values: ['lasix 40mg qd; eplerenone 25mg qd\\nspironolactone 25mg qd', 'none']\n",
      "Values set to 1.0: \n",
      " ['bumetanide 2mg bid', 'lasix 20 mg qd', 'spironolactone 25mg qd\\ntorsemide 100mg qd', 'furosemide oral tablet 40 mg, qd2 - every day', 'torsemide 40mg qd', 'spironolactone 25mg *0.5tab qd\\nfurosemide 80mg qd', 'bumetanide tab 2mg bid', 'lasix 20mg qd\\naldactone 25mg q48h\\nmetolazone 2.5mg q48h', 'lasix 40mg qd; aldactone 50mg qd', 'furosemide oral tablet 40 mg, qd', 'spironolactone 25mg*2tab qd\\ntorsemide 100mg 0.5tab bid', 'metolazone 2.5mg bid\\nspironolactone 25mg qd', 'furosemide 40mg qd\\nspirinolactone 25mg*0.5tab qd', 'furosemide oral tablet 20 mg', 'furosemid 20mg qd\\nlasix 20mg qd', 'metolazone 2.5mg qd  every mon, thu\\ntorsemide 20mg*2 tab qd with breakfast', 'furosemide 40mg qd\\nspironolactone 25mg bid', 'lasix oral tablet 40 mg', 'furosemide 80 mg every 12 hours', 'furosemide 20mg qd', 'furosemide 80mg qd every tue, thu, sat', 'spironolactone 50mg qd', 'lasix 40 mg qd spironolactone 25mg qd', 'lasix 60mg qd; aldactone 25mg qd', 'bumetanide 2mg qd', 'lasix 20mg qd\\nlasix 40mg qd', 'spironolactone 25mg qd\\nclopidogrel 75mg qd', 'torsemide 20mg *2tab qd\\nmetolazone 5mg q48h', 'furosemide oral tablet 20 mg, qd', 'furosemide oral tablet 40 mg qd', 'furosemide oral tablet 40 mg', 'furosemide 60mg qd', 'lasix 40mg qd\\nspironolactone 25mg every other day', 'furosemide  40 mg q12h', 'lasix 20 mg*2tab qd', 'furosemide tab 20mg qd', 'spironolactone 25mg*0.5tab qd\\nfurosemide 40mg qd', 'furosemide 80mg bid\\nspironolactone 50mg qd', 'bumex 1 mg qd', 'lasix 40mg qd \\nspironolactone 25mg qd', 'metolazone 2.5mg qd', 'lasix 20mg qd (06092018-06112018)', 'furosemide 40mg qd\\nspironolactone 25mg qd', 'lasix 20mg *2tb qd', 'lasix 60 mg bid', 'lasix 20 qd', 'metolazone 5mg qd  \\nfurosemide 40mg bid', 'spironolactone 25mg qd', 'torsemide 100mg bid', 'furosemide tab 40mg bid', 'lasix 20mg qd\\naldactone 25mg qd', 'furosemide', 'lasix 80mg bid, aldactone 25mg qd, acetazolamide 250mg bid.', 'metolazone 2.5mg po q48hrs\\nbumetanide 1mg *3tab bid', 'furosemide 40mg tid', 'furosemide 20mg*3tab  qd\\nbumetanide 2mg qd', 'furosemide oral tablet 20 mg daily', 'torsemide 80mg qd\\ntorsemide 20mg qd ( until 09/05)\\nspironlactone 25mg qd', 'furosemide oral tablet 40 mg qd\\nspironolactone 25 mg qd', 'torsemide 100mg qd', 'bumetanide oral tab 2mg qd', 'bumetanide 0.5mg q2d', 'lasix 20mg *3tab bid', 'lasix 20 mg qd,', 'bumetanide 3 mg qd,', 'lasix 40mg q48h', 'bumex 1mg', 'furosemide oral tablet 80 mg qd\\n11/18/17 zaroxolyn 5mg 1/2hr before lasix x 5days', 'lasix 80mg bid', 'furosemide 20mg *3tab qd', 'spironolactone 25mg*0.5tab qd\\nfurosemide 20mg qd', 'spironolactone 25mg qd- on hold x 7 days', 'lasix 20mg qd(until 08/05)\\nfurosemide 40mg qd', 'furosemide 40mg qd\\nlasix 40mg qd for 5 days(starting 05202018)', 'metolazone 2.5mg daily', 'bumetanide 1 mg*3tb qd', 'furosemide 40mg 2x', 'aldactone 25mg *0.5tab qd', 'lasix oral tablet 60 mg qd\\nspirinolactone 12.5mg qd\\n10/11/17 diuril 250mg orally added x 4 days', 'furosemide 60mg qd\\nfurosemide 80mg qd', 'spironolactone 25mg qd\\nfurosemide 80mg qd  2 times per week monday and thrusday', 'lasix 20mg *2tab bid', 'lasix 80 mg qd, metolazone 2.5 mg qd', 'furosemide 40mg qd hold if bp <90/50', 'furosemide 80mg bid', 'furosemide 20mg +40mg qd', 'furosemide 40 mg 2 times per day', 'lasix 20mg qd', 'lasix 20 mg every other day', 'lasix 40mg qd\\nspironolactone 25mg *0.5tab qd', 'spironolactone 25mg qd\\nfurosemide 40mg qd', 'lasix 40mgbid and zaroxolyn 2.5mg od', 'lasix 40mg bid', 'furosemide oral tablet 20 mg qd', 'torsemide 100mg q12h', 'lasix 40mg daily', 'torsemide 60mg qd\\nspironolactone 25mg qd', 'furosemide 40mg qd\\nspironolactine 25mg *0.5tab qd', 'furosemide 40 mg tablet sig: give 1 tablet (40 mg) by oral route 2 times per day', 'furosemide oral tablet 40 mg bid', 'spirolactone 25mg qd', 'torsemide 40mg po daily', 'lasix 20mg qd\\nfurosemide 40mg qd', 'bumex 2mg bid', 'furosemide 20mg *2tab qd', 'furosemide solution 40 mg/4ml - 20mg qd', 'furosemide 40mg*1.5tab 3 times per week', 'torsemide 100 mg  two times per day', 'lasix 20mg daily', 'lasix 40mg', 'lasix 20mg twice daily', 'lasix oral tablet 40 mg, qd', 'lasix oral tab 20mg bid', 'spironolactone 25mg qd\\nfurosemide 20mg qd', 'spironolactone 25mg qd furosemide 20mg qd', 'metolazone 2.5mg qd\\ntorsemide 10mg *3tab bid', 'furosemide 40mg *1.5tab q12h', 'bumetanide 2mg q12h', 'furosemide 80mg qd', 'furosemide 20mg every other day hold if bp less than ,100/60', 'cdre', 'furosemide 20mg*3tab qd', 'torsemide 80mg qd\\nmetolazone 2.5mg qd', 'lasix oral tablet 40 mg q12 h', 'furosemide 80mg q8h', 'lasix', 'furosemide 20mg  every other day', 'furosemide 40mg qd\\nfurosemide 40mg qd (untill 05142018)', 'lasix 40mg qd\\nquinapril 5mg qd', 'lasix 40mg*3tab  qd', 'reduce bumex to 2mg daily and hold spironolactone, touch base on 8/4 with labs', 'torsemide 20mg qd\\nspironolactone 25mg qd', 'furosemide 40mg+20mg qd', 'lasix 40 mg qd', 'lasix 80mg qd\\nmetolazone 2.5mg every other day', 'torsemide 20mg q12h', 'bumetanide 1mg bid', 'lasix 20mg  bid', 'lasix 20mg hs', 'lasix 40 mg q 12', 'lasix 20 mg every 12 hours', 'furosemide 40mg bid', 'furosemide 20mg two times a day', 'lasix 40mg p.o. daily', 'furosemide 80mg qd\\nmetolazone 5 mg qd', 'furosemide 20mg daily, special instructions:hold for sbp <100*** ▼', 'furosemide oral tablet 20 mg qd\\nspironolactone 25mg qd', 'furosemide oral tablet 20 mg, qd-daily', 'spironolactone 25mg qd; bumetadine 2mg bid; metolazone 2.5mg tid2', 'furosemide 40 mg', 'furosemide 40mg qd\\nlasix 40mg qd (untill 08/03)', 'lasix 60mg bid', 'furosemide 20 mg qd\\nspironolactone 25mg qd', 'torsemide 80mg qd', 'spironolactone 25mg bid\\nlasix 20mg qd', 'lasix 80mg qd', 'quinapril 20mg qd', 'furosemide 80 mg bid', 'furosemide 40mg qd\\nfurosemide 80mg qd', 'spironolactone 25mg *0.5tab qd', 'lasix 40mg po daily', 'lasix oral tablet 40 mg qd', 'sildenafil 20 mg q 8h,', 'spironolactone 25 mg*0.5tab qd', 'lasix 40mg q12h(until 05242018)\\nlasin 20mg qd(on hold)', 'furosemide 20mg and spironolactone 25mg daily', 'lasix 40mg qd\\nspironolactone 100mg qd', 'lasix oral tablet 60 mg bid', 'furosemide 20mg *3tabqd\\nspirinolactone 25mg *0.5tab qd', 'furosemide 40mg q12h', 'lasix 20mg qd2', 'metolazone 5mg bid\\nlasix 40mg qd', 'spironolactone 25mg q48h\\nlasix 20mg q48h', 'torsemide 20mg *2tab qd', 'lasix 20mg qg', 'spironolactone  25mg qd', 'furosemide 20mg*3tab  qd', 'lasix oral tab 40mg qd', 'lasix 40mg*1.5tab bid', 'lasix 40mg *2tab qd', 'furosemide 80mg 1x', 'bumetadine 1mg qd', 'metolazone 5mg  tiw\\naldactone 25mg  tiw\\nlasix 40mg  bid', 'lasix tablet 20 mg (furosemide) qd', 'furosemide 40 mg tablet\\nsig: give 1 tablet (40 mg) by oral route once daily', 'edecrin oral tab 25mg qd', 'bumetanide 1mg qd', 'spironolactone 25mg qd\\ntorsemide 60mg qd', 'torsemide 20mg qd', 'lasix 20mg qd\\nspironolactone 25mg qd', 'lasix 80mg bid\\naldactone 25mg *0.5tab qd\\nmetolazone 2.5mg qd every m/w/f', 'torsemide 20mg*2tab qd', 'furosemide oral tablet 60 mg qd', 'lasix 80mg qd\\naldactone 50mg qd', 'lasix oral tablet 40 mg, hs', 'lasix 80 mg bid\\naldactone 25mg qd', 'bumetanide 2 mg 1 tablet (2 mg) by oral route 2 times per day', 'lasix 40mg qd', 'furosemide 40mg *0.5tab qd', 'lasix40 mg qd', 'furosemide oral tablet 20 mg, qd-every day', 'furosemide 40mg  qd\\nspironolactone 25mg qd', 'furosemide 20mg bid', 'furosemide 20 mg qd', 'indapamide 1.25 mg qd\\nlasix 20mg qd', 'lasix 40mg qd\\nlasix 20mg qd( untill 0905)', 'furosemide 40mg qd', 'furosemide 40 mg qd', 'lasix 40mg bid (06232018-06262018)\\nlasix 40mg qd(since 06262018)', 'lasix 40mg bid2', 'lasix 40mg qd\\naldactone 25mg*0.5tab qd', 'lasix 60mg qd', 'furosemide 20mg qd hold if bp is less than 90/60', 'lasix oral tablet 20 mg qd', 'bumex 1mg qd', 'spironolactone 25mg qd\\nlasix 40mg q48h', 'metolazone 2.5mg qd\\nspironolactone 50mg qd\\ntorsemide 20mg *2tab bid', 'metolazone 2.5mg  in the morning every 2 day(s)', 'hctz 50mg qd', 'metolazone 5mg qd', 'lasix 20mg bid', 'furosemide 20mg*3tab  3x per week on non-dialysis day mwf', 'bumetanide 1 mg, spironolactone 25 mg', 'lasix 40mg qd2', 'lasix 80mg po bid', 'lasix 20mg qd\\nspironolactone 50mg qd', 'furosemide 80mg qd\\nfurosemide 20mg hs', 'bumetanide 1mg  two times per day\\nmetolazone 5mg qd', 'lasix 40mg daily (spironolactone ended 08/13/17)', 'spironolactone 25mg*0.5tabqd', 'lasix 40mg qd\\naldactone 50mg qd', 'bumex 1mg bid', 'lasix 20 mg qd2', 'furosemide oral tablet 40 mg, qd-every day', 'lasix 40mg *1.5tab qd\\nspironolactone 25mg*0.5tab qd', 'torsemide 20mg *4tab bid', 'bumetadine 1mg +0.5mg qd', 'spironolactone 100mg bid \\nlasix 40mg bid', 'n/a on records', 'furosemide oral tablet 20 mg, mg, qd-every day', 'eliquis']\n",
      "1.0    490\n",
      "0.0    274\n",
      "Name: diuretics, dtype: int64\n",
      "num missing 167\n",
      "value counts before zero and one assignment: 0                                                                                                 167\n",
      "aspirin 81mg qd                                                                                   128\n",
      "aspirin 81 mg qd                                                                                   22\n",
      "none                                                                                               18\n",
      "aspirin 81mg qd\\nclopidogrel 75mg qd                                                               16\n",
      "eliquis 5mg q12h                                                                                   14\n",
      "eliquis 2.5mg q12h                                                                                 13\n",
      "aspirin 81mg qd\\nplavix 75mg qd                                                                    12\n",
      "clopidogrel 75mg qd\\naspirin 81mg qd                                                                9\n",
      "xarelto 20mg qd                                                                                     7\n",
      "xarelto 15mg qd                                                                                     7\n",
      "clopidogrel 75mg qd                                                                                 7\n",
      "eliquis 2.5mg bid                                                                                   6\n",
      "plavix 75mg qd\\naspirin 81mg qd                                                                     6\n",
      "heparin sodium (porcine) solution 5000 unit/ml q12h                                                 5\n",
      "asa 81mg qd                                                                                         4\n",
      "aspirin 325mg qd                                                                                    4\n",
      "eliquis 2.5mg q12h\\naspirin 81mg qd                                                                 4\n",
      "aspirin 81 mg daily                                                                                 4\n",
      "plavix 75mg qd                                                                                      4\n",
      "eliquis 5mg bid                                                                                     4\n",
      "eliquis 2.5mg twice daily                                                                           3\n",
      "aspirin oral tablet chewable 81 mg, qd-every day                                                    3\n",
      "coumadin 3mg qd                                                                                     3\n",
      "aspirin low strength oral tablet chewable 81 mg, qd-daily                                           3\n",
      "apixaban 5mg bid                                                                                    3\n",
      "coumadin 7.5mg qd                                                                                   3\n",
      "pradaxa 150mg q12h                                                                                  3\n",
      "aspirin 81 mg                                                                                       3\n",
      "0                                                                                                   3\n",
      "                                                                                                 ... \n",
      "aspirin 81 mg qd\\ncoumadine oral tab 4mg +2.5mg hs\\nheparin sod  intravenous 100 unit/ml qs         1\n",
      "coumadin 4mg  qd  sunday/ tuesday/thursday/saturday\\ncoumadin 5mg  qd  monday wednesday friday      1\n",
      "plavix 75mg po daily (stop on 9/19/18)\\naspirin 325mg po daily                                      1\n",
      "aspirin low dose oral tablet 81 mg                                                                  1\n",
      "clopidogrel 75mg daily and aspirin 81 mg 1 tablet (81 mg) by oral route once daily                  1\n",
      "clopidogrel 75mg qd, apixaban 2.5mg bid                                                             1\n",
      "aggrenox capsule extended release 12 hour 25-200 mg (aspirin-dipyridamole er) qd                    1\n",
      "aspirin 81mg qd  \\nclopidogrel 75mg qd                                                              1\n",
      "eliquis 2.5 mg q12, aspirin 81 mg qd                                                                1\n",
      "aspirin 81mg qd\\nwarfarin 5 mg qd                                                                   1\n",
      "aspirin  ec low dose 81mg qd\\nwarfarin 6mg hs- bedtime                                              1\n",
      "aspirin 81mg qd\\nxarelto 20mg qd                                                                    1\n",
      "coumadin 4mg qd\\naspirin 81mg qd                                                                    1\n",
      "coumadin 4mg qd                                                                                     1\n",
      "warfarin 2+2.5mg qd                                                                                 1\n",
      "heparin 5000unit/ml q12h                                                                            1\n",
      "aspirin 81 mg and plavix 75 mg daily                                                                1\n",
      "aspirin 325mg qd\\nclopidogrel 75mg qd\\napixaban 5mg q12h                                            1\n",
      "aspirin 81 mg chewable tablet\\nsig: give one tablet by mouth every day for prophylaxis              1\n",
      "coumadin 2.5+3mg qd\\naspirin 81mg qd                                                                1\n",
      "aspirin 81mg qd\\nwarfarin 4mg qd                                                                    1\n",
      "aspirin chewable 81mg qd, apixaban 5 mg q12h                                                        1\n",
      "heparin sodium (porcine) solution 5000 unit/ml q8h\\naspirin 81mg qd\\nplavix 75mg qd                 1\n",
      "coumadin 6mg                                                                                        1\n",
      "xarelto 20 mg once daily                                                                            1\n",
      "xarelto 20mg daily                                                                                  1\n",
      "coumadin oral tablet 5 mg- hs                                                                       1\n",
      "brilinta 90mg twice daily\\naspirin 81mg qd                                                          1\n",
      "warfarin 3mg qd\\naspirin 81mg qd                                                                    1\n",
      "warfarin 2mg qd\\nwarfarin 2mg every week on sunday am                                               1\n",
      "Name: anticoagulant, Length: 282, dtype: int64\n",
      "zero values: ['none\\nother cardiac meds: digoxin 0.25mg daily; amiodarone 100mg qd; isosorbide 10mg q8h;', 'none, hx. paf/a-fib not on ac, w/he of frequent nose bleed, required prbc x 2 within 2 weeks, upper gi bleed, allergic to asa', 'none', 'none, hx. paf/a-fib not on ac, w/he of frequent nose bleed, required prbc x 2 within 2 weeks, upper gi bleed, allergic to asa']\n",
      "Values set to 1.0: \n",
      " ['eliquis 5 mg q12h', 'warfarin 2.5 mg + 4mg hs-bedtime', 'coumandin 1mg qd\\naspirin 325mg qd', 'aspirin 81 mg daily', 'heparin 5000 s/ml - 1ml q12h; aspirin 81mg qd', 'eliquis 2.5mg bid', 'pradaxa 150mg q12h', 'warfarin 1mg+4mg  hs', 'aspirin 81mg qd\\npradaxa 75mg q12h', 'coumadin 6mg qd+ 1mg', 'eliquis 2.5mg q12h\\nclopidogrel 75mg qd', 'aspirin 81mg qd\\napixaban 2.5mg q12h', 'eliquis 5 mg every 12 hours', 'aspirin oral tablet chewable 81mg qd', 'eliquis 5mg two times a day', 'aspirin 81mg bid', 'heparin (porcine) 5,000 unit/ml injection solution q12h', 'aspirin 81mg qd\\nlovenox 80mg q12h', 'aspirin 325mg qd', 'aspirin 325 mg daily and clopidogrel 75 mg daily', 'aspirin 81mg p.o. daily', 'aspirin 81 mg qd', 'coumadin 2mg qd twice weekly on tuesday and thursday\\ncoumadin 6mg qd twice weekly on tuesday and thursday\\ncoumadin 5mg qd every sun, mon, wed, fri, sat', 'aspirin ec low dose oral tablet', 'aspirin low dose oral tablet 81 mg qd\\nheparin sodium (porcine) solution 5000 unit/ml q12h', 'clopidogrel 75mg qd\\nwarfarin 10mg hs\\naspirin 81mg qd', 'aspirin 81 mg 7/24/2017', 'eliquis 2.5mg twice daily', 'plavix 75mg qd;  warfarin 3mg hs', 'aspirin 325mg', 'bumetanide 2mg qd', 'enoxaparin sodium solution 40 mg/0.4ml 40 milligram subcutaneously qd', 'aspirin ec oral tablet delayed release 325 mg daily', 'aspirin 81mg qd\\neliquis 2.5mg q12h', 'aspirin 81mgqd', 'eliquis 5mg q12h; aspirin 81mg qd', 'asa 81 mg qd', 'aspirin 81mg qd, apixaban 5mg q12h', 'plavix 75mg', 'xarelto 20mg hs', 'aspirin ec low dose oral tablet delayed release 81 mg qd\\nplavix 75mg qd', 'heparin 5000unit/ml q12h', 'aspirin 81 mg qd, xarelto 20 mg hs', 'aspirin 81mg qd, ticagrelor 90mg q12h', 'coumadin 10mg qd', 'eliquis 2.5mg q12h\\naspirin 81mg qd', 'coumadin 3mg qd', 'aspirin 81 mg 1 tablet (81 mg) by oral route once daily; eliquis 5 mg 1 tablet (5 mg) by oral route 2 times per day', 'aspirin 81 mg qd,', 'eliquis 2.5mg two times per day\\naspirin 81mg qd', 'eliquis 5mg q12h\\naspirin 81mg qd', 'aspirin ec tab 81mg qd\\nwarfarin sodium oral tab 2mg qiw\\nwarfarin sodium oral tab 1mg tiw\\nplavix 75mg qd', 'eliquis 5mg', 'warfarin 6mg  qd\\naspirin 81mg qd', 'aspirin 81mg qd\\nheparin sodium (porcine) injection solution 5000 unit/ml- q8h', 'warfarin 7.5mg hs', 'aspirin 81mg, plavix 75mg', 'coumadin 2.5+3mg qd\\naspirin 81mg qd', 'aspirin 81mg qd\\nwarfarin 2mg qd', 'coumadin 2.5mg hs', 'aspirin low dose oral tablet 81 mg qd\\neliquis 2.5mg q12h', 'aspirin 81mg qd2', 'aspirin 81 mg 1x', 'aspirin 81mg qd\\nxarelto 20mg hs', 'clopidogrel tab 75mg q48h\\naspirin 81mg q2d\\n\\nother cardiac meds: isosorbide mononitrate er 30mg qd.', 'aspirin low dose oral tablet 81 mg, qd\\neliquis 5mg bid', 'eliquis 2.5mg q12h\\naspirin 81 mg qd', 'brillinta 90mg q12h\\naspirin 81mg qd', 'xarelto 15mg qd\\naspirin 81mg qd', 'aspirin ec low dose oral tablet delayed release 81 mg, qd-every day', 'aspirin 81 mg, qd\\nplavix 75mg qd', 'clopidogrel 75mg qd\\naspirin low dose 81 mg qd', 'coumadin 4mg hs', 'aspirin 81mg qd\\neliquis 5mg q12h', 'aspirin ec low dose oral tablet delayed release 81 mg, ds', 'heparin sodium (porcine) solution 5000 unit/ml q12h', 'ranexa 500mg bid', 'warfarin 2+2.5mg qd', 'xarelto 20mg qd', 'warfarin 2.5mg qd', 'enoxaparin sodium solution 40 mg/0.4ml inject 40 milligram subcutaneously qd', 'aspirin oral tab chewable 81mg qd\\neliquis oral tab 2.5mg bid', 'coumadin 1mg qd', 'aspirin ec low dose  81mg qd\\nxarelto 15mg qd', 'xarelto 15mg qd', 'aspirin 81 mg 2 tablets daily', 'aspirin 81mg', 'apixaban 2.5mg q12h', 'aspirin  ec low dose 81mg qd\\nwarfarin 6mg hs- bedtime', 'aspirin 81mg qd\\nplavix 75mg qd\\nxarelto 20mg qd', 'eliquis 2.5mg two times per day \\nclopidogrel 75mg qd', 'aspirin 81 mg', 'aspirin 81 mg qd  \\ncoumadine  3mg hs', 'brilinta 90mg bid', 'aspirin ec 81 mg qd\\neliquis 2.5 mg q12h', 'eliquis 5mg bid\\naspirin 81mg qd', 'aspirin 81mg qd\\ncoumadin 1mg+6mg qd', 'asa 81 mg qd, eliqius 2.5 mg bid', 'coumadin 10mg qd\\naspirin 81mg qd', 'eliquis 5mg bid\\nclopidogrel 75mg qd', 'coumadin 2.5+5mg qd', 'warfarin 5mg qd', 'asa 81mg qd; xarelto 20mg qd', 'xarelto 20mg qd\\naspirinin 81mg qd', 'eliquis 5mg 2times per day', 'plavix 75mg qd; aspirin 81mg qd', 'aspirin low strength oral tablet chewable 81 mg, qd-daily', 'brilinta 60mg bid\\naspirin 81mg *2tab qd', 'aspirin 81mg qd', 'aspirin 325 mg  qd', 'asa', 'coumadin 5mg qd', 'warfarin 2mg qd', 'clopidogrel 75mg daily and aspirin 81 mg 1 tablet (81 mg) by oral route once daily', 'hvav', 'aspirin 81mg every mon, wed, fr', 'aspir 81 mg daily', 'aspirin 81mg qd\\nheparin sodium (porcine) solution 5000 unit/ml q12h', 'coumadin 7.5mg qd', 'coumadin 8 mg hs, aspirin 81 mg qd', 'plavix 75mg daily', 'aspirin ec low dose oral tablet delayed release 81 mg', 'heparine injection 5000', 'clopidogrel 75mg qd\\neliquis 5mg bid', 'aspirin 81mg qd\\nwarfarin sodium tablet \\t\\ngive 1 mg by mouth at bedtime', 'warfarin 4mg qd', 'xarelto 20mg daily', 'clopidogrel bisulfate  75 mg qd\\naspirin 81mg qd', 'clopidogrel 75mg qd2; aspirin 81mg', 'aspirin 81mg qd\\nheparin sodium injection solution 5000unit/ml hs', 'heparin sodium (porcine) solution 5000 unit/ml q8h\\naspirin 81mg qd\\nplavix 75mg qd', 'aspirin 81mg q12h', 'eliquis 5mg bid', 'aspir 81 mg hs', 'clopidogrel 75mg qd\\ncoumadin oral tab 2.5 mg+1mg  hs', 'coumadin 5mg hs; aspirin 81mg qd', 'aspirin 81mg qd\\ncoumadin 2.5+1mg qd', 'heparin sodium (porcine) injection solution 5000 unit/ml, qd - every day\\naspirin low strength oral tablet chewable 81 mg, qd - every day', 'warfarin 2mg qd\\nwarfarin 2mg every week on sunday am', 'aspirin 81mg qd\\nclopidogrel tab 75mg qd', 'apixaban 2.5 q12h; asa 81mg qd', 'warfarin 5mg hs', 'aspirin 81mg qd\\nlovenox 100mg/ml inject 0.9ml q12h', 'aspirin 81 mg daily\\nwarfarin 6 mg', 'aspirin 81mg qd\\neliquis 5mg q12h\\nclopidogrel 75mg qd', 'aspirin 81mg qd; plavix 75mg qd', 'aspirin ec low dose oral tablet delayed release 81 mg, qd-daily', 'aspirin chewable 81mg qd, apixaban 5 mg q12h', 'enoxaparin sodium solution 60 mg/0.6ml inject 60 milligram subcutaneously one time a day\\naspirin 81mg qd', 'plavix 75 mg qd,', 'clopidogrel 75mg qd\\ncoumadin 2.5mg+4mg give 1 tablet (2.5 mg) by oral route once daily add 4 mg with 2.5 mg total 6.5mg', 'coumadin 2mg qd\\naspirin 81mg qd', 'clopidogrel 75mg qd\\nequis 5mg q12h', 'aspirin 81mg qd\\ncoumadin  3mg hs- bedtime', 'coumadin 5mg qd\\naspirin 81mg qd', 'warfarin 1mg qd sunday/tus/th/saturday\\nwarfarin 2mg qd mon/wed/friday', 'aspirin ec low dose 81mg- qd\\neliquis tab 5mg bid', 'aspirin low strength oral tablet chewable 81 mg, qd-every day', 'aspirin 81 mg tablet,delayed release sig: give 1 tablet (81 mg) by oral route once daily', 'apixaban 5mg bid', 'plavix 75mg; aspirin 81mg qd', 'plavix and lovenox', 'aspirin ec low dose oral tablet delayed release 81 mg, qd', 'eliquis 2.5 mg qd', 'aspirin 81mg patch daily chewing tablet vs. patch for lower back (verify records in emr, please ms)', 'brilinta 90mg twice daily\\naspirin 81mg qd', 'brilinta 90mg q12h\\naspirin 81mg qd', 'aspirin 81 mg 7/31/17 daily', 'eliquis 2.5 mg bid', 'xarelto 20 mg once daily', 'coumadin 6mg', 'plavix 75mg qd\\naspirin 81mg qd', 'aspirin 81mg qd\\nwarfarin 4mg qd', 'aspirin chewable 81 mg qd', 'aspirin low strength oral tablet chewable 81 mg - qd-every day', 'plavix 75 mg qd', 'aspirin 325mg qd\\nclopidogrel 75mg qd\\napixaban 5mg q12h', 'aspirin 81 mg and plavix 75 mg daily', 'clopidogrel 75 mg daily', 'coumadin 4mg qd', 'clopidogrel 75mg qd\\naspirin 81mg qd', 'warfarin 3mg qd\\naspirin 81mg qd', 'coumadin 4mg qd\\naspirin 81mg qd', 'aspirin 81mg qd\\nxarelto 20mg qd', 'eliquis 5mg q12h2', 'eliquis 5mg bid aspirin 81mg qd', 'eliquis 2.5 mg q12, aspirin 81 mg qd', 'plavix 75mg qd\\nxarelto 20mg bid', 'brilinta 90mg q12h', 'clopidogrel 75mg qd, apixaban 2.5mg bid', 'xarelto 20mg qd\\naspirin 81mg qd', 'aspirin low dose oral tablet 81 mg', 'plavix 75mg qd', 'aspirin 81mg qd\\neliquis 5mg bid', 'coumadin 4mg  qd  sunday/ tuesday/thursday/saturday\\ncoumadin 5mg  qd  monday wednesday friday', 'clopidogrel 75mg qd', 'asa 81mg qd', 'aspirin oral tablet chewable 81 mg, qd-every day\\neliquis 2.5mg q12h', 'pradaxa 75mg qd', 'asa 81mg daily', 'warfarin 6mg hs', 'pradaxa 150mg bid', 'eliquis 2.5 mg- six times a week', 'aspirin 81mg qd\\nheparin sodium (porcine) solution 5000 unit/ml q8h', 'pradaxa 75mg q12h', 'aspirin 81mg qd\\ncoumadin 5mg hs', 'aspirin oral tablet chewable 81 mg - qd\\neliquis 5mg qd', 'coumadin 6mg qd', 'heparin 5000ml/unit q12h', 'hx. of gib(was taken off coumadin as per wife)', 'warfarin 7.5mg qd\\naspirin 81mg qd', 'aspirin 81mg  qd\\nxarelto 10mg qd', 'apixaban 5mg q12h', 'aspirin oral tablet chewable 81 mg, qd-every day', 'love of 40mg daily', 'eliquis 5mg q12h', 'heparin 5000unit/ml q8h', 'warfarin sodium 2mg hs-bedtime', 'aspirin 81mg qd  \\nclopidogrel 75mg qd', 'eliquis 2.5mg q12h', 'eliquis tab 5mg q12h', 'aspir-low oral tablet 81 mg daily', 'eliquis 2.5mg bid\\naspirin 81mg qd', 'warfarin 10mg qd\\naspirin 81mg qd', 'aspirin 325mg ec qd', 'aspirin 81mg qd\\neliquis 2.5mg bid', 'xarelto 20 mg hs', 'coumadin 2.5mg+1mg qd', 'clopidogrel 75mg qd\\naspirin 81mg qd\\nheparin sodium (porcine) solution 5000 unit/ml q12h', 'aspirin 81mg qd\\nheparin sodium (porcine) solution 5000 unit/ml q8h\\nclopidogrel 75mg qd', 'warfarin 1mg qd', 'furosemide oral tablet 20 mg, qd-every day', 'coumadin oral tablet 5 mg- hs', 'aspir-low tab 81mg qd', 'eliquis 5mg q12h; furosemide 20mg qd', 'plavix 75mg po daily\\naspirin 81mg po daily', 'aspirin low dose oral tablet 81 mg, qd-every day', 'eliquis tab 5mg bid', 'aspirin 81mg qd\\nplavix 75mg qd\\nranexa 500mg q12h', 'coumadin 4 mg hs  every sun, tue, thu, sat\\ncoumadin 2mg hs every mon, wed, fri', 'aspirin 81mg qd and clopidogrel 75mg qd', 'coumadin oral tab 2.5 mg hs', 'aspirin low strength oral tablet chewable 81 mg, qd', 'coumadin 2.5mg qd', 'eliquis 2.5 mg q12, asa 81mg qd', 'aspirin low dose oral tablet 81 mg, qd-every day\\nplavix 75mg qd', 'plavix oral tablet 75mg qd', 'aspirin 81mg qd\\nplavix 75mg qd', 'aspirin ec low dose oral tablet delayed release 81 mg, qd-every day\\nbrilinta tab 90mg q12h', 'coumadin 7.5 mg hs', 'oncologist rec. to d/c eliquis; asa 81mg qd', 'plavix 75mg po daily (stop on 9/19/18)\\naspirin 325mg po daily', 'aspirin 81mg and eliquis 5mg', 'eliquis oral tab 2.5 mg q12h', 'plavix oral tablet 75 mg\\naspirin 81mg qd', 'eliquis 2.5 mg bid,', 'coumadin 2mg qd', 'aspirin 81mg daily', 'plavix 75mg qd\\nxarelto 15mg qd', 'aspirin 81mg qd\\napixaban 2.5mg bid', 'aspirin 81 mg chewable tablet\\nsig: give one tablet by mouth every day for prophylaxis', 'aspirin ec 81mg qd\\nclopidogrel 75mg qd', 'warfarin sodium 3 mg hs\\naspirin ec 81 mg qd', 'aspirin 81 mg qd\\nclopidogrel 75 mg qd', 'eliquis 2.5mg two times a day', 'aggrenox capsule extended release 12 hour 25-200 mg (aspirin-dipyridamole er) qd', 'asa 81 mg qd, plavix 75 mg qd', 'n/a on records', 'asa 81mgod and plavix 75mg od', 'aspirin 81 mg qd\\ncoumadine oral tab 4mg +2.5mg hs\\nheparin sod  intravenous 100 unit/ml qs', 'plavix oral tab 75 mg qd\\nxarelto 15mg qd', 'coumadin oral tablet 5 mg 1 tablet(s) by mouth hour of sleep', 'aspirin 81mg qd\\nclopidogrel 75mg qd', 'aspirin 81mg qd\\nwarfarin 5 mg qd', 'aspirin 81mg po daily', 'aspirin 81mg qd\\nbrilinta 90mg q12h', 'asa 81mg']\n",
      "1.0    574\n",
      "0.0    190\n",
      "Name: anticoagulant, dtype: int64\n",
      "num missing 675\n",
      "value counts before zero and one assignment: 0                                                                                                                                                                                                                                                    675\n",
      "none                                                                                                                                                                                                                                                  31\n",
      "digoxin 125mcg qd                                                                                                                                                                                                                                     14\n",
      "digoxin 0.125mg qd                                                                                                                                                                                                                                    10\n",
      "digoxin 125mcg q48h                                                                                                                                                                                                                                    3\n",
      "digox 0.125mg qd                                                                                                                                                                                                                                       3\n",
      "digoxin 250mcg qd                                                                                                                                                                                                                                      1\n",
      "digoxin 0.125 mg qd                                                                                                                                                                                                                                    1\n",
      "digoin 125mcg qd                                                                                                                                                                                                                                       1\n",
      "eliqus 2.5mg q12h                                                                                                                                                                                                                                      1\n",
      "digoxin 125 mcg once daily three times a week                                                                                                                                                                                                          1\n",
      "digoxin 0.25mg qd                                                                                                                                                                                                                                      1\n",
      "digoxin 125mcg qd hold medication and call md if heart rate is below 60                                                                                                                                                                                1\n",
      "digoxin 125mcgqd                                                                                                                                                                                                                                       1\n",
      "dopamine drips via curling pump in continuous mode concentration : 1.6 mg/ml . bag volume: 500 ml . prog volume : 288 ml . rate : 12 ml/ hr time : 24 hrs . kvo 10 ml/hr . coram to dispense premixed bag 800 mg/500 ml . concentration 1.6 mg/ml      1\n",
      "digoixin 125mcg qd                                                                                                                                                                                                                                     1\n",
      "digoxin 125mcg qd every mon, thu                                                                                                                                                                                                                       1\n",
      "digoxin 125mcg qd, diltiazem hcl er 120 mg q12h                                                                                                                                                                                                        1\n",
      "digox 125mcg qd                                                                                                                                                                                                                                        1\n",
      "digox 125mcg every other day                                                                                                                                                                                                                           1\n",
      "digoxin 0.125 mg biw                                                                                                                                                                                                                                   1\n",
      "dobutamine 8mcg/kg/min                                                                                                                                                                                                                                 1\n",
      "digoxin 125mcg qd every other day                                                                                                                                                                                                                      1\n",
      "digoxin solution 0.05 mg/ml - give 2.5ml qd                                                                                                                                                                                                            1\n",
      "digoxin 125mcg orally qd                                                                                                                                                                                                                               1\n",
      "aspirin 81mg qd                                                                                                                                                                                                                                        1\n",
      "digoxin 0.125mg q48h                                                                                                                                                                                                                                   1\n",
      "amiodarone hcl 200 mg qd                                                                                                                                                                                                                               1\n",
      "digoxin 0.125mg qd orally                                                                                                                                                                                                                              1\n",
      "digox 0.125mg tiw                                                                                                                                                                                                                                      1\n",
      "digoxin 0.125mg q2d                                                                                                                                                                                                                                    1\n",
      "n/a on records                                                                                                                                                                                                                                         1\n",
      "digoxin 125mcg q48h, , milrinone lactate solution  0.375 mcg/hr intravenously every shift related to acute on chronic systolic (congestive) heart failure (i50.23) 0.375mcg/kg/min to run 5.8ml/hr                                                     1\n",
      "iv dobutamine 4mcg/kg/min @ 4ml/hr for wt. of 66kg                                                                                                                                                                                                     1\n",
      "Name: ionotropes, dtype: int64\n",
      "zero values: ['digoxin 125mcg q48h, , milrinone lactate solution  0.375 mcg/hr intravenously every shift related to acute on chronic systolic (congestive) heart failure (i50.23) 0.375mcg/kg/min to run 5.8ml/hr', 'none']\n",
      "Values set to 1.0: \n",
      " ['digoxin 125mcg qd every mon, thu', 'digoin 125mcg qd', 'digoxin 250mcg qd', 'digoxin 0.125 mg qd', 'digoxin 125 mcg once daily three times a week', 'digoxin 0.25mg qd', 'digoxin 125mcg qd hold medication and call md if heart rate is below 60', 'digoxin 125mcgqd', 'dopamine drips via curling pump in continuous mode concentration : 1.6 mg/ml . bag volume: 500 ml . prog volume : 288 ml . rate : 12 ml/ hr time : 24 hrs . kvo 10 ml/hr . coram to dispense premixed bag 800 mg/500 ml . concentration 1.6 mg/ml', 'digoixin 125mcg qd', 'digoxin 125mcg qd, diltiazem hcl er 120 mg q12h', 'amiodarone hcl 200 mg qd', 'digox 125mcg qd', 'eliqus 2.5mg q12h', 'digoxin 0.125 mg biw', 'dobutamine 8mcg/kg/min', 'iv dobutamine 4mcg/kg/min @ 4ml/hr for wt. of 66kg', 'digoxin 125mcg q48h', 'digoxin solution 0.05 mg/ml - give 2.5ml qd', 'digoxin 125mcg orally qd', 'aspirin 81mg qd', 'digoxin 0.125mg qd orally', 'digox 0.125mg qd', 'digoxin 0.125mg qd', 'digox 0.125mg tiw', 'digoxin 125mcg qd', 'n/a on records', 'digoxin 0.125mg q48h', 'digoxin 0.125mg q2d', 'digoxin 125mcg qd every other day', 'digox 125mcg every other day']\n",
      "0.0    707\n",
      "1.0     57\n",
      "Name: ionotropes, dtype: int64\n",
      "num missing 531\n",
      "value counts before zero and one assignment: 0                                                                     531\n",
      "none                                                                   82\n",
      "0                                                                      51\n",
      "no                                                                     28\n",
      "pacemaker                                                              25\n",
      "aicd                                                                   14\n",
      "yes                                                                     7\n",
      "no aicd or pacemaker                                                    3\n",
      "ppm                                                                     2\n",
      "life vest                                                               2\n",
      "lifevest                                                                2\n",
      "pace maker only                                                         1\n",
      "aicd 2014                                                               1\n",
      "z95.810  presence of automatic (implantable) cardiac defibrillator      1\n",
      "pacemaker, prosthetic heart valve                                       1\n",
      "left chest wall                                                         1\n",
      "combined aicd and pacemaker                                             1\n",
      "no on life vest                                                         1\n",
      "zoll lifevest                                                           1\n",
      "s/p ppm/aicd                                                            1\n",
      "o                                                                       1\n",
      "no (ppm only)                                                           1\n",
      "zoll life vest                                                          1\n",
      "hld, htn                                                                1\n",
      "ppm mobitz i 2013                                                       1\n",
      "aicd-dual chamber                                                       1\n",
      "pacemaker 6/11/18                                                       1\n",
      "aicd(turned off), has zoll lifevest                                     1\n",
      "Name: aicd, dtype: int64\n",
      "zero values: ['none', 'no (ppm only)', 'no aicd or pacemaker', 'no on life vest', 'no']\n",
      "Values set to 1.0: \n",
      " ['ppm', 'pacemaker, prosthetic heart valve', 'aicd', 'left chest wall', 'combined aicd and pacemaker', 'yes', 'zoll lifevest', 'aicd 2014', 'zoll life vest', 'hld, htn', 'ppm mobitz i 2013', 'aicd(turned off), has zoll lifevest', 'pacemaker 6/11/18', 'life vest', 'pacemaker', 'pace maker only', 'o', 's/p ppm/aicd', 'z95.810  presence of automatic (implantable) cardiac defibrillator', 'aicd-dual chamber', 'lifevest']\n",
      "0.0    697\n",
      "1.0     67\n",
      "Name: aicd, dtype: int64\n",
      "num missing 254\n",
      "value counts before zero and one assignment: 0                                                                                                                                                                      254\n",
      "atorvastatin 40mg qd                                                                                                                                                    35\n",
      "atorvastatin 80mg qd                                                                                                                                                    22\n",
      "amlodipine 10mg qd                                                                                                                                                      19\n",
      "amlodipine 5mg qd                                                                                                                                                       15\n",
      "simvastatin 20mg qd                                                                                                                                                     12\n",
      "atorvastatin 20mg qd                                                                                                                                                    11\n",
      "amiodarone 200mg qd                                                                                                                                                      9\n",
      "lipitor 40mg qd                                                                                                                                                          8\n",
      "no cardiac meds on the record                                                                                                                                            6\n",
      "simvastatin 10mg qd                                                                                                                                                      6\n",
      "nifedipine 60mg qd                                                                                                                                                       5\n",
      "simvastatin 40mg qd                                                                                                                                                      5\n",
      "isosorbide mono 30mg qd                                                                                                                                                  4\n",
      "nifedipine 30mg qd                                                                                                                                                       4\n",
      "nifedipine 90mg qd                                                                                                                                                       4\n",
      "lipitor 20mg qd                                                                                                                                                          4\n",
      "simvastatin 10mg hs                                                                                                                                                      4\n",
      "atorvastatin 40 mg hs                                                                                                                                                    4\n",
      "hydralazine 100mg  q8h;isosorbide mono 30mg qd; simvastatin 20mg hs                                                                                                      4\n",
      "norvasc 5mg qd                                                                                                                                                           3\n",
      "amlodipine 2.5mg qd                                                                                                                                                      3\n",
      "none                                                                                                                                                                     3\n",
      "lipitor 10mg qd                                                                                                                                                          3\n",
      "norvasc 10mg qd                                                                                                                                                          3\n",
      "isosorbide din 20mg tid                                                                                                                                                  2\n",
      "atorvastatin 20mg qd, amiodarone 200mg qd                                                                                                                                2\n",
      "crestor 10mg qd                                                                                                                                                          2\n",
      "hydrochlorothiazide 25mg qd                                                                                                                                              2\n",
      "zocor 10mg qd                                                                                                                                                            2\n",
      "                                                                                                                                                                      ... \n",
      "simvastatin 40mg qd, hydralazine 10mg tid                                                                                                                                1\n",
      "milrinone lactate in dextros solution 40-5 mg/200ml%                                                                                                                     1\n",
      "pravastatin 20mg qd                                                                                                                                                      1\n",
      "hydrochlorothiazide 12.5mg qd                                                                                                                                            1\n",
      "amlodipine 10mg qd, simvastatin 10mg 1hs                                                                                                                                 1\n",
      "simvastatin 20mg qd, nitroglycerin tablet sublingual 0.4 mg \\tgive 1 tablet sublingually every 5 minutes as needed for chest pain x 3 doses. if no relief, call md.      1\n",
      "acetazolamide 125mg qd                                                                                                                                                   1\n",
      "isosorbide mono 30mg *3tab qd, amlodipine 10mg qd, atorvastatin 80mg qd, hydralazine 100mg q8h                                                                           1\n",
      "isosorbide din 10mg q8h, atorvastatin 40mg qd, nitroglycerin tablet sublingual 0.3 mg every 5mins                                                                        1\n",
      "hydralazine 50mg q8h                                                                                                                                                     1\n",
      "pravastatin sodium tablet 10 mg qd, amlodipine 5mg qd                                                                                                                    1\n",
      "potassium chloride 10meq qd2                                                                                                                                             1\n",
      "amlodipine 5mg qd, rosuvastatin 40mg qd                                                                                                                                  1\n",
      "hydralazine 25mg tid; isosorbide mononitrate er 30mg qd                                                                                                                  1\n",
      "amlodipine 2.5 mg qd, simvastatin 10mg qd                                                                                                                                1\n",
      "amiodarone 100mg qd, isosorbide din 10mg qd, hydralazine 10mg q8h                                                                                                        1\n",
      "atorvastatin 40mg qd, entresto tablet 49-51 mg (sacubitril-valsartan) bid                                                                                                1\n",
      "vasotec 5mg qd [was previously on isosorbide and hydralazine-d/c 7/17/18.                                                                                                1\n",
      "pravastatin sodium tablet 40 mg qd                                                                                                                                       1\n",
      "amiodarone 100mg qd; midodrine hcl tablet 10 mg 3x/day                                                                                                                   1\n",
      "diltiazem 30mg q8h                                                                                                                                                       1\n",
      "hydralazine 50mg tid, hydrochlorothiazide 12.5mg qd, nifedipine 90mg qd                                                                                                  1\n",
      "atorvastatin 10mg hs; nifedipine 30mg qd                                                                                                                                 1\n",
      "norvasc                                                                                                                                                                  1\n",
      "hydralazine 10 mg q8h                                                                                                                                                    1\n",
      "nifedipine 90mg qd, rosuvastatin 40mg qd                                                                                                                                 1\n",
      "atorvasatin 20mg hs                                                                                                                                                      1\n",
      "hydralazine 100mg q8h, nifedipine 60mg qd, atorvastatin 40mg qd, amodipine 5mg qd                                                                                        1\n",
      "nifedipine 90mg qd; atorvastatin 40mg hs                                                                                                                                 1\n",
      "isosorbide din 20mg q8h, simvastatin 40mg qd                                                                                                                             1\n",
      "Name: other cardiac meds, Length: 319, dtype: int64\n",
      "zero values: ['milrinone lactate in dextros solution 40-5 mg/200ml%', 'none', 'no cardiac meds on the record', '12/26: no med records in \"orders\" pointclickcare', 'no cardiac meds available on the record', 'no orders found on the record']\n",
      "Values set to 1.0: \n",
      " ['norvasc 5mg qd, multaq 400 mg (dronedarone) bid', 'atorvastatin 10mg qd, nifedipine 60mg qd', 'nifedipine 90mg qd2; hydralazine 100mg q8h2; cilostazol 50mg bid2; atorvastatin 20mg q evenings', 'lipitor 20mg qd, , nitroglycerin 0.4 mg sublingual table every 5min', 'lipitor 40mg qd, acetazolamide 250mg bid', 'norvasc 10mg qd; isosorbide dinitrate 10mg  bid, atorvastatin 40mg qd', 'atorvastatin 80mg hs', 'amiodarone 400mg qd, atorvastatin 80mg qd', 'pravastatin 80mg qd, sildenafil 20mg tid', 'atorvastatin 10mg qd', 'hydralazine 25mg tid', 'hydralazine 25mg tid; isosorbide mononitrate er 30mg qd', 'rosuvastatin 10mg qd, hydralazine 25mg*3tab q8h', 'atorvastatin 80mg qd; isosorbide mono er 60mg qd, hydralazine hcl tablet 50 mg q8h , nitroglycerin tablet sublingual every 5min', 'hydralazine 50mg q6h, simvastatin 10mg qd', 'amiodarone 200mg *0.5 tab q12h, isosorbide din 30mg qd,', 'hydralazine 10mg tid, nifedipine 60mg qd', 'amiodarone 400 mg qd', 'simvastatin 10mg q evening', 'isosorbide mono er 30mg qd', 'atorvastatin 10mg qd, amlodipine 10mg qd', 'nifedipine 90mg qd', 'amiodarone 400mg qd', 'amlodipine 5mg qd', 'amiodarone 200mg*0.5tab  qd, simvastatin 20mg qd', 'isosorbide din 20mg*2tab q8h, hydralazine 25mg*3tab tid. amlodipine 10mg  qd,nitroglycerin tablet sublingual 0.4 mg 1 tablet sublingually every 5 minutes for 3 doses as needed for chest pain - if no relief call md', '10/23/17 added isosorbide dinitrate 10mg tid; nifedipine er 90mg qd; sl nitro 0.4mg prn', 'norvasc 5mg qd; lipitor 20mg hs', 'nifedipine 30mg qd , nitrostat 0.4 mg sublingual tablet  by sublingual route every 5 minutes as neededfor chest pain', 'midrodrine 10mg tid', 'simvastatine 20mg hs', 'lovastatin 20mg qevening', 'simvastatin 40mg qd', 'amlodipine 5mg qd, isosorbide mono 30mg qd', 'amlodipine 10mg qd', 'isosorbide din 5mg*2tab bid,', 'atorvasatin 80mg qd', 'amlodipine 10mg qd, rosuvastatin 20mg qd', 'hydralazine 50mg q8 h; nifedipine 60mg qd, diovan 320mg qd, atorvastatin 40mg qd', 'atorvastatin 10mg hs; nifedipine 30mg qd', 'hydralazine 50mg and 25mg tid (both active orders); amlodipine 10mg qd', 'simvastatin 40 mg daily', 'hydralazine 100mg q8h, isosorbide din 20mg *2tab tid, amlodipine 5mg qd', 'hydralazine 10mg tid, atorvastatin 40mg qd', 'norvasc 10mg qd', 'entresto tablet 24-26 mg (sacubitril-valsartan) bid, atorvastatin 20mg qd', 'atorvastain 10mg qd', 'lipitor 40mg qd', 'hydralazine 100mg q8h, lipitor 40mg hs', 'isosorbide mononitrate er 30 mg 1 tablet (30 mg) by oral route once daily; hydralazine 25 mg every 8 hours; atorvastatin 40 mg once daily at bedtime', 'amiodarone 200mg q12h, rosuvastatin 10mg qd', 'diltiazem 30mg q8h', 'norvasc', 'simvastatin 10mg qd', 'atorvasatin 20mg hs', 'pravastatin 20mg qd', 'hydrochlorothiazide 12.5mg qd', 'lipitor 10mg qd', 'hydralazine 100mg tid', 'atorvastain 20mg qd', 'nitroglycerin tablet sublingual 0.3 mg give 1 tablet sublingually every 5 minutes as needed for chest pain give q 5 minutes x3 for chest pain, atorvastatin 80mg qd', 'amlodipine 10mg qd, atorvastatn 10mg qd', '10/23/17 hydralazine inc. to 100mg q8h; nifedipine er 30gm qd', 'atorvastatin 40mg qd,  amlodipine 10mg qd', 'amlodipine 10mg qd, isosorbide din 10mg tid, hydralazine 25mg q8h, crestor 40mg hs', 'digoxin 0.125mg qd; norvasc 10mg qd; atorvastatin 80mg hs', 'atorvastattin 80mg qd', 'amlodipine 10mg qd, atorvastatin 40mg, isosorbide din 20mg tid', 'hydralazine 50mg tid, hydrochlorothiazide 12.5mg qd, nifedipine 90mg qd', 'hydralazine 50mg tid, isosorbide din 10mg tid', 'amlodipine 2.5mg qd, atorvastatin 20mg qd', 'aldactone 25mg qhs; amiodarone 200mg q12; coreg 6.25mg bid; hydralazine hcl 10mg bid.', 'atorvastatin 4mg qd', 'hydralazine 100mg  q8h;isosorbide mono 30mg qd; simvastatin 20mg hs', 'pravastatin sodium tablet 10 mg qd, amlodipine 5mg qd', 'simvastatin 20mg qd2', 'isosorbide dinitrate 20mg q8h; amlodipine 10mg qd; hydralazine 50mg q8h', 'hydralazine 100mg q8h, nifedipine 60mg*2tab qd, atorvastatin 20mg qd', 'atorvastatin 10mg hs', 'atorvastatin 80mg qd, norvasc 10mg qd', 'simvastatin 40mg qd, amiodarone 200mg qd', 'amlodipine 10mg po daily; hydralazine 25mg po q8h', 'amlodipine 5mg qd, atorvastatin 20mg qd', 'isosorbide mononitrate 30mg qd', 'rosuvastatin calcium 5 mg qd,  amlodipine besylate5 mg qd', 'hydralazine 25mg q12h', 'amlodipine 5mg qd, isosorbide din 30mg qd, atorvastatin 40mg qd', 'gemfibrozil 600mg qd', 'norvasc 5mg qd, hydralazine 25mg tid', 'amlodipine 5mg *2 qd', 'atorvasatin 20mg qd', 'digoxin 0.125 mg hs', 'hydralazine 50mg q8h; nifedipine er 60mg qd', 'spronolactone 25mg every other day', 'isosorbide mononitrate 30mg qd, hydralazine 25mg tid, simvastatin 49mg es', 'cardizem 360mg po qd; diamox 250mg po qd', 'atorvastatin 20mg qd, amlodipine 5 mg q12h', 'hydralazine 50mg fid, simvastatin 10mg qd', 'minoxidil 2.5mg daily, amlodipine 10mg daily, nifedipine 90mg daily', 'zocor 10mg qd', 'hydralazine 25mg q8h, isosorbide mono 20mg qd', 'metolazone 5mg 1 tablet (5 mg) by oral route 2 times per week on monday and thursday at 6:30 pm (30 minutes after torsemide)', 'rosuvastatin 10mg qd, amlodipine 10mg qd', 'isosorbide din 30mg tid, hydralazine 50mg tid', 'hydrochlorothiazide 25mg qd', 'cardizem 30mg q 8 h', 'amlodipine 5mg qd, hydrochlorothiazide 25mg qd, hydralazine 50mg tid', 'atorvastain 40mg qd', 'simvastatin 20mg qd; potassium chloride 10 meq qd', 'amiodarone 100mg qd, amlodipine 5mg qd', 'atorvastatin 40mg qd, hydralazine 100mg q8h, isosorbide din 30mg *2tab tid', 'rosuvastatin 20mg qd', 'rosuvastatin 5mg qd', 'atorvastatin 20 mg tablet sig: give 1 tablet (20 mg) by oral route once daily at bedtime ;', 'nifedipine 90mg qd; amlodipine 10mg qd', 'digoxin 0.125 mg qd', 'atorvastatin 40mg qd, amlodipin 5mg qd', 'lipitor 40mg qd, isosorbide mono 30mg qd, hydralazine 50mg q8h', 'amiodarone 200mg od,atorvastatin 40mg hs,hydralazine 25mg q8h,isosorbide dinitrate 10mg q8h,asa 81mg od', 'nifedipine 30mg qd, simvastatin 20mg qd', 'amiodarone 100mg qd, isosorbide din 10mg qd, hydralazine 10mg q8h', 'amiodarone 200mg qd, diltiazem 60mg fid', 'nifedipine er 90mg qd, rosuvastatin 20mg qd', 'amlodipine 2.5 mg qd, simvastatin 10mg qd', 'hydralazine 10 mg q8h', 'nifedipin 60mg qd, rosuvastatin 5mg qd, isosorbide din 20mg q8h', 'hydralazine 100mg q8h, nifedipine 60mg qd, atorvastatin 40mg qd, amodipine 5mg qd', 'amiodarone 200mg qd', 'atorvastatin 40mg daily; nitrostat sublingual 0.4mg daily', 'amlodipine 5mg qd, atorvastain 10mg qd', 'simvastatin 5mg qd', 'zocor 20mg qd, amiodarone 200mg bid', 'atorvastatin 40mg qd, hydralazine 100mg q12h, isosorbide mono 30mg qd', 'atorvastatin 40mg qd', 'hydralazine 50mg q8h, nifedipine 30mg qd', 'pravastatin 40mg qd', 'lipitor 20mg qd', 'atorvastatin 80mg qd,  hydralazine 25mg tid, nifedipine 60mg qd', 'isosorbide din 20mg tid', 'hydralazine 25mg q8h, amlodipine 5mg qd', 'amlodipine besy-benazepril hcl capsule 5-20 mg qd, atorvastatin 20mg qd', 'nifedipine 90mg qd; atorvastatin 40mg hs', 'lipitor 80mg qd', 'isosorbide mono 30mg qd, hydralazine 50mg q8h, amlodipine 10mg qd, amiodarone 200mg qd', 'amiodarone 200mg qd, atorvastatin 40mg qd', 'amlodipine 5mg qd; hydralazine 25mg 3x/day; isosorbide mononitrate er 120mg qd', \"nitroglycerin 0.4mg every 5 minutes as needed for chest pain, don't exceed 3 doses in 15 minutes, isosorbide mononitrate 60mg qd, atorvastatin 40mg qd\", 'amlodipine  5mg qd', 'atorvastatin 40mg qd, hydralazine 25mg q8h; isordil 10mg tid', 'acetazolamide tablet 250 mg tid, lipitor 40mg qd', 'isosorbide mono 30mg qd', 'isosorbide mono 60mg qd', 'simvastatin 20 mg hs, digoxin 0.125 mg qod', 'amlodipine 5mg qd, hydrochlorothiazide 12.5mg qd', 'atorvastatin 20mg qd, amiodarone 200mg qd', 'isosorbide mono 120mg qd', 'norvasc 2.5mg qd', 'amlodipine 10mg qd, zetia(ezetimibe) 10mg qd', 'atorvastatin 20mg qd, isosorbide mono 30mg qd', 'norvasc 5mg qd', 'hydralazine 50 mg q 8 h, atorvastatin 40 mg hs', 'potassium chloride er 20 meq daily with food', 'atorvastatin 40mg qd, amlodipine 10mg qd', 'simvastatin 5mg qd, amlodipine 10mg qd', 'atorvastatin 10mg qd, hydralazine 100mg q8h, isosorbide mono 60mg qd', 'amlodipine 2.5mg qd', 'hyrdalazine 25mg q8h', 'isosorbide mononitrate er 30 mg tablet,extended release 24 hr sig: give 1 tablet (30 mg) by oral route once daily in the morning,     hydralazine 10 mg tablet sig: give 1 tablet (10 mg) by oral route 2 times per day  ,     atorvastatin 20 mg tablet sig: give 1 tablet (20 mg) by oral route once daily at bedtime', 'isosorbide mono 30mg*3tab qd, atorvastatin 20mg qd', 'amiodarone 100mg qd', 'diltiazem 90mg q6h', 'acetazolamide 125mg qd', 'ranitidine hcl 150 mg qd; simvastatin 20 mg hs', 'atorvastatin 80mg qd, isosorbide mono 30mg qd', 'amlodipine 5mg hs, lipitor 40mg qd', 'lipitor 20 mg hs', 'rosuvastatn 20mg qd', 'hydralazine 50mg tid, lipitor 10mg qd, nifedipine 60mg qd', 'atorvastatin 40mg hs; isosorbide dinitrate 30mg qd', 'isosorbide mono 30mg qd, pravastatin 80mg qd, nifedipine 90mg qd', 'isosorbide mono 30mg qd, hydralazine 25mg tid, simvastatin 20mg qd', 'profile is incomplete', 'hydralazine 50mg tid, isosorbide mono 30mg qd, atorvastatin 40mg qd, amlodipine 10mg qd', 'sildenafil 20mg q8h', 'isosorbide mono 30mg qd, hydralazine 25mg q8h,atorvastatin 40mg qd', 'isosrobide mononitrate 10mg qd, atorvastatin 20mg qd', 'potassium chloride er 20 meq tablet,extended release sig: give 1 tablet (20 meq) by oral route once daily with food', 'atorvastatin 20mg qd, hydralazine 25mg q8h, isosorbide din 10mg tid', 'norvasc 10 mg tablet sig: give 1 tablet (10 mg) by oral route once daily,', 'atorvastatin 20mg qd, isosorbide mono 60mg qd', 'atorvastatin 80mg qd, diltiazem hcl 90mg q8h hold if systolic below 100.', 'isosorbid mono 30mg qd, atorvastatin 20mg qd', 'atorvastatin 20mg qd,', 'hydralazine 25mg q8h, simvastatin 20mg qd', 'atorvasatin 10mg qd', 'norvasc 10mg qd, hydralazine 100mg tid', 'hydralazine 10mg q8h, simvastatin 10mg qd', 'amiodarone 100mg qd; midodrine hcl tablet 10 mg 3x/day', 'amlodipine 5mg qd, hydralazine 25mg q8h,isosorbide din 10mg *0.5tab tid', 'amlodipine 10mg qd, atorvasatin 10mg qd', 'amlodipine 10mg qd, nifedipine 30mg qd', 'hydralazine 100mg tid, nifedipine 90mg (nifediac cc 30mg +nifedical xl 60mg) qd, atorvastatin 20mg qd, isosorbide din 30mg tid, pletal 50 mg (cilostazol) bid', 'isosorbide din 20mg q8h, simvastatin 40mg qd', 'simvastatin 40 mg hs', 'isosorbide mono 120mg qd simvastatin 20mg qd', 'isosorbide din 10mg q8h, atorvastatin 10mg qd', 'metolazone 10mg bid', 'nitroglycerin tablet sublingual 0.4 mg 1 tablet sublingually every 5 minutes for chest pain for 3 doses if no relief call md, atorvastatin 20mg qd', 'metolazone 5mg qd 30 minutes after torsemide, simvastatin 20mg qd', 'atorvastatin 40mg qd, entresto tablet 49-51 mg (sacubitril-valsartan) bid', 'vasotec 5mg qd [was previously on isosorbide and hydralazine-d/c 7/17/18.', 'simvastatin 10mg hs', '10/23/17 inc. hydralazine 100mg q8h; amlopdine 10mg qd; isosorbide mon. er 120mg qd', 'hydralazine 25mg tid, atorvastatin 80mg qd, isosorbide mono 30mg qd', 'atorvastatin 80mg qd', 'potassium chloride 10meq qd2', 'atorvastatin 10mg qd, amlodipine 5mg qd', 'isosorbide din 10mg two times a day', 'amiodarone 200 mg qd; ; norvasc 5mg qd, atorvastatin 40mg qd', 'atorvastatin 40mg qd, hydralazine 100mg q8h, isosorbide mono 60mg qd', ', atorvastatin 20mg qd', 'atorvastatin 80mg qd, hydralazine 25mg tid, isosorbide mono 60mg qd', 'atorvastatin 20mg qd', 'hydralazine 75mg q8h, isosorbide mono 30mg qd, atorvastatin 80mg qd', 'amlodipine 10mg qd, atorvastatin 80mg qd, hydralazine 25mg q8h', 'simvastatin 10 mg hs', 'nitrostat sublingual 0.4mg prn, simvastatin 10mg hs', 'hydralazine 25 mg*3tab +50mg q 8 h , atorvastatin 40 mg hs, isosorbide din 10mg tid', 'crestor 10mg qd', 'amlodipine 10mg qd, atorvastatin 40mg hs', 'nifedipine er 90mg qd', 'atorvastatin 40mg hs2', 'atorvastatin 40mg qd, amiodarone 200mg q12h', 'n/a on records', 'amiodarone 200mg qd, simvastatin 10mg qd', 'pravastatine 80mg qd', 'hydrochlorothiazide 25mg qd, atorvastatin 10mg qd', 'isosorbide mono 30mg qd, amlodipine 10mg qd', 'nifedipine 60mg qd, simvastatin 40mg qd', 'hydralazine 50mg q6h', 'lipitor tablet 40 mg hs, nifedipine er 60 mg*2tab qd,isosorbide din 10mg tid', 'atorvastatin 40 mg hs', 'amlodipine 5 mg qd', 'nitroglycerin tablet sublingual 0.4 mg every 5mins, isosorbide mono 6-mg qd, atorvastatin 80mg qd', 'zocor 20mg qd', 'isosorbide mono 30mg qd, rosuvastatin 20mg qd', 'amlodipine 5mg q12h', 'cardizem 120mg qd2; pravastatin 10mg qd-dn', 'digoxin 0.125mg qd', 'nifedipine 30mg qd', 'atorvastatin 20mg qd, nifedipine 60mg qd', 'hydralazine 10mg tid', 'amlodipine 5mg qd, atorvastatin 80mg qd', 'hydralazine 25mg q6h when sys bp>150', 'amiodarone 200mg bid, atorvastatin 40mg qd', 'amlodipine besy-benazepril hcl capsule 5-10 mg qd, atorvastatin 40mg qd', 'zocor 40mg hs2', 'lipitor 10mg q evening; nitrostat sl 0.4 qd; amlodipine 10mg qd; clonidine 0.2mg q6h', 'hydralazine 50mg*1.5tab q8h; isosorbide dinitrate 40mg q8h', 'crestor 20mg qd', 'atorvastatin 40mg qd, hydralazine 50mg *2tab bid, niedipine 60mg bid', 'rosuvastatin 20mg qd, isosorbide mono 60mg qd', 'atorvastain 20mg qd, hydrochlorothiazide 12.5mg qd', 'isosorbide mono 30mg qd, nitroglycerin tablet sublingual 0.3 mg give 1 tablet sublingually every 5 minutes as needed for chest pain dissolve 1 tab under the tongue or in buccal pouch at first sign of an acute anginal attack. dose may be repeated approx every 5 mins until relief is obtained up to 3 doses. notify md/np at first c/o symptom', 'hydralazine 25mg q6h, isosorbide 10mg q6h', 'atorvastatin 20mg qd, nifedipine 90mg qd', 'nifedipine er 30mg qd', 'atorvastatin 80mg qd, nifedipine 30mg qd', 'atorvastatin 40mg hs', 'atorvastatin 40mg qd, hydralazine 25mg tid', 'hydralazine 25mg q8h, amlodipine 10mg qd, atorvastatin 40mg qd', 'atorvastatin 20mg qd, hydralazine 10mg q8h', 'amlodipine 10mg qd, atorvastatin 80mg qd', 'hydralazine 25mg q8h, isosorbide din 20mg tid', 'hydralazine 50mg every 8 hours (hold if bp <95/60)', 'amlodipine 10mg qd, simvastatin 20mg qd', 'atorvastatin 80mg qd, amlodipine 10mg qd, hydralazine 100mg q8h', 'norvasc 10 mg (amlodipine besylate)1 in the morning', 'pravastatin 40 mg once daily,', 'pravastatin sodium tablet 40 mg qd', 'nifedipine 60mg qd', 'amlodipine 2.5mg qd, amiodarone 100mg qd, hydrochlorothiazide 12.5mg qd', 'simvastatin 20mg qd', 'nifedipine 90mg qd, rosuvastatin 40mg qd', 'amlodipine 5mg qd, rosuvastatin 40mg qd', 'amlodipine 10mg qd, simvastatin 10mg 1hs', 'atorvastatin 40 mg qd', 'nifedipine er 60mg', 'simvastatin 40mg qd, hydralazine 10mg tid', 'isosorbide mono 30mg *3tab qd, amlodipine 10mg qd, atorvastatin 80mg qd, hydralazine 100mg q8h', 'isosorbide din 10mg q8h, atorvastatin 40mg qd, nitroglycerin tablet sublingual 0.3 mg every 5mins', 'hydralazine 50mg q8h', 'lipitor 40mg qd, isosorbide din 10mg tid', 'hydralazine 25mg q8h, isosorbide mono 30mg qd, lipitor 10mg qd', 'atorvastatin 40mghs', 'amlodipine 5mg qd, simvastatin 40mg qd, hydrochlorothiazide 25mg qd', 'nitroglycerin sublingual 0.4mg prn, atorvastatin 40mg qn', 'atorvastatin 20mg qd, hydralazine 10mg tid, amlodipine 10mg qd', 'isosorbide din 30mg qd, atorvasatin 80mg qd, amlodipine 5mg qd', 'diamox 250 bid', 'hydralazine 100mg 3x daily; nifedipine 60mg qd', 'midodrine 10mg q8h; amiodarone 200 mg qd', 'isosorbide dinitrate 10mg q8h, amlodipine 10mg qd, hydralazine 75mg q8h; and clonidine 0.3mg bid.', 'atorvastatin 20mg qd, amlodipine 10mg qd', 'amlodipine 5mg qd, atorvastatin 40mg qd', 'hydralazine 10mg qid, isosorbide din 10mg tid', 'amlodipine 5mg qd, hydralazine 25mg q8h', 'metolazone 5mg qd', 'amiodarone 200mg q12h, isosorbide mono 60mg qd, hydralazine 25mg q8h, lipitor 40mg qd', 'atorvastatin 20mg hs', 'simvastatin 20mg qd, nitroglycerin tablet sublingual 0.4 mg \\tgive 1 tablet sublingually every 5 minutes as needed for chest pain x 3 doses. if no relief, call md.', 'isosorbide din 10mg tid, rosuvastatin 5mg qd, hydralazine 25mg q8h']\n",
      "1.0    497\n",
      "0.0    267\n",
      "Name: other cardiac meds, dtype: int64\n"
     ]
    },
    {
     "name": "stdout",
     "output_type": "stream",
     "text": [
      "removing invalid row: 0\n",
      "\n",
      "patient_link                             n0EPhlbX\n",
      "enrollId                               n0EPhlbX_3\n",
      "Enrollment_Date                               NaN\n",
      "name                                 1 Tester, Mv\n",
      "create_user        notifications@providerloop.com\n",
      "Name: 0, dtype: object\n",
      "--------------------------------------------------\n",
      "\n",
      " \n",
      " Dropped 1 rows from the dataset\n",
      "New size of dataset: (763, 55)\n",
      "Setting outcome to 2 for patients that have been discharged but we don't have a status on them\n",
      "Setting outcome to 2 for patients that have been discharged but we don't have a status on them\n",
      "Setting outcome to 2 for patients that have been discharged but we don't have a status on them\n",
      "Setting outcome to 2 for patients that have been discharged but we don't have a status on them\n",
      "Setting outcome to 2 for patients that have been discharged but we don't have a status on them\n",
      "Setting outcome to 2 for patients that have been discharged but we don't have a status on them\n",
      "Setting outcome to 2 for patients that have been discharged but we don't have a status on them\n",
      "Setting outcome to 2 for patients that have been discharged but we don't have a status on them\n",
      "Setting outcome to 2 for patients that have been discharged but we don't have a status on them\n",
      "Setting outcome to 2 for patients that have been discharged but we don't have a status on them\n",
      "Setting outcome to 2 for patients that have been discharged but we don't have a status on them\n",
      "Setting outcome to 2 for patients that have been discharged but we don't have a status on them\n",
      "Setting outcome to 2 for patients that have been discharged but we don't have a status on them\n",
      "Setting outcome to 2 for patients that have been discharged but we don't have a status on them\n",
      "Setting outcome to 2 for patients that have been discharged but we don't have a status on them\n",
      "Setting outcome to 2 for patients that have been discharged but we don't have a status on them\n",
      "Setting outcome to 2 for patients that have been discharged but we don't have a status on them\n",
      "Setting outcome to 2 for patients that have been discharged but we don't have a status on them\n"
     ]
    },
    {
     "name": "stderr",
     "output_type": "stream",
     "text": [
      "/usr/lib/python3.7/site-packages/pandas/core/series.py:851: FutureWarning: \n",
      "Passing list-likes to .loc or [] with any missing label will raise\n",
      "KeyError in the future, you can use .reindex() as an alternative.\n",
      "\n",
      "See the documentation here:\n",
      "https://pandas.pydata.org/pandas-docs/stable/indexing.html#deprecate-loc-reindex-listlike\n",
      "  return self.loc[key]\n"
     ]
    }
   ],
   "source": [
    "df=meta_clean(df)"
   ]
  },
  {
   "cell_type": "markdown",
   "metadata": {},
   "source": [
    "Format columns"
   ]
  },
  {
   "cell_type": "code",
   "execution_count": 44,
   "metadata": {
    "scrolled": true
   },
   "outputs": [
    {
     "name": "stdout",
     "output_type": "stream",
     "text": [
      "========================================\n",
      "['date_of_birth'] columns set to datetime\n",
      "========================================\n",
      "['ef', 'admit_weight', 'weight', 'this_weight_change', 'weight_change_since_admit', 'bnp', 'this_bnp_change', 'bun', 'cr', 'sodium', 'potasium', 'mg', 'this_cr_change', 'resting_hr', 'systolic', 'diastolic', 'duration', 'age'] columns set to numeric\n",
      "========================================\n"
     ]
    }
   ],
   "source": [
    "from dtypeFun import *\n",
    "dtypePkl = \"pickle_jar/columnDtypes.pkl\"\n",
    "columnFormater(df, dtypePkl)"
   ]
  },
  {
   "cell_type": "markdown",
   "metadata": {},
   "source": [
    "Columns to keep"
   ]
  },
  {
   "cell_type": "code",
   "execution_count": 46,
   "metadata": {},
   "outputs": [],
   "source": [
    "keep_cols=['patient_gender', 'ef','admit_weight', 'acute_or_chronic',\n",
    "       'weight','this_weight_change','weight_change_since_admit', 'bnp',\n",
    "       'this_bnp_change','ace', 'bb', 'diuretics',\n",
    "       'anticoagulant', 'ionotropes', 'other_cardiac_meds', 'bun',\n",
    "       'cr', 'potasium', 'this_cr_change',\n",
    "       'resting_hr', 'systolic', 'diastolic', 'outcome',\n",
    "       'cad/mi', 'heart_failure_unspecfied', 'diastolic_heart_failure',\n",
    "       'systolic_chf', 'atrial_fibrilation', 'cardiomyoapthy', 'lvad',\n",
    "       'chf', 'duration', 'age' ,'F_5nKZ993n', 'F_71ADiKaS', 'F_Fy1r9IXM',\n",
    "       'F_KYzNhByH', 'F_L1V04aB0', 'F_US4llDDz', 'F_Xxk5Yn3E', 'F_kIUZIzRp',\n",
    "       'F_mB0G57bu']\n",
    "df=df[keep_cols]"
   ]
  },
  {
   "cell_type": "markdown",
   "metadata": {},
   "source": [
    "## impute missing values"
   ]
  },
  {
   "cell_type": "code",
   "execution_count": 47,
   "metadata": {},
   "outputs": [
    {
     "name": "stdout",
     "output_type": "stream",
     "text": [
      "Successfully imputed for all missing values\n"
     ]
    }
   ],
   "source": [
    "temporary_imputation(df)"
   ]
  },
  {
   "cell_type": "markdown",
   "metadata": {},
   "source": [
    "there remains 20 annoying patients with many missing values"
   ]
  },
  {
   "cell_type": "code",
   "execution_count": 48,
   "metadata": {},
   "outputs": [],
   "source": [
    "train(df).isnull().sum()\n",
    "df.dropna(inplace=True)"
   ]
  },
  {
   "cell_type": "markdown",
   "metadata": {},
   "source": [
    "Remove patients with unknown outcome"
   ]
  },
  {
   "cell_type": "code",
   "execution_count": 59,
   "metadata": {},
   "outputs": [],
   "source": [
    "df = df[df.outcome < 2]"
   ]
  },
  {
   "cell_type": "markdown",
   "metadata": {},
   "source": [
    "### train-test split"
   ]
  },
  {
   "cell_type": "code",
   "execution_count": 62,
   "metadata": {},
   "outputs": [],
   "source": [
    "from sklearn import linear_model\n",
    "from sklearn.model_selection import GridSearchCV, train_test_split\n",
    "from sklearn.metrics import confusion_matrix\n",
    "import itertools\n",
    "\n",
    "x=train(df).drop('outcome',axis=1)\n",
    "y=train(df).outcome\n",
    "\n",
    "x_train, x_test, y_train, y_test = train_test_split(x,y)"
   ]
  },
  {
   "cell_type": "code",
   "execution_count": 63,
   "metadata": {
    "scrolled": false
   },
   "outputs": [
    {
     "data": {
      "text/plain": [
       "0.0    166\n",
       "1.0    161\n",
       "Name: outcome, dtype: int64"
      ]
     },
     "execution_count": 63,
     "metadata": {},
     "output_type": "execute_result"
    }
   ],
   "source": [
    "y_train.value_counts()"
   ]
  },
  {
   "cell_type": "markdown",
   "metadata": {},
   "source": [
    "### Attempt to fit logistic regression"
   ]
  },
  {
   "cell_type": "code",
   "execution_count": 19,
   "metadata": {},
   "outputs": [],
   "source": [
    "from sklearn.linear_model import LogisticRegression"
   ]
  },
  {
   "cell_type": "code",
   "execution_count": 65,
   "metadata": {},
   "outputs": [
    {
     "name": "stdout",
     "output_type": "stream",
     "text": [
      "0.6422018348623854\n",
      "{'C': 0.013894954943731374}\n"
     ]
    },
    {
     "data": {
      "text/plain": [
       "array([[32, 19],\n",
       "       [17, 42]])"
      ]
     },
     "execution_count": 65,
     "metadata": {},
     "output_type": "execute_result"
    }
   ],
   "source": [
    "logistic = LogisticRegression()\n",
    "grid_param=10**np.linspace(-2,5,50)\n",
    "my_param_grid = {'C': grid_param }\n",
    "para_search = GridSearchCV(estimator=logistic, param_grid= my_param_grid, scoring='accuracy', cv=5, return_train_score=True) #param_grid=grid_param,\n",
    "para_search.fit(x_train,y_train)\n",
    "print(para_search.best_score_)\n",
    "print(para_search.best_params_)\n",
    "prediction=para_search.predict(x_test)\n",
    "cnf_matrix = confusion_matrix(y_test, prediction)\n",
    "cnf_matrix"
   ]
  },
  {
   "cell_type": "code",
   "execution_count": 66,
   "metadata": {},
   "outputs": [
    {
     "data": {
      "text/plain": [
       "patient_gender               0\n",
       "ef                           0\n",
       "admit_weight                 0\n",
       "acute_or_chronic             0\n",
       "weight                       0\n",
       "this_weight_change           0\n",
       "weight_change_since_admit    0\n",
       "bnp                          0\n",
       "this_bnp_change              0\n",
       "ace                          0\n",
       "bb                           0\n",
       "diuretics                    0\n",
       "anticoagulant                0\n",
       "ionotropes                   0\n",
       "other_cardiac_meds           0\n",
       "bun                          0\n",
       "cr                           0\n",
       "potasium                     0\n",
       "this_cr_change               0\n",
       "resting_hr                   0\n",
       "systolic                     0\n",
       "diastolic                    0\n",
       "cad/mi                       0\n",
       "heart_failure_unspecfied     0\n",
       "diastolic_heart_failure      0\n",
       "systolic_chf                 0\n",
       "atrial_fibrilation           0\n",
       "cardiomyoapthy               0\n",
       "lvad                         0\n",
       "chf                          0\n",
       "duration                     0\n",
       "age                          0\n",
       "F_5nKZ993n                   0\n",
       "F_71ADiKaS                   0\n",
       "F_Fy1r9IXM                   0\n",
       "F_KYzNhByH                   0\n",
       "F_L1V04aB0                   0\n",
       "F_US4llDDz                   0\n",
       "F_Xxk5Yn3E                   0\n",
       "F_kIUZIzRp                   0\n",
       "F_mB0G57bu                   0\n",
       "dtype: int64"
      ]
     },
     "execution_count": 66,
     "metadata": {},
     "output_type": "execute_result"
    }
   ],
   "source": [
    "x_train.isna().sum()"
   ]
  },
  {
   "cell_type": "code",
   "execution_count": 74,
   "metadata": {},
   "outputs": [
    {
     "data": {
      "text/plain": [
       "LogisticRegression(C=1.0, class_weight=None, dual=False, fit_intercept=True,\n",
       "          intercept_scaling=1, max_iter=100, multi_class='ovr', n_jobs=1,\n",
       "          penalty='l2', random_state=None, solver='liblinear', tol=0.0001,\n",
       "          verbose=0, warm_start=False)"
      ]
     },
     "execution_count": 74,
     "metadata": {},
     "output_type": "execute_result"
    }
   ],
   "source": [
    "logistic.fit(x_train, y_train)"
   ]
  },
  {
   "cell_type": "code",
   "execution_count": 99,
   "metadata": {},
   "outputs": [
    {
     "data": {
      "text/plain": [
       "0.691131498470948"
      ]
     },
     "execution_count": 99,
     "metadata": {},
     "output_type": "execute_result"
    }
   ],
   "source": [
    "logistic.score(x_train, y_train)"
   ]
  },
  {
   "cell_type": "code",
   "execution_count": 97,
   "metadata": {},
   "outputs": [
    {
     "data": {
      "text/plain": [
       "0.6090909090909091"
      ]
     },
     "execution_count": 97,
     "metadata": {},
     "output_type": "execute_result"
    }
   ],
   "source": [
    "logistic.score(x_test, y_test)"
   ]
  },
  {
   "cell_type": "code",
   "execution_count": 80,
   "metadata": {},
   "outputs": [],
   "source": [
    "coefficients = pd.DataFrame({\"features\" : x_train.columns, \"coeffs\" : logistic.coef_[0]})"
   ]
  },
  {
   "cell_type": "code",
   "execution_count": 83,
   "metadata": {},
   "outputs": [
    {
     "name": "stdout",
     "output_type": "stream",
     "text": [
      "                     features    coeffs\n",
      "37                 F_US4llDDz -0.622779\n",
      "29                        chf -0.510551\n",
      "36                 F_L1V04aB0 -0.510551\n",
      "38                 F_Xxk5Yn3E -0.314692\n",
      "40                 F_mB0G57bu -0.242063\n",
      "1                          ef -0.236024\n",
      "13                 ionotropes -0.194296\n",
      "10                         bb -0.189787\n",
      "23   heart_failure_unspecfied -0.180370\n",
      "25               systolic_chf -0.129216\n",
      "27             cardiomyoapthy -0.125408\n",
      "24    diastolic_heart_failure -0.087585\n",
      "32                 F_5nKZ993n -0.061970\n",
      "19                 resting_hr -0.025114\n",
      "17                   potasium -0.023104\n",
      "15                        bun -0.021386\n",
      "30                   duration -0.002148\n",
      "4                      weight -0.001645\n",
      "18             this_cr_change -0.001420\n",
      "7                         bnp -0.000299\n",
      "21                  diastolic  0.000485\n",
      "8             this_bnp_change  0.000646\n",
      "2                admit_weight  0.002790\n",
      "5          this_weight_change  0.004779\n",
      "20                   systolic  0.007435\n",
      "16                         cr  0.009912\n",
      "31                        age  0.015421\n",
      "14         other_cardiac_meds  0.019784\n",
      "6   weight_change_since_admit  0.021905\n",
      "9                         ace  0.040776\n",
      "26         atrial_fibrilation  0.057750\n",
      "33                 F_71ADiKaS  0.115835\n",
      "12              anticoagulant  0.146410\n",
      "0              patient_gender  0.249139\n",
      "3            acute_or_chronic  0.259118\n",
      "28                       lvad  0.350860\n",
      "11                  diuretics  0.419763\n",
      "22                     cad/mi  0.435794\n",
      "35                 F_KYzNhByH  0.547808\n",
      "34                 F_Fy1r9IXM  0.646803\n",
      "39                 F_kIUZIzRp  0.691903\n"
     ]
    }
   ],
   "source": [
    "print(coefficients.sort_values(\"coeffs\"))"
   ]
  },
  {
   "cell_type": "markdown",
   "metadata": {},
   "source": [
    "## Random Forest"
   ]
  },
  {
   "cell_type": "code",
   "execution_count": 85,
   "metadata": {},
   "outputs": [
    {
     "name": "stderr",
     "output_type": "stream",
     "text": [
      "/usr/lib/python3.7/site-packages/sklearn/ensemble/weight_boosting.py:29: DeprecationWarning: numpy.core.umath_tests is an internal NumPy module and should not be imported. It will be removed in a future NumPy release.\n",
      "  from numpy.core.umath_tests import inner1d\n"
     ]
    }
   ],
   "source": [
    "from sklearn import ensemble"
   ]
  },
  {
   "cell_type": "code",
   "execution_count": 86,
   "metadata": {},
   "outputs": [],
   "source": [
    "randomForest = ensemble.RandomForestClassifier()\n",
    "\n",
    "randomForest.fit(x_train, y_train)"
   ]
  },
  {
   "cell_type": "code",
   "execution_count": 96,
   "metadata": {},
   "outputs": [
    {
     "data": {
      "text/plain": [
       "0.6090909090909091"
      ]
     },
     "execution_count": 96,
     "metadata": {},
     "output_type": "execute_result"
    }
   ],
   "source": [
    "randomForest.score(x_test, y_test)"
   ]
  },
  {
   "cell_type": "code",
   "execution_count": 100,
   "metadata": {},
   "outputs": [
    {
     "data": {
      "text/plain": [
       "array([[36, 15],\n",
       "       [28, 31]])"
      ]
     },
     "execution_count": 100,
     "metadata": {},
     "output_type": "execute_result"
    }
   ],
   "source": [
    "confusion_matrix(y_test, randomForest.predict(x_test))"
   ]
  },
  {
   "cell_type": "code",
   "execution_count": 91,
   "metadata": {},
   "outputs": [],
   "source": [
    "forestImportance = pd.DataFrame({\"features\" : x_train.columns, \"scores\" : randomForest.feature_importances_})"
   ]
  },
  {
   "cell_type": "code",
   "execution_count": 98,
   "metadata": {},
   "outputs": [
    {
     "name": "stdout",
     "output_type": "stream",
     "text": [
      "                     features    scores\n",
      "30                   duration  0.092459\n",
      "15                        bun  0.078817\n",
      "19                 resting_hr  0.065027\n",
      "7                         bnp  0.057685\n",
      "8             this_bnp_change  0.057246\n",
      "31                        age  0.057059\n",
      "17                   potasium  0.055620\n",
      "4                      weight  0.053579\n",
      "18             this_cr_change  0.051636\n",
      "21                  diastolic  0.049646\n",
      "5          this_weight_change  0.048773\n",
      "2                admit_weight  0.048224\n",
      "6   weight_change_since_admit  0.038529\n",
      "20                   systolic  0.038237\n",
      "16                         cr  0.038136\n",
      "1                          ef  0.036718\n",
      "39                 F_kIUZIzRp  0.013767\n",
      "23   heart_failure_unspecfied  0.010482\n",
      "3            acute_or_chronic  0.010177\n",
      "37                 F_US4llDDz  0.010125\n",
      "38                 F_Xxk5Yn3E  0.009973\n",
      "10                         bb  0.008451\n",
      "34                 F_Fy1r9IXM  0.008224\n",
      "9                         ace  0.007599\n",
      "22                     cad/mi  0.006833\n",
      "33                 F_71ADiKaS  0.005749\n",
      "26         atrial_fibrilation  0.005387\n",
      "40                 F_mB0G57bu  0.005233\n",
      "0              patient_gender  0.004788\n",
      "29                        chf  0.003871\n",
      "35                 F_KYzNhByH  0.003854\n",
      "14         other_cardiac_meds  0.003740\n",
      "13                 ionotropes  0.003670\n",
      "11                  diuretics  0.003406\n",
      "12              anticoagulant  0.002938\n",
      "25               systolic_chf  0.002430\n",
      "27             cardiomyoapthy  0.001118\n",
      "24    diastolic_heart_failure  0.000796\n",
      "28                       lvad  0.000000\n",
      "32                 F_5nKZ993n  0.000000\n",
      "36                 F_L1V04aB0  0.000000\n"
     ]
    }
   ],
   "source": [
    "print(forestImportance.sort_values(\"scores\", ascending=False))"
   ]
  },
  {
   "cell_type": "code",
   "execution_count": 101,
   "metadata": {},
   "outputs": [
    {
     "data": {
      "text/plain": [
       "10.395"
      ]
     },
     "execution_count": 101,
     "metadata": {},
     "output_type": "execute_result"
    }
   ],
   "source": [
    "df.ef.max()"
   ]
  },
  {
   "cell_type": "code",
   "execution_count": null,
   "metadata": {},
   "outputs": [],
   "source": []
  }
 ],
 "metadata": {
  "kernelspec": {
   "display_name": "Python 3",
   "language": "python",
   "name": "python3"
  },
  "language_info": {
   "codemirror_mode": {
    "name": "ipython",
    "version": 3
   },
   "file_extension": ".py",
   "mimetype": "text/x-python",
   "name": "python",
   "nbconvert_exporter": "python",
   "pygments_lexer": "ipython3",
   "version": "3.7.0"
  }
 },
 "nbformat": 4,
 "nbformat_minor": 2
}
