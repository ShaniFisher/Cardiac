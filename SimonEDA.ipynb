{
 "cells": [
  {
   "cell_type": "markdown",
   "metadata": {},
   "source": [
    "- <a href=\"#acute_or_chronic\">acute_or_chronic</a><br>\n",
    "- <a href=\"#diagnoses\">diagnosis</a><br>\n",
    "- <a href=\"#labs\">Labs</a><br>\n",
    "- <a href=\"#pacemaker\">pacemaker</a><br>\n",
    "- <a href=\"#duration\">duration</a><br>\n",
    "- <a href=\"#\"></a><br>"
   ]
  },
  {
   "cell_type": "markdown",
   "metadata": {},
   "source": [
    "Load the data frame for EDA using %load Pipeline_clean.py"
   ]
  },
  {
   "cell_type": "code",
   "execution_count": 115,
   "metadata": {},
   "outputs": [
    {
     "name": "stdout",
     "output_type": "stream",
     "text": [
      "The autoreload extension is already loaded. To reload it, use:\n",
      "  %reload_ext autoreload\n",
      "Live Sheet:\n",
      "Sheet name: \"patients\"\n",
      "Retained columns: ['patient_link', 'date_of_birth', 'patient_gender', 'ef', 'special_status']\n",
      "\n",
      "Sheet name: \"patient_enrollment_records\"\n",
      "Retained columns: ['patient_link', 'facilities_link', 'enrollment_date', 'hospital_discharged_from', 'admit_weight', 'diagnosis_1', 'acute_or_chronic', 'aicd', 'status', 'discharge', 'discharge_date', 'cardiac_related', 'create_user']\n",
      "\n",
      "Sheet name: \"patient weights\"\n",
      "Retained columns: ['patient_link', 'name', 'patient_weight_date', 'weight', 'this_weight_change', 'weight_change_since_admit']\n",
      "\n",
      "Sheet name: \"patient BNP\"\n",
      "Retained columns: ['patient_link', 'bnp_date', 'bnp', 'this_bnp_change']\n",
      "\n",
      "Sheet name: \"Cardiac_Meds\"\n",
      "Retained columns: ['patient_link', 'cardiac_meds_date', 'ace', 'bb', 'diuretics', 'anticoagulant', 'ionotropes', 'other cardiac meds']\n",
      "\n",
      "Sheet name: \"patient labs\"\n",
      "Retained columns: ['patient_link', 'labs_date', 'bun', 'cr', 'sodium', 'potasium', 'mg', 'this_cr_change']\n",
      "\n",
      "Sheet name: \"patient BP\"\n",
      "Retained columns: ['patient_link', 'bp_date', 'resting_hr', 'systolic', 'diastolic', 'resting_bp']\n",
      "\n",
      "\n",
      "\n",
      "Archive Sheet:\n",
      "Sheet name: \"patient_enrollment_records\"\n",
      "Retained columns: ['patient_link', 'facilities_link', 'enrollment_date', 'hospital_discharged_from', 'admit_weight', 'diagnosis_1', 'acute_or_chronic', 'aicd', 'status', 'discharge', 'discharge_date', 'cardiac_related', 'create_user']\n",
      "\n",
      "Sheet name: \"patient weights\"\n",
      "Retained columns: ['patient_link', 'name', 'patient_weight_date', 'weight', 'this_weight_change', 'weight_change_since_admit']\n",
      "\n",
      "Sheet name: \"patient BNP\"\n",
      "Retained columns: ['patient_link', 'bnp_date', 'bnp', 'this_bnp_change']\n",
      "\n",
      "Sheet name: \"Cardiac_Meds\"\n",
      "Retained columns: ['patient_link', 'cardiac_meds_date', 'ace', 'bb', 'diuretics', 'anticoagulant', 'ionotropes', 'other cardiac meds']\n",
      "\n",
      "Sheet name: \"patient labs\"\n",
      "Retained columns: ['patient_link', 'labs_date', 'bun', 'cr', 'sodium', 'potasium', 'mg', 'this_cr_change']\n",
      "\n",
      "Sheet name: \"patient BP\"\n",
      "Retained columns: ['patient_link', 'bp_date', 'resting_hr', 'systolic', 'diastolic', 'resting_bp']\n",
      "\n",
      "\n",
      "\n",
      "0 NaT added to list\n",
      "0 NaT added to list\n",
      "Date column \"enrollment_date\" in sheet \"patient_enrollment_records\" has been converted to appropriate datatype\n",
      "\n",
      "0 NaT added to list\n",
      "6 NaT added to list\n",
      "Date column \"patient_weight_date\" in sheet \"patient weights\" has been converted to appropriate datatype\n",
      "\n",
      "85 NaT added to list\n",
      "80 NaT added to list\n",
      "Date column \"bnp_date\" in sheet \"patient BNP\" has been converted to appropriate datatype\n",
      "\n",
      "0 NaT added to list\n",
      "0 NaT added to list\n",
      "Date column \"cardiac_meds_date\" in sheet \"Cardiac_Meds\" has been converted to appropriate datatype\n",
      "\n",
      "0 NaT added to list\n",
      "41 NaT added to list\n",
      "Date column \"labs_date\" in sheet \"patient labs\" has been converted to appropriate datatype\n",
      "\n",
      "0 NaT added to list\n",
      "257 NaT added to list\n",
      "Date column \"bp_date\" in sheet \"patient BP\" has been converted to appropriate datatype\n",
      "\n",
      "194 NaT added to list\n",
      "Date column \"date_of_birth\" in sheet \"patients\" has been converted to appropriate datatype\n",
      "\n",
      "\n",
      "No records found in the data frame that match these enroll IDs:\n",
      "========================================\n",
      "Series([], Name: enrollId, dtype: object)\n",
      "Failed to add enrollID to 2 rows with indexes:\n",
      "========================================\n",
      "Int64Index([840, 983], dtype='int64')\n",
      "Added \"enrollID\" column to sheet \"patient_enrollment_records\"\n",
      "Could not find a least missing/most recent row for enrollId: nan\n",
      "Reduced sheet \"patient_enrollment_records\" from 1965 rows to 1395 rows by filtering most recent dates with least missing\n",
      "\n",
      "Records for all patients found in the data frame. Yay!\n",
      "\n",
      "Failed to add enrollID to 919 rows with indexes:\n",
      "========================================\n",
      "Int64Index([    4,     7,     8,    10,    11,    12,    13,    14,    15,\n",
      "               21,\n",
      "            ...\n",
      "            26026, 26027, 26055, 26134, 26135, 26138, 26142, 26143, 26144,\n",
      "            26145],\n",
      "           dtype='int64', length=919)\n",
      "Added \"enrollID\" column to sheet \"patient weights\"\n",
      "Could not find a least missing/most recent row for enrollId: nan\n",
      "Reduced sheet \"patient weights\" from 26202 rows to 1308 rows by filtering most recent dates with least missing\n",
      "\n",
      "Records for all patients found in the data frame. Yay!\n",
      "\n",
      "Failed to add enrollID to 423 rows with indexes:\n",
      "========================================\n",
      "Int64Index([   8,   13,   14,   18,   19,   35,   42,   92,  100,  120,\n",
      "            ...\n",
      "            6719, 6921, 6949, 6990, 6997, 7010, 7014, 7015, 7016, 7105],\n",
      "           dtype='int64', length=423)\n",
      "Added \"enrollID\" column to sheet \"patient BNP\"\n",
      "Could not find a least missing/most recent row for enrollId: nan\n",
      "Reduced sheet \"patient BNP\" from 7114 rows to 1103 rows by filtering most recent dates with least missing\n",
      "\n",
      "Records for all patients found in the data frame. Yay!\n",
      "\n",
      "Failed to add enrollID to 100 rows with indexes:\n",
      "========================================\n",
      "Int64Index([  38,  118,  160,  258,  259,  306,  404,  405,  406,  556,  580,\n",
      "             785,  991, 1027, 1190, 1279, 1280, 1381, 1393, 1479, 1525, 1615,\n",
      "            1663, 1798, 1803, 1950, 2147, 2278, 2280, 2286, 2347, 2377, 2388,\n",
      "            2446, 2526, 2568, 2666, 2667, 2714, 2812, 2813, 2814, 2964, 2988,\n",
      "            3193, 3399, 3435, 3598, 3687, 3688, 3789, 3801, 3887, 3933, 4024,\n",
      "            4394, 4866, 4867, 4883, 5075, 5076, 5109, 5111, 5113, 5545, 5547,\n",
      "            5557, 5782, 5787, 5892, 5895, 5896, 5897, 5931, 5940, 5941, 5971,\n",
      "            6032, 6034, 6035, 6039, 6082, 6140, 6169, 6215, 6318, 6360, 6362,\n",
      "            6363, 6414, 6500, 6714, 6724, 6728, 7382, 7383, 7384, 7385, 7386,\n",
      "            7391],\n",
      "           dtype='int64')\n",
      "Added \"enrollID\" column to sheet \"Cardiac_Meds\"\n",
      "Could not find a least missing/most recent row for enrollId: nan\n",
      "Reduced sheet \"Cardiac_Meds\" from 8728 rows to 1092 rows by filtering most recent dates with least missing\n",
      "\n",
      "Records for all patients found in the data frame. Yay!\n",
      "\n",
      "Failed to add enrollID to 507 rows with indexes:\n",
      "========================================\n",
      "Int64Index([   64,    70,    72,    74,    76,    78,    79,    80,    81,\n",
      "               82,\n",
      "            ...\n",
      "            10696, 10697, 10698, 10699, 10738, 10739, 10740, 10741, 10742,\n",
      "            10743],\n",
      "           dtype='int64', length=507)\n",
      "Added \"enrollID\" column to sheet \"patient labs\"\n",
      "Could not find a least missing/most recent row for enrollId: nan\n",
      "Reduced sheet \"patient labs\" from 10754 rows to 1233 rows by filtering most recent dates with least missing\n",
      "\n",
      "Records for all patients found in the data frame. Yay!\n",
      "\n",
      "Failed to add enrollID to 372 rows with indexes:\n",
      "========================================\n",
      "Int64Index([   0,   13,   23,   28,   44,   69,   73,   77,   90,   91,\n",
      "            ...\n",
      "            4594, 4595, 4612, 4809, 4813, 4815, 4818, 4821, 5296, 5602],\n",
      "           dtype='int64', length=372)\n",
      "Added \"enrollID\" column to sheet \"patient BP\"\n",
      "Could not find a least missing/most recent row for enrollId: nan\n",
      "Reduced sheet \"patient BP\" from 6175 rows to 1058 rows by filtering most recent dates with least missing\n",
      "\n",
      "\n",
      "\n",
      "Merged sheet \"patient weights\" with the full dataframe and changed the row number by -85\n",
      "Merged sheet \"patient BNP\" with the full dataframe and changed the row number by -216\n",
      "Merged sheet \"Cardiac_Meds\" with the full dataframe and changed the row number by -171\n",
      "Merged sheet \"patient labs\" with the full dataframe and changed the row number by -2\n",
      "Merged sheet \"patient BP\" with the full dataframe and changed the row number by -141\n",
      "\n",
      "\n",
      "DATA MERGE IS COMPLETE\n",
      "Setting outcome to 2 for patients that have been discharged but we don't have a status on them\n",
      "Setting outcome to 2 for patients that have been discharged but we don't have a status on them\n",
      "Setting outcome to 2 for patients that have been discharged but we don't have a status on them\n",
      "Setting outcome to 2 for patients that have been discharged but we don't have a status on them\n",
      "Setting outcome to 2 for patients that have been discharged but we don't have a status on them\n",
      "Setting outcome to 2 for patients that have been discharged but we don't have a status on them\n",
      "Setting outcome to 2 for patients that have been discharged but we don't have a status on them\n",
      "Setting outcome to 2 for patients that have been discharged but we don't have a status on them\n",
      "Setting outcome to 2 for patients that have been discharged but we don't have a status on them\n",
      "Setting outcome to 2 for patients that have been discharged but we don't have a status on them\n",
      "Setting outcome to 2 for patients that have been discharged but we don't have a status on them\n",
      "Setting outcome to 2 for patients that have been discharged but we don't have a status on them\n",
      "Setting outcome to 2 for patients that have been discharged but we don't have a status on them\n",
      "Setting outcome to 2 for patients that have been discharged but we don't have a status on them\n",
      "Setting outcome to 2 for patients that have been discharged but we don't have a status on them\n",
      "Setting outcome to 2 for patients that have been discharged but we don't have a status on them\n",
      "Setting outcome to 2 for patients that have been discharged but we don't have a status on them\n",
      "Setting outcome to 2 for patients that have been discharged but we don't have a status on them\n",
      "EF less than 0 set to None\n",
      "EF less than 0 set to None\n",
      "EF less than 0 set to None\n",
      "EF less than 0 set to None\n",
      "EF less than 0 set to None\n",
      "EF less than 0 set to None\n"
     ]
    },
    {
     "name": "stdout",
     "output_type": "stream",
     "text": [
      "num missing 240\n",
      "value counts before zero and one assignment: 0                                                      240\n",
      "lisinopril 5mg qd                                       27\n",
      "none                                                    25\n",
      "lisinopril 2.5mg qd                                     17\n",
      "losartan 50mg qd                                        12\n",
      "losartan 25mg qd                                         9\n",
      "lisinopril 10mg qd                                       9\n",
      "lisinopril 20mg qd                                       9\n",
      "losartan 100mg qd                                        6\n",
      "losartan potassium oral tablet 50 mg qd                  5\n",
      "enalapril 5mg qd                                         5\n",
      "enalapril 10mg qd                                        4\n",
      "lisinopril                                               3\n",
      "enalapril 20mg qd                                        3\n",
      "lisinopril 5mg bid                                       3\n",
      "losartan 50mg                                            2\n",
      "losartan potassium oral tablet 50 mg daily               2\n",
      "entresto tablet 24-26 mg (sacubitril-valsartan) bid      2\n",
      "losartan 100 mg qd                                       2\n",
      "lisinopril oral tablet 40 mg                             2\n",
      "enalapril 2.5mg daily                                    2\n",
      "losartan potassium oral tablet 25 mg, qd-every day       2\n",
      "lisinopril 5mg two times per day                         1\n",
      "norvasc 10 mg qd                                         1\n",
      "none due renal impairment d/c papers                     1\n",
      "vasotec 5mg qd                                           1\n",
      "enalapril 2.5mg qd                                       1\n",
      "allergic to ace                                          1\n",
      "losartan potassium oral tablet 50 mg, qd2-every day      1\n",
      "amlodopine 2.5 mg qd                                     1\n",
      "                                                      ... \n",
      "lisinopril oral tablet 10 mg                             1\n",
      "lisinopril 5 mg qd                                       1\n",
      "lisinopril 20g qd                                        1\n",
      "enalapril 20 mg qd                                       1\n",
      "valsartan 160mg qd                                       1\n",
      "losartan 100-25 mg qd                                    1\n",
      "enalipiril                                               1\n",
      "amlodipine 5 mg qd, entresto 24-26mg q12                 1\n",
      "hydralazine 25 tid; imdur 30 qd                          1\n",
      "10/23/17 add lisinopril 5mg qd                           1\n",
      "lisinopril 5mg q12h                                      1\n",
      "arb-losartan 50mg qd                                     1\n",
      "enalapril maleate oral tablet 5 mg qd                    1\n",
      "lisinopril 5mg qd\\nlosartan 50mg qd                      1\n",
      "benazepril 40mg bid2; clopidogrel 75mg qd2               1\n",
      "cozaar 100mg qd2                                         1\n",
      "lisinopril oral tablet 2.5 mg daily                      1\n",
      "lisinopril 20 mg                                         1\n",
      "enalapril maleate oral tablet 2.5 mg                     1\n",
      "lisinopril 2.5 mg qd,                                    1\n",
      "lisinopril oral tablet 10 mg qd                          1\n",
      "enalapril maleate oral tablet 0.5 mg                     1\n",
      "enalapril 2,5mg qd                                       1\n",
      "verapamil hcl er 180mg qd                                1\n",
      "lisinopril oral tablet 20 mg daily                       1\n",
      "lisinopril oral tablet 2.5 mg qd                         1\n",
      "losartan 150mg qd                                        1\n",
      "enalapril maleate oral tablet 10 mg                      1\n",
      "lisinopril 5 bid                                         1\n",
      "enalapril 2.5 mg  qd                                     1\n",
      "Name: ace, Length: 91, dtype: int64\n",
      "zero values: ['none due renal impairment d/c papers', 'none', 'allergic to ace; \\non arb: 10/23/17 inc. to lorsartan potassium 100mg qd', 'allergic to ace']\n",
      "Values set to 1.0: \n",
      " ['enalapril 2.5mg qd', 'enalapril 20 mg qd', 'enalapril maleate oral tablet 5 mg', 'entresto tablet 97-103 mg (sacubitril-valsartan) bid', 'lisinopril oral tablet 10 mg daily', \"ramipril 5mg qd d/c'd 2/2 to chronic cough\", 'losartan potassium oral tablet 50 mg, qd2-every day', 'lisinopril oral tablet 2.5 mg daily', 'lisinopril 2.5 mg qd,', 'lisinopril oral tablet 2.5 mg qd', 'isosorbide mononitrate 10mg daily', 'lisinopril 5mg', 'hydralazine 100mg q6h', 'enalapril maleate oral tablet 20 mg, bid', 'losartan 100-25 mg qd', 'lisinopril 2.5mg', 'lisinopril oral tablet 10 mg', 'lisinopril 5mg ds', 'lisinopril 5 mg qd', 'lisinopril oral tablet 20 mg qd', 'enalapril 10 mg bid', 'norvasc 10 mg qd', 'arb: losartan 50mg qd', 'losartan 100mg qd', 'enalapril', 'lisinopril 20g qd', 'lisinopril 5mg - bid', 'lisinopril 5mg q12h', 'enalapril 2.5 mg  qd', 'benazepril 40mg bid2; clopidogrel 75mg qd2', 'cozaar 100mg qd2', 'losartan potassium oral tablet 25 mg, qd-every day', 'lisinopril oral tablet 40 mg', 'arb-losartan 50mg qd', 'hydralazine 25 tid; imdur 30 qd', 'lisinopril', 'enalapril 20mg qd', 'entresto tablet 24-26 mg (sacubitril-valsartan) bid', 'lisinopril 5mg two times per day', 'lisinopril 5 bid', 'losartan 50mg', 'amlodipine 5 mg qd, entresto 24-26mg q12', 'enalapril maleate oral tablet 2.5 mg', 'lisinopril 2.5 mg qd', 'isosorbide dinitrate 5mg q12h', 'enalapril 10 q12h', 'lisinopril oral tablet 5 mg qd', 'coreg 3.125mg q12h', 'lisinopril 20mg qd', 'losartan potassium oral tablet 25 mg', 'lisinopril 10mg qd', 'enalipiril', 'vasotec 10mg qd', 'lisinopril 2.5mg qd', 'enalapril maleate oral tablet 5 mg qd', 'enalapril 5mg bid', 'verapamil hcl er 180mg qd', 'lisinopril oral tablet 10 mg qd', 'enalapril 2,5mg qd', 'lisinopril oral tablet 20 mg daily', 'enalapril 5mg qd', 'ramipril 2.5mg qd', 'lisinopril 5mg bid', 'valsartan 160mg qd', 'amlodopine 2.5 mg qd', 'losartan 25mg qd', 'enalapril 2.5mg daily', 'lisinopril tablet 5 mg od', 'losartan potassium oral tablet 50 mg qd', 'lisinopril 5mg qd\\nlosartan 50mg qd', 'lorsartan potassium 50mg qd', '10/23/17 add lisinopril 5mg qd', 'losartan 50mg qd', 'enalapril maleate oral tablet 10 mg', 'lisinopril 20 mg', 'losartan 150mg qd', 'quinapril 20mg qd', 'vasotec 5mg qd', 'enalapril 10mg qd', 'enalapril maleate oral tablet 0.5 mg', 'lisinopril 5 mg qd,', 'losartan 25 mg daily', 'losartan potassium oral tablet 50 mg daily', 'losartan 100 mg qd', 'lisinopril 5mg qd', 'enalapril 20mg daily']\n",
      "0.0    268\n",
      "1.0    192\n",
      "Name: ace, dtype: int64\n",
      "num missing 118\n",
      "value counts before zero and one assignment: 0                                                                     118\n",
      "metoprolol 25mg qd                                                     22\n",
      "metoprolol 100mg qd                                                    15\n",
      "metoprolol 50mg qd                                                     15\n",
      "none                                                                   15\n",
      "metoprolol 25mg q12h                                                   14\n",
      "metoprolol 25mg bid                                                    10\n",
      "metoprolol 50mg q12h                                                    9\n",
      "carvedilol 12.5mg q12h                                                  8\n",
      "carvedilol 25mg q12h                                                    7\n",
      "carvedilol 6.25mg bid                                                   6\n",
      "metoprolol 50mg bid                                                     5\n",
      "carvedilol 3.125mg q12h                                                 5\n",
      "carvedilol 12.5mg bid                                                   5\n",
      "metoprolol 200mg qd                                                     5\n",
      "coreg 6.25mg bid                                                        4\n",
      "metoprolol 100mg q12h                                                   4\n",
      "toprol 25 mg qd                                                         3\n",
      "labetalol                                                               3\n",
      "carvedilol oral tablet 6.25 mg q12h                                     3\n",
      "carvedilol 25mg bid                                                     3\n",
      "metoprolol 50mg q8h                                                     3\n",
      "carvedilol 6.25mg q12h                                                  3\n",
      "labetalol 200mg q12h                                                    3\n",
      "carvedilol 3.125mg bid                                                  3\n",
      "labetalol 300mg q8h                                                     2\n",
      "metoprolol 100mg two times per day                                      2\n",
      "metoprolol                                                              2\n",
      "metoprolol 25mg *0.5tab q12h                                            2\n",
      "carvedilol 6.25mg two times per day                                     2\n",
      "                                                                     ... \n",
      "metoprolol tartrate 50mg q12h                                           1\n",
      "metoprolol succ 25mg qd                                                 1\n",
      "carvedilol oral tablet 3.125 mg                                         1\n",
      "carvedilol oral tablet 25 mg every 12 hours                             1\n",
      "coreg 3.125mg two times a day                                           1\n",
      "metoprolol succ 25 mg daily                                             1\n",
      "carvedilol oral tablet 6.25 mg, 0.5 tablets twice daily                 1\n",
      "carvedilol 12.5 mg 1 tablet (12.5 mg) by oral route every 12 hours      1\n",
      "metoprolol 50 mg qd                                                     1\n",
      "bystolic tab 5mg qd                                                     1\n",
      "toprol xl 25mg daily                                                    1\n",
      "toprol 50mg qd                                                          1\n",
      "metoprolol tartrate 25mg q12h                                           1\n",
      "metoprolol100mg q12h                                                    1\n",
      "coreg 3.125 po q12h                                                     1\n",
      "carvedilol 25mg twice daily                                             1\n",
      "carvedilol 3.125 mg q12h                                                1\n",
      "metoprolol succ er 50 mg q12h                                           1\n",
      "bystolic 10mg qd                                                        1\n",
      "carvedilol 6.25mg bid2                                                  1\n",
      "metoprolol tartrate 25mg *0.5  two times per day                        1\n",
      "amiodarone 200 mg qd                                                    1\n",
      "carvedilol 3.125mg qd, metoprolol tart 50mg q12h                        1\n",
      "metoprolol er 100mg qd                                                  1\n",
      "metoprolol 25mg *3tab qd                                                1\n",
      "carvedilol oral tablet 25 mg bid                                        1\n",
      "metoprolol 50 twice daily                                               1\n",
      "carvedilol 25mg two times a day                                         1\n",
      "metoprolol 25mg *0.5tab two times a day                                 1\n",
      "coreg 3.125 mg bid                                                      1\n",
      "Name: bb, Length: 175, dtype: int64\n",
      "zero values: ['none']\n",
      "Values set to 1.0: \n",
      " ['carvedilol 25mg bid', 'coreg 3.125mg bid', 'bisoprolol 5 mg qd', 'labetalol 300mg q8h', 'metoprolol 50 mg qd', 'carvedilol 12.5 mg bid', 'carvedilol 3.125mg bid', 'carvedilol oral tablet 6.25 mg q12h', 'metoprolol 25mg bid', 'coreg cr capsule extended release 24 hour 10 mg (carvedilol phosphate er) qd', 'atenolol 25mg qd', 'carvedilol oral tablet 3.125 mg every 12 hours', 'carvedilol 3.125mg 2x', 'labetalol 200mg *2tab q8h', 'metoprolol  succ er 25mg qd', 'metoprolol 25mg *0.5tab q12h', 'coreg 25mg bid', 'carvedilol oral tablet 25 mg every 12 hours', 'metoprolol 25mg  q12h', 'metoprolol succinate er 100 mg  once daily  hold for hr <60, bp < 100 systolic and notify md/np', 'atenolol oral tablet 25 mg 0.5 tablet qd', 'metoprolol succ er 25mg qd', \"bisoprolol d/c'd 11/20/17\", 'carvedilol 3.125mg', 'coreg 6.25mg q12h', 'metoprolol 25 mg*0.5tab qd', 'metoprolol succ er 100mg qd', 'coreg 3.125mg two times a day', 'labetalol 300 mg bid', 'metoprolol tartrate 50 mg tablet sig: give 1 tablet (50 mg) by oral route every 12 hours', 'toprol 25 mg qd', 'metoprolol 25mg *0.5tab two times a day', 'carvedilol oral tablet 6.25 mg bid', 'metoprolol er 50mg qd\\nmetoprolol tartrate 25mg qd\\nsotalolhcl  80mg qd', 'labetalol', 'amiodarone 200 mg qd', 'metoprolol tartrate 50mg q12h', 'metoprolol succ 25 mg daily', 'carvedilol oral tablet 6.25 mg, 0.5 tablets twice daily', 'bystolic tab 5mg qd', 'metoprolol100mg q12h', 'toprol xl 50mg qd', 'metoprolol succ er 50 mg q12h', 'bystolic 10mg qd', 'metoprolol tartrate 25mg *0.5  two times per day', 'carvedilol oral tablet 25 mg bid', 'metoprolol 50 twice daily', 'carvedilol 3.125mg q12h', 'metoprolol 100mg q12h', 'metoprolol tartrate 25mg bid', 'labetalol 200mg q12h', 'metoprolol 25mg qd', 'metoprolol 50mg qd', 'metoprolol 25mg q12 h', 'labetolol 200mg bid', 'metoprolol succ er 50 mg qd', 'carvedilol oral tab 25 mg bid', 'toprol 100mg qd', 'carvedilol', 'cravedilol 25mg q12h\\nmetoprolol 50mg qd', 'metoprolol 12.5mg qd', 'bisoprolol 5mg qd', 'metoprolol 25mg*2tab q12h', 'coreg 25 bid', 'metoprolol 100mg  qd', 'labetalol hcl oral tablet 200 mg daily', 'metoprolol 50 mg q12h', 'labetalol 200 mg bid', 'cravedilol 25mg q12h', 'metoprolol 25 mg daily', 'carvedilol 6.25 mg 1 tablet (6.25 mg) by oral route 2 times per day', 'coreg 3.125 po q12h', 'coreg 3,125mg bid', 'carvedilol oral tablet 3.125 mg', 'metoprolol tartrate oral tablet 25mg qd', 'metoprolol 12.5 mg q12, coreg 6.25 mg q12,', 'atenolol oral tablet 100 mg daily', 'metoprolol 25mg q12h2', 'labetalol 200mg bid', 'coreg 6.25 bid', 'carvedilol 3.125 mg q12h', 'metoprolol tartrate oral tablet 25 mg', 'metoprolol tartrate oral tablet 25 mg  - bid', 'metoprolol succinate 25 mg qd', 'metoprolol', 'metoprolol 100 mg qd', 'metoprolol tartrate oral tablet 50 mg q12 h', 'metoprolol 25 mg er qd,', 'metoprolol tartrate 25mg *0.5tabqd', 'metoprolol tartrate oral tablet 50 mg, q12h', 'metoprolol 25 mg q12h', 'carvedilol12.5mg q12h', 'carvedilol 12.5mg bid2', 'metoprolol 50mg q12h', 'labetalol 100mg q12h', 'metoprolol 200mg qd', 'metoprolol tartrate 25 mg two times per day', 'metoprolol 25mg *0.5tab qd', 'toprol xl 12.5mg qd', 'carvedilol 6.25mg bid', 'coreg 12.5mg q12h', 'metoprolol er 50mg qd', 'metoprolol 25mg *0.5tab two times per day', 'labetalol 200mg q8h', 'metoprolol 25mg *0.5tab bid', 'carvedilol 6.25mg two times a day', 'labetalol 300mg q12h', 'metoprolol tartrate oral tablet 25 mg, bid-twice daily', 'labetalol 100mg q8h', 'metoprlol 25mg qd', 'coreg 12.5mg bid', 'metoprolol 200mg q12h', 'toprol 50 qd', 'coreg 3.125 mg bid', 'metoprolol  50 mg qd', 'carvedilol 12.5mg q12h', 'labetalol 200mg tid', 'metoprolol er 50 mg qd', 'coreg 6.25mg bid', 'carvedilol 12.5mg *3tab q12h', 'toprol xl 25mg daily', 'metoprolol 75mg q12h', 'metoprolol succinate er oral tablet extended release 24 hour 25 mg qd', 'carvedilol 25mg twice daily', 'carvedilol 6.25mg bid2', 'carvedilol 12.5mg bid', 'carvedilol 25mg q12h', 'carvedilol 6.25mgbid', 'toprol 50mg qd', 'metoprolol 25mg  q8h hold if sbp <90 or hr <60', 'coreg 25mg q12', 'metoprolol er 100mg qd', 'carvedilol oral tablet 12.5 mg', 'carvedilol 25mg two times a day', 'metoprolol succ 25mg qd', 'labetalol 300 mg q 8 h,', 'metoprolol 50mg bid', 'metoprolol 75mg bid', 'metoprolol 25mg q12h', 'metoprolol 25mg *3tab q12h', 'carvedilol 6.25mg two times per day', 'coreg 25mg q12h', 'metoprolol 50mg q8h', 'metoprolol tartrate oral tablet 100 mg, q12h', 'carvedilol oral tablet 6.25 mg', 'coreg 6.25mg qd', 'metoprolol 100mg two times per day', 'metoprolol 25mg', 'metoprolol 100mg qd', 'metoprolol succinate er oral tablet extended release 24 hour 50 mg qd', 'carvedilol 12.5 mg', 'atenolol 100mg qd', 'metoprolol 50mg', 'metoprolol tartrate oral tablet 100 mg bid', 'metoprolol succinate er oral tablet extended release 24 hour 25 mg', 'metoprolol 100mg q8h', 'toprol 25mg *0.5tab qd', 'carvedilol 3.125mg qd, metoprolol tart 50mg q12h', 'metoprolol tartrate oral tablet 25 mg, q12h-every 12 hours', 'metoprolol 25mg p.o. bid', 'carvedilol 12.5 mg 1 tablet (12.5 mg) by oral route every 12 hours', 'metoprolol tartrate 25mg q12h', 'toprol xl oral tablet extended release 24 hour 25 mg, qd-every day', 'labetalol 200mg*2tab tid', 'metoprolol 50 mg  q12h', 'labetalol hcl oral tablet 100 mg every 8 hours', 'carvedilol 6.25mg q12h', 'labetalol 300mg twice daily', 'metoprolol 25mg *3tab qd', 'coreg 6.25mg q12,', 'metoprolol 50 mg bid', 'metoprolol tartrate oral tablet 25 mg bid']\n",
      "1.0    326\n",
      "0.0    134\n",
      "Name: bb, dtype: int64\n",
      "num missing 148\n",
      "value counts before zero and one assignment: 0                                                                              148\n",
      "lasix 40mg qd                                                                   25\n",
      "lasix 20mg qd                                                                   19\n",
      "furosemide 20mg qd                                                              19\n",
      "furosemide 40mg qd                                                              15\n",
      "none                                                                            13\n",
      "furosemide 40mg bid                                                             10\n",
      "lasix 40mg bid                                                                   6\n",
      "furosemide 20mg bid                                                              5\n",
      "furosemide 80mg qd                                                               5\n",
      "furosemide oral tablet 40 mg qd                                                  5\n",
      "furosemide oral tablet 20 mg                                                     4\n",
      "torsemide 20mg qd                                                                4\n",
      "furosemide 40mg q12h                                                             3\n",
      "lasix 40 mg qd                                                                   3\n",
      "lasix                                                                            3\n",
      "bumetanide 2mg qd                                                                3\n",
      "furosemide                                                                       2\n",
      "lasix 80mg qd                                                                    2\n",
      "furosemide 20mg *3tab qd                                                         2\n",
      "lasix 20 mg qd                                                                   2\n",
      "bumetanide 2mg bid                                                               2\n",
      "lasix 40mg                                                                       2\n",
      "lasix 80mg bid                                                                   2\n",
      "lasix 20mg daily                                                                 2\n",
      "furosemide 80mg bid                                                              2\n",
      "torsemide 20mg *2tab qd                                                          2\n",
      "torsemide 100 mg  two times per day                                              2\n",
      "spironolactone 25mg qd                                                           2\n",
      "lasix oral tablet 40 mg                                                          2\n",
      "                                                                              ... \n",
      "furosemide 80 mg every 12 hours                                                  1\n",
      "spironolactone 25mg qd\\nclopidogrel 75mg qd                                      1\n",
      "bumetanide 2mg q12h                                                              1\n",
      "spironolactone 25mg qd; bumetadine 2mg bid; metolazone 2.5mg tid2                1\n",
      "furosemide 80mg bid\\nspironolactone 50mg qd                                      1\n",
      "furosemide 20mg two times a day                                                  1\n",
      "torsemide 20mg *2tab qd\\nmetolazone 5mg q48h                                     1\n",
      "furosemide 20mg *3tabqd\\nspirinolactone 25mg *0.5tab qd                          1\n",
      "spironolactone 25mg*0.5tab qd\\nfurosemide 20mg qd                                1\n",
      "spironolactone 50mg qd                                                           1\n",
      "bumetanide 3 mg qd,                                                              1\n",
      "bumex 1mg                                                                        1\n",
      "furosemide tab 40mg bid                                                          1\n",
      "lasix 80 mg bid\\naldactone 25mg qd                                               1\n",
      "spironolactone  25mg qd                                                          1\n",
      "spironolactone 25mg qd\\ntorsemide 100mg qd                                       1\n",
      "lasix 40mg q12h(until 05242018)\\nlasin 20mg qd(on hold)                          1\n",
      "lasix 60 mg bid                                                                  1\n",
      "furosemide 40mg qd\\nspironolactone 25mg qd                                       1\n",
      "lasix 40mg qd\\nspironolactone 25mg *0.5tab qd                                    1\n",
      "metolazone 2.5mg qd  every mon, thu\\ntorsemide 20mg*2 tab qd with breakfast      1\n",
      "metolazone 2.5mg bid\\nspironolactone 25mg qd                                     1\n",
      "lasix oral tablet 40 mg q12 h                                                    1\n",
      "furosemide 40mg qd\\nspirinolactone 25mg*0.5tab qd                                1\n",
      "sildenafil 20 mg q 8h,                                                           1\n",
      "metolazone 2.5mg qd                                                              1\n",
      "lasix 20mg hs                                                                    1\n",
      "furosemide 20mg*3tab qd                                                          1\n",
      "furosemide 20mg*3tab  qd\\nbumetanide 2mg qd                                      1\n",
      "furosemide 60mg qd                                                               1\n",
      "Name: diuretics, Length: 173, dtype: int64\n",
      "zero values: ['lasix 40mg qd; eplerenone 25mg qd\\nspironolactone 25mg qd', 'none']\n",
      "Values set to 1.0: \n",
      " ['lasix 20mg  bid', 'lasix 40mg *1.5tab qd\\nspironolactone 25mg*0.5tab qd', 'lasix 20mg qd\\nspironolactone 25mg qd', 'furosemide 40mg tid', 'furosemide oral tablet 20 mg qd', 'metolazone 2.5mg daily', 'lasix', 'furosemide oral tablet 20 mg, qd', 'furosemide 20mg and spironolactone 25mg daily', 'lasix 60 mg bid', 'lasix 40mg qd\\naldactone 25mg*0.5tab qd', 'metolazone 2.5mg qd\\nspironolactone 50mg qd\\ntorsemide 20mg *2tab bid', 'spironolactone  25mg qd', 'lasix 40mg daily (spironolactone ended 08/13/17)', 'lasix 20mg *2tb qd', 'lasix 40mg qd2', 'lasix 40mg qd\\nquinapril 5mg qd', 'furosemide 80mg qd\\nmetolazone 5 mg qd', 'furosemide 40 mg tablet sig: give 1 tablet (40 mg) by oral route 2 times per day', 'torsemide 100mg bid', 'spironolactone 100mg bid \\nlasix 40mg bid', 'furosemide oral tablet 20 mg, qd-daily', 'furosemide 40mg qd\\nlasix 40mg qd for 5 days(starting 05202018)', 'lasix 40mg *2tab qd', 'lasix 20 qd', 'lasix 80mg qd\\naldactone 50mg qd', 'spironolactone 25mg qd\\nfurosemide 20mg qd', 'torsemide 20mg*2tab qd', 'furosemide 80mg bid\\nspironolactone 50mg qd', 'bumetanide 1mg qd', 'furosemide oral tablet 20 mg, qd-every day', 'furosemide 20mg*3tab  qd\\nbumetanide 2mg qd', 'furosemid 20mg qd\\nlasix 20mg qd', 'furosemide 40 mg 2 times per day', 'furosemide solution 40 mg/4ml - 20mg qd', 'furosemide oral tablet 80 mg qd\\n11/18/17 zaroxolyn 5mg 1/2hr before lasix x 5days', 'lasix 40 mg qd', 'bumetanide 1 mg, spironolactone 25 mg', 'furosemide 20mg *3tabqd\\nspirinolactone 25mg *0.5tab qd', 'spironolactone 25mg qd; bumetadine 2mg bid; metolazone 2.5mg tid2', 'lasix 80 mg qd, metolazone 2.5 mg qd', 'bumetanide tab 2mg bid', 'lasix 20mg qd\\nspironolactone 50mg qd', 'furosemide 40mg q12h', 'lasix 40mg qd \\nspironolactone 25mg qd', 'lasix 20 mg every 12 hours', 'lasix 20mg qd (06092018-06112018)', 'furosemide 80 mg every 12 hours', 'furosemide 40mg bid', 'lasix 80mg qd', 'furosemide', 'bumetanide 2mg bid', 'bumetanide 1mg  two times per day\\nmetolazone 5mg qd', 'metolazone 2.5mg qd', 'furosemide 40mg *1.5tab q12h', 'furosemide oral tablet 40 mg', 'furosemide oral tablet 20 mg, mg, qd-every day', 'metolazone 2.5mg bid\\nspironolactone 25mg qd', 'furosemide 20mg*3tab  3x per week on non-dialysis day mwf', 'lasix 80mg bid', 'furosemide oral tablet 20 mg qd\\nspironolactone 25mg qd', 'furosemide 40mg qd\\nspironolactone 25mg qd', 'lasix 40mg q12h(until 05242018)\\nlasin 20mg qd(on hold)', 'furosemide tab 20mg qd', 'bumetanide 3 mg qd,', 'bumex 1mg', 'furosemide oral tablet 40 mg qd\\nspironolactone 25 mg qd', 'lasix 40mg bid', 'lasix 20mg daily', 'furosemide 20mg qd', 'lasix 40mg bid2', 'furosemide oral tablet 20 mg', 'lasix oral tablet 60 mg qd\\nspirinolactone 12.5mg qd\\n10/11/17 diuril 250mg orally added x 4 days', 'torsemide 60mg qd\\nspironolactone 25mg qd', 'bumetanide oral tab 2mg qd', 'spironolactone 25mg qd', 'furosemide 80mg bid', 'furosemide 80 mg bid', 'torsemide 100 mg  two times per day', 'furosemide 20mg two times a day', 'lasix oral tablet 40 mg, qd', 'metolazone 5mg  tiw\\naldactone 25mg  tiw\\nlasix 40mg  bid', 'lasix 60mg bid', 'furosemide 40 mg', 'lasix 40mg q48h', 'bumex 1 mg qd', 'furosemide 40mg 2x', 'lasix 40mg p.o. daily', 'furosemide 80mg qd', 'eliquis', 'lasix 80mg bid, aldactone 25mg qd, acetazolamide 250mg bid.', 'furosemide oral tablet 40 mg bid', 'furosemide 80mg qd\\nfurosemide 20mg hs', 'spironolactone 25mg*2tab qd\\ntorsemide 100mg 0.5tab bid', 'lasix 40mg*1.5tab bid', 'furosemide 20mg *3tab qd', 'lasix 20mg qd2', 'lasix 20mg qd', 'furosemide 80mg 1x', 'bumetadine 1mg qd', 'furosemide 20mg qd hold if bp is less than 90/60', 'torsemide 20mg *4tab bid', 'furosemide 40mg qd', 'furosemide 20mg*3tab  qd', 'lasix 60mg qd; aldactone 25mg qd', 'bumex 2mg bid', 'lasix oral tab 20mg bid', 'torsemide 20mg qd', 'lasix oral tablet 20 mg qd', 'bumetanide 0.5mg q2d', 'lasix 40mg', 'lasix 40mgbid and zaroxolyn 2.5mg od', 'spironolactone 25mg qd\\nlasix 40mg q48h', 'spironolactone 50mg qd', 'furosemide oral tablet 60 mg qd', 'torsemide 20mg q12h', 'torsemide 20mg *2tab qd\\nmetolazone 5mg q48h', 'furosemide 20 mg qd', 'furosemide 60mg qd', 'furosemide 40mg qd\\nspirinolactone 25mg*0.5tab qd', 'spironolactone 25mg qd\\nclopidogrel 75mg qd', 'bumetanide 2 mg 1 tablet (2 mg) by oral route 2 times per day', 'spironolactone 25mg qd furosemide 20mg qd', 'lasix 40mg qd\\naldactone 50mg qd', 'lasix 20 mg qd', 'spironolactone 25mg *0.5tab qd\\nfurosemide 80mg qd', 'lasix 40 mg qd spironolactone 25mg qd', 'lasix oral tablet 40 mg', 'furosemide tab 40mg bid', 'lasix 80 mg bid\\naldactone 25mg qd', 'lasix 20mg *3tab bid', 'bumetadine 1mg +0.5mg qd', 'lasix 20 mg qd2', 'furosemide oral tablet 40 mg qd', 'lasix 20mg hs', 'furosemide 20mg bid', 'sildenafil 20 mg q 8h,', 'lasix 20mg twice daily', 'bumetanide 2mg qd', 'lasix oral tablet 40 mg q12 h', 'metolazone 2.5mg qd  every mon, thu\\ntorsemide 20mg*2 tab qd with breakfast', 'lasix 40mg qd\\nspironolactone 25mg *0.5tab qd', 'hctz 50mg qd', 'spironolactone 25mg qd\\ntorsemide 100mg qd', 'bumetanide 2mg q12h', 'spironolactone 25mg qd\\nfurosemide 80mg qd  2 times per week monday and thrusday', 'reduce bumex to 2mg daily and hold spironolactone, touch base on 8/4 with labs', 'furosemide 40mg qd\\nspironolactone 25mg bid', 'lasix 40 mg q 12', 'lasix oral tablet 40 mg qd', 'furosemide 40mg qd\\nfurosemide 40mg qd (untill 05142018)', 'spirolactone 25mg qd', 'spironolactone 25mg*0.5tab qd\\nfurosemide 40mg qd', 'bumex 1mg bid', 'lasix 40mg qd', 'furosemide 20mg*3tab qd', 'quinapril 20mg qd', 'lasix 20mg qd\\naldactone 25mg qd', 'spironolactone 25mg bid\\nlasix 20mg qd', 'furosemide 80mg qd every tue, thu, sat', 'lasix 20mg qg', 'aldactone 25mg *0.5tab qd', 'furosemide 20mg daily, special instructions:hold for sbp <100*** ▼', 'furosemide oral tablet 20 mg daily', 'torsemide 20mg *2tab qd', 'spironolactone 25mg*0.5tab qd\\nfurosemide 20mg qd', 'furosemide 40mg qd\\nspironolactine 25mg *0.5tab qd', 'furosemide 20mg *2tab qd', 'lasix 40mg daily', 'lasix 40mg qd\\nspironolactone 25mg every other day']\n",
      "1.0    298\n",
      "0.0    162\n",
      "Name: diuretics, dtype: int64\n",
      "num missing 104\n",
      "value counts before zero and one assignment: 0                                                                                                             104\n",
      "aspirin 81mg qd                                                                                                77\n",
      "aspirin 81 mg qd                                                                                               15\n",
      "none                                                                                                           13\n",
      "eliquis 2.5mg q12h                                                                                              9\n",
      "aspirin 81mg qd\\nclopidogrel 75mg qd                                                                            7\n",
      "clopidogrel 75mg qd\\naspirin 81mg qd                                                                            7\n",
      "aspirin 81mg qd\\nplavix 75mg qd                                                                                 6\n",
      "eliquis 5mg q12h                                                                                                5\n",
      "clopidogrel 75mg qd                                                                                             5\n",
      "aspirin 81 mg daily                                                                                             4\n",
      "xarelto 20mg qd                                                                                                 4\n",
      "aspirin 81 mg                                                                                                   3\n",
      "plavix 75mg qd                                                                                                  3\n",
      "plavix 75mg qd\\naspirin 81mg qd                                                                                 3\n",
      "xarelto 15mg qd                                                                                                 3\n",
      "aspirin 325mg qd                                                                                                3\n",
      "asa 81mg qd                                                                                                     3\n",
      "asa 81 mg qd                                                                                                    2\n",
      "heparin sodium (porcine) solution 5000 unit/ml q12h                                                             2\n",
      "clopidogrel 75mg qd\\naspirin low dose 81 mg qd                                                                  2\n",
      "plavix 75 mg qd                                                                                                 2\n",
      "coumadin 7.5mg qd                                                                                               2\n",
      "aspirin 81mg qd\\nheparin sodium (porcine) solution 5000 unit/ml q8h                                             2\n",
      "aspirin 81mg qd\\neliquis 2.5mg bid                                                                              2\n",
      "eliquis 5mg                                                                                                     2\n",
      "apixaban 5mg bid                                                                                                2\n",
      "aspirin 81mg qd\\neliquis 2.5mg q12h                                                                             2\n",
      "heparin 5000 s/ml - 1ml q12h; aspirin 81mg qd                                                                   2\n",
      "aspirin low strength oral tablet chewable 81 mg, qd-every day                                                   2\n",
      "                                                                                                             ... \n",
      "aspirin 81mg p.o. daily                                                                                         1\n",
      "aspirin ec 81 mg qd\\neliquis 2.5 mg q12h                                                                        1\n",
      "eliquis 5mg two times a day                                                                                     1\n",
      "aspirin 81mg qd\\nwarfarin 4mg qd                                                                                1\n",
      "aspirin ec low dose oral tablet delayed release 81 mg, qd                                                       1\n",
      "aspirin oral tablet chewable 81 mg - qd\\neliquis 5mg qd                                                         1\n",
      "eliquis 5mg bid\\nclopidogrel 75mg qd                                                                            1\n",
      "aspirin 81mg qd\\nxarelto 20mg hs                                                                                1\n",
      "coumadin 4mg hs                                                                                                 1\n",
      "aspirin low dose oral tablet 81 mg, qd\\neliquis 5mg bid                                                         1\n",
      "aspirin ec tab 81mg qd\\nwarfarin sodium oral tab 2mg qiw\\nwarfarin sodium oral tab 1mg tiw\\nplavix 75mg qd      1\n",
      "eliquis tab 5mg bid                                                                                             1\n",
      "clopidogrel 75mg qd2; aspirin 81mg                                                                              1\n",
      "asa 81mg daily                                                                                                  1\n",
      "eliquis 2.5 mg q12, aspirin 81 mg qd                                                                            1\n",
      "bumetanide 2mg qd                                                                                               1\n",
      "coumadin 5mg hs; aspirin 81mg qd                                                                                1\n",
      "clopidogrel 75 mg daily                                                                                         1\n",
      "aspirin 81mg qd; plavix 75mg qd                                                                                 1\n",
      "apixaban 2.5mg q12h                                                                                             1\n",
      "coumadin 2.5+3mg qd\\naspirin 81mg qd                                                                            1\n",
      "brilinta 90mg twice daily\\naspirin 81mg qd                                                                      1\n",
      "heparin 5000unit/ml q8h                                                                                         1\n",
      "coumadin 7.5 mg hs                                                                                              1\n",
      "coumandin 1mg qd\\naspirin 325mg qd                                                                              1\n",
      "coumadin 6mg                                                                                                    1\n",
      "aspirin ec low dose oral tablet delayed release 81 mg, qd-daily                                                 1\n",
      "coumadin 2mg qd\\naspirin 81mg qd                                                                                1\n",
      "aspirin 325mg                                                                                                   1\n",
      "coumadin 10mg qd                                                                                                1\n",
      "Name: anticoagulant, Length: 182, dtype: int64\n",
      "zero values: ['none', 'none, hx. paf/a-fib not on ac, w/he of frequent nose bleed, required prbc x 2 within 2 weeks, upper gi bleed, allergic to asa', 'none\\nother cardiac meds: digoxin 0.25mg daily; amiodarone 100mg qd; isosorbide 10mg q8h;', 'none, hx. paf/a-fib not on ac, w/he of frequent nose bleed, required prbc x 2 within 2 weeks, upper gi bleed, allergic to asa']\n",
      "Values set to 1.0: \n",
      " ['plavix 75mg; aspirin 81mg qd', 'aspirin oral tablet chewable 81 mg, qd-every day', 'heparin 5000ml/unit q12h', 'aspirin low dose oral tablet 81 mg qd\\nheparin sodium (porcine) solution 5000 unit/ml q12h', 'asa 81 mg qd, eliqius 2.5 mg bid', 'plavix 75mg qd; aspirin 81mg qd', 'asa 81mg daily', 'aspirin 81mg', 'aspirin 81mg qd\\nclopidogrel tab 75mg qd', 'aspirin 81mg qd and clopidogrel 75mg qd', 'eliquis 2.5mg q12h', 'eliquis 2.5mg bid\\naspirin 81mg qd', 'aspirin 81mg q12h', 'aspirin 81mg qd\\npradaxa 75mg q12h', 'aspirin 81mg, plavix 75mg', 'aspirin 81 mg daily\\nwarfarin 6 mg', 'coumadin 7.5mg qd', 'aspirin ec low dose oral tablet delayed release 81 mg, qd-every day\\nbrilinta tab 90mg q12h', 'aspirin 81mg qd\\nwarfarin sodium tablet \\t\\ngive 1 mg by mouth at bedtime', 'eliquis 5mg q12h', 'eliquis 5mg', 'aspirin 81mg qd\\nheparin sodium (porcine) solution 5000 unit/ml q8h', 'warfarin 4mg qd', 'coumadin 2.5+5mg qd', 'aspirin 81 mg and plavix 75 mg daily', 'furosemide oral tablet 20 mg, qd-every day', 'plavix 75mg daily', 'pradaxa 75mg qd', 'coumadin 3mg qd', 'brilinta 90mg q12h', 'xarelto 20mg qd', 'aspirin 81 mg qd, xarelto 20 mg hs', 'aspirin ec low dose 81mg- qd\\neliquis tab 5mg bid', 'eliquis 5mg q12h2', 'coumandin 1mg qd\\naspirin 325mg qd', 'xarelto 15mg qd', 'eliquis tab 5mg q12h', 'aspirin ec low dose oral tablet delayed release 81 mg, qd', 'aspirin 81mg qd\\nwarfarin 4mg qd', 'eliquis 5mg q12h\\naspirin 81mg qd', 'coumadin 10mg qd', 'aspirin oral tablet chewable 81 mg - qd\\neliquis 5mg qd', 'coumadin 8 mg hs, aspirin 81 mg qd', 'aspirin 325mg qd', 'aspirin 81mg qd\\nclopidogrel 75mg qd', 'aspirin ec tab 81mg qd\\nwarfarin sodium oral tab 2mg qiw\\nwarfarin sodium oral tab 1mg tiw\\nplavix 75mg qd', 'eliquis tab 5mg bid', 'clopidogrel 75mg qd2; aspirin 81mg', 'aspirin 81mg qd\\neliquis 2.5mg bid', 'aspirin low dose oral tablet 81 mg, qd-every day', 'clopidogrel 75mg qd\\naspirin low dose 81 mg qd', 'coumadin 2mg qd\\naspirin 81mg qd', 'clopidogrel 75mg qd\\ncoumadin oral tab 2.5 mg+1mg  hs', 'coumadin 6mg', 'heparin 5000unit/ml q8h', 'aspir 81 mg daily', 'aspirin 81mg qd; plavix 75mg qd', 'coumadin 5mg hs; aspirin 81mg qd', 'eliquis 2.5 mg q12, aspirin 81 mg qd', 'aspirin 81mg qd\\nheparin sodium (porcine) solution 5000 unit/ml q12h', 'warfarin sodium 3 mg hs\\naspirin ec 81 mg qd', 'plavix 75 mg qd', 'aspirin 81mg qd2', 'coumadin oral tab 2.5 mg hs', 'aspirin low dose oral tablet 81 mg', 'aspirin 325mg ec qd', 'eliquis 2.5 mg q12, asa 81mg qd', 'clopidogrel 75mg qd\\naspirin 81mg qd', 'plavix 75mg qd;  warfarin 3mg hs', 'aspir 81 mg hs', 'coumadin 7.5 mg hs', 'aspirin 81 mg tablet,delayed release sig: give 1 tablet (81 mg) by oral route once daily', 'asa 81 mg qd', 'aspirin low strength oral tablet chewable 81 mg, qd-daily', 'coumadin 2.5mg+1mg qd', 'oncologist rec. to d/c eliquis; asa 81mg qd', 'heparin 5000 s/ml - 1ml q12h; aspirin 81mg qd', 'aspirin 81mg qd\\neliquis 2.5mg q12h', 'aspirin 81mg  qd\\nxarelto 10mg qd', 'aspirin 81 mg 7/24/2017', 'aspirin  ec low dose 81mg qd\\nwarfarin 6mg hs- bedtime', 'clopidogrel 75mg qd\\nequis 5mg q12h', 'xarelto 20mg hs', 'aspirin 81 mg 1x', 'aspirin 81 mg qd\\ncoumadine oral tab 4mg +2.5mg hs\\nheparin sod  intravenous 100 unit/ml qs', 'aspirin 81 mg qd  \\ncoumadine  3mg hs', 'brilinta 90mg q12h\\naspirin 81mg qd', 'aspirin 81mg qd\\nheparin sodium (porcine) injection solution 5000 unit/ml- q8h', 'aspirin 81mg qd\\ncoumadin  3mg hs- bedtime', 'eliquis 5 mg every 12 hours', 'eliquis 2.5mg bid', 'aspirin 81mg qd\\nbrilinta 90mg q12h', 'aspirin 81mgqd', 'aspirin low dose oral tablet 81 mg, qd\\neliquis 5mg bid', 'coumadin 1mg qd', 'aspirin 81mg qd  \\nclopidogrel 75mg qd', 'warfarin 2+2.5mg qd', 'heparin 5000unit/ml q12h', 'enoxaparin sodium solution 40 mg/0.4ml inject 40 milligram subcutaneously qd', 'coumadin 5mg qd', 'coumadin 4 mg hs  every sun, tue, thu, sat\\ncoumadin 2mg hs every mon, wed, fri', 'plavix oral tab 75 mg qd\\nxarelto 15mg qd', 'heparin sodium (porcine) solution 5000 unit/ml q12h', 'plavix 75mg qd\\nxarelto 20mg bid', 'aspirin 81mg qd\\neliquis 5mg q12h', 'aspirin 81mg qd\\nheparin sodium injection solution 5000unit/ml hs', 'aspirin ec low dose oral tablet delayed release 81 mg, qd-daily', 'aspirin ec low dose oral tablet delayed release 81 mg qd\\nplavix 75mg qd', 'clopidogrel 75mg daily and aspirin 81 mg 1 tablet (81 mg) by oral route once daily', 'aspirin 81mg qd\\ncoumadin 1mg+6mg qd', 'eliquis 5mg q12h; furosemide 20mg qd', 'aspirin 81 mg daily', 'clopidogrel 75mg qd', 'aspirin 81mg qd\\nplavix 75mg qd\\nxarelto 20mg qd', 'xarelto 20mg daily', 'asa 81mg qd', 'coumadin oral tablet 5 mg- hs', 'plavix oral tablet 75mg qd', 'xarelto 15mg qd\\naspirin 81mg qd', 'asa', 'warfarin 7.5mg qd\\naspirin 81mg qd', 'aspirin 325mg qd\\nclopidogrel 75mg qd\\napixaban 5mg q12h', 'aspirin ec low dose oral tablet', 'xarelto 20 mg once daily', 'aspirin 81 mg 1 tablet (81 mg) by oral route once daily; eliquis 5 mg 1 tablet (5 mg) by oral route 2 times per day', 'eliquis 2.5mg twice daily', 'aspirin 81mg qd\\ncoumadin 5mg hs', 'aspirin 81mg qd\\nlovenox 80mg q12h', 'aspirin ec low dose  81mg qd\\nxarelto 15mg qd', 'aspir-low oral tablet 81 mg daily', 'coumadin 4mg hs', 'aspirin 81mg qd\\nxarelto 20mg hs', 'pradaxa 150mg q12h', 'eliquis 5mg bid\\nclopidogrel 75mg qd', 'apixaban 2.5mg q12h', 'aspirin 81mg p.o. daily', 'eliquis 2.5mg two times a day', 'aspirin oral tablet chewable 81mg qd', 'aspirin 81 mg, qd\\nplavix 75mg qd', 'aspirin 81 mg', 'aspirin 325mg', 'plavix 75mg qd', 'apixaban 5mg bid', 'warfarin 2.5 mg + 4mg hs-bedtime', 'brilinta 90mg twice daily\\naspirin 81mg qd', 'coumadin 2.5+3mg qd\\naspirin 81mg qd', 'eliquis 5mg two times a day', 'clopidogrel 75 mg daily', 'bumetanide 2mg qd', 'xarelto 20mg qd\\naspirinin 81mg qd', 'aspirin low strength oral tablet chewable 81 mg - qd-every day', 'eliquis 5mg q12h; aspirin 81mg qd', 'asa 81mgod and plavix 75mg od', 'love of 40mg daily', 'eliquis 2.5 mg- six times a week', 'warfarin 2mg qd', 'xarelto 20 mg hs', 'warfarin 3mg qd\\naspirin 81mg qd', 'warfarin sodium 2mg hs-bedtime', 'warfarin 1mg+4mg  hs', 'aspirin 81mg qd\\napixaban 2.5mg bid', 'plavix 75mg qd\\naspirin 81mg qd', 'eliquis 2.5mg two times per day \\nclopidogrel 75mg qd', 'aspirin low strength oral tablet chewable 81 mg, qd-every day', 'clopidogrel 75mg qd\\nwarfarin 10mg hs\\naspirin 81mg qd', 'coumadin 5mg qd\\naspirin 81mg qd', 'aspirin 81 mg qd,', 'eliquis 2.5mg q12h\\naspirin 81mg qd', 'eliquis 5mg bid\\naspirin 81mg qd', 'coumadin 4mg qd\\naspirin 81mg qd', 'aspirin 81mg qd\\nplavix 75mg qd', 'aspirin 81mg qd, ticagrelor 90mg q12h', 'clopidogrel tab 75mg q48h\\naspirin 81mg q2d\\n\\nother cardiac meds: isosorbide mononitrate er 30mg qd.', 'aspirin 81 mg qd', 'aspirin ec low dose oral tablet delayed release 81 mg', 'aspirin 81mg qd', 'asa 81mg qd; xarelto 20mg qd', 'aspirin ec 81 mg qd\\neliquis 2.5 mg q12h']\n",
      "1.0    341\n",
      "0.0    119\n",
      "Name: anticoagulant, dtype: int64\n",
      "num missing 397\n",
      "value counts before zero and one assignment: 0                                                                                                                                                                                                                                                    397\n",
      "none                                                                                                                                                                                                                                                  23\n",
      "digoxin 125mcg qd                                                                                                                                                                                                                                     11\n",
      "digoxin 0.125mg qd                                                                                                                                                                                                                                     7\n",
      "digoxin 125mcg q48h                                                                                                                                                                                                                                    3\n",
      "digox 0.125mg qd                                                                                                                                                                                                                                       3\n",
      "digoxin 0.25mg qd                                                                                                                                                                                                                                      1\n",
      "digoxin 125 mcg once daily three times a week                                                                                                                                                                                                          1\n",
      "digoxin 0.125mg q48h                                                                                                                                                                                                                                   1\n",
      "digoxin 0.125 mg biw                                                                                                                                                                                                                                   1\n",
      "dopamine drips via curling pump in continuous mode concentration : 1.6 mg/ml . bag volume: 500 ml . prog volume : 288 ml . rate : 12 ml/ hr time : 24 hrs . kvo 10 ml/hr . coram to dispense premixed bag 800 mg/500 ml . concentration 1.6 mg/ml      1\n",
      "digox 0.125mg tiw                                                                                                                                                                                                                                      1\n",
      "dobutamine 8mcg/kg/min                                                                                                                                                                                                                                 1\n",
      "digoxin 0.125mg qd orally                                                                                                                                                                                                                              1\n",
      "digoxin 125mcg qd hold medication and call md if heart rate is below 60                                                                                                                                                                                1\n",
      "digox 125mcg qd                                                                                                                                                                                                                                        1\n",
      "digoxin 125mcgqd                                                                                                                                                                                                                                       1\n",
      "digox 125mcg every other day                                                                                                                                                                                                                           1\n",
      "aspirin 81mg qd                                                                                                                                                                                                                                        1\n",
      "digoxin 125mcg qd every other day                                                                                                                                                                                                                      1\n",
      "digoin 125mcg qd                                                                                                                                                                                                                                       1\n",
      "digoxin 125mcg orally qd                                                                                                                                                                                                                               1\n",
      "Name: ionotropes, dtype: int64\n",
      "zero values: ['none']\n",
      "Values set to 1.0: \n",
      " ['digox 0.125mg tiw', 'digox 125mcg qd', 'dobutamine 8mcg/kg/min', 'digoxin 125mcg qd hold medication and call md if heart rate is below 60', 'digoxin 125 mcg once daily three times a week', 'digoxin 125mcg qd every other day', 'digoxin 0.125 mg biw', 'dopamine drips via curling pump in continuous mode concentration : 1.6 mg/ml . bag volume: 500 ml . prog volume : 288 ml . rate : 12 ml/ hr time : 24 hrs . kvo 10 ml/hr . coram to dispense premixed bag 800 mg/500 ml . concentration 1.6 mg/ml', 'digoxin 0.125mg qd', 'digoxin 125mcg qd', 'digoxin 0.25mg qd', 'digoxin 0.125mg qd orally', 'digoin 125mcg qd', 'digoxin 125mcg orally qd', 'digoxin 0.125mg q48h', 'digox 0.125mg qd', 'digoxin 125mcgqd', 'digoxin 125mcg q48h', 'digox 125mcg every other day', 'aspirin 81mg qd']\n",
      "0.0    420\n",
      "1.0     40\n",
      "Name: ionotropes, dtype: int64\n",
      "num missing 305\n",
      "value counts before zero and one assignment: 0                                      305\n",
      "none                                    57\n",
      "0                                       31\n",
      "no                                      18\n",
      "aicd                                    14\n",
      "pacemaker                               13\n",
      "yes                                      6\n",
      "no aicd or pacemaker                     2\n",
      "lifevest                                 2\n",
      "aicd 2014                                1\n",
      "no on life vest                          1\n",
      "ppm mobitz i 2013                        1\n",
      "zoll life vest                           1\n",
      "aicd(turned off), has zoll lifevest      1\n",
      "zoll lifevest                            1\n",
      "life vest                                1\n",
      "s/p ppm/aicd                             1\n",
      "aicd-dual chamber                        1\n",
      "pace maker only                          1\n",
      "left chest wall                          1\n",
      "no (ppm only)                            1\n",
      "Name: aicd, dtype: int64\n",
      "zero values: ['none', 'no', 'no on life vest', 'no (ppm only)', 'no aicd or pacemaker']\n",
      "Values set to 1.0: \n",
      " ['ppm mobitz i 2013', 'aicd 2014', 'lifevest', 's/p ppm/aicd', 'aicd-dual chamber', 'pace maker only', 'aicd', 'pacemaker', 'yes', 'aicd(turned off), has zoll lifevest', 'zoll life vest', 'left chest wall', 'life vest', 'zoll lifevest']\n",
      "0.0    415\n",
      "1.0     45\n",
      "Name: aicd, dtype: int64\n",
      "\n",
      " \n",
      " Dropped 0 rows from the dataset\n",
      "New size of dataset: (460, 56)\n"
     ]
    }
   ],
   "source": [
    "# %load Pipeline_clean.py\n",
    "%load_ext autoreload\n",
    "%autoreload 2\n",
    "import pandas as pd\n",
    "import numpy as np\n",
    "from data_merge import *\n",
    "from Clean_Fun import *\n",
    "\n",
    "# NOTE have to use remove_invalid_rows() inside ALex's function,\n",
    "# before we remove patient name\n",
    "# %% Load dataset\n",
    "\n",
    "live_path='Data/Cardiac Program_M.xlsx'\n",
    "archive_path='Data/Cardiac Program_Archive.xlsx'\n",
    "live_sheet_pkl='pickle_jar/live_sheets.pkl'\n",
    "archive_sheet_pkl='pickle_jar/archive_sheets.pkl'\n",
    "datecol_pkl='pickle_jar/datecols.pkl'\n",
    "df = sheet_merge(live_path, archive_path,\n",
    "    live_sheet_pkl, archive_sheet_pkl, datecol_pkl)\n",
    "# %% test patients, determing Response Value\n",
    "\n",
    "# NOTE have to remove invalid rows\n",
    "df['outcome']=df.apply(lambda row: determine_outcome(row['status'],row['discharge'],row['discharge_date']),axis=1)\n",
    "train_df,test_df=train_test_split_sg(df)\n",
    "df=train_df.copy() # for now\n",
    "del test_df\n",
    "\n",
    "# %% Clean effusion rate\n",
    "\n",
    "df['ef']=df['ef'].apply(lambda x: clean_EF_rows(x))\n",
    "\n",
    "# Clean Blood Pressure rows\n",
    "df['diastolic']=df.apply(lambda row: clean_diastolic_columns(\n",
    "    row['diastolic'],row['resting_bp'],col_type='di'),axis=1)\n",
    "df['systolic']=df.apply(lambda row: clean_diastolic_columns(\n",
    "    row['systolic'],row['resting_bp'],col_type='sys'),axis=1)\n",
    "\n",
    "# Dummify the diagnoses\n",
    "uniq_diag=find_unique_diag(df.diagnosis_1)\n",
    "dummy_df_diag=dummify_diagnoses(df,uniq_diag,diagnosis_col='diagnosis_1')\n",
    "df.drop('diagnosis_1',axis=1,inplace=True)\n",
    "dummy_df_diag.columns=pd.Series(uniq_diag).apply(lambda x: remove_paren(x)).append(pd.Series('enrollId'))\n",
    "df=df.merge(dummy_df_diag,on='enrollId',how=\"inner\")\n",
    "\n",
    "# clean HR\n",
    "df['resting_hr']=df.resting_hr.apply(lambda x: hand_dates(x))\n",
    "\n",
    "# Clean Meds and aicd\n",
    "# acute or chronic\n",
    "med_aicd_clean(df,'ace', 0)\n",
    "med_aicd_clean(df,'bb', 0)\n",
    "med_aicd_clean(df,'diuretics', 0)\n",
    "med_aicd_clean(df,'anticoagulant', 0)\n",
    "med_aicd_clean(df,'ionotropes', 0)\n",
    "med_aicd_clean(df,'aicd', 0)\n",
    "\n",
    "# weight_dur_age_clean(df,dur_na=9999,age_na=9999,weight_perc_cutoff=0.2)\n",
    "df['duration']=df.apply(lambda row: find_duration(row['discharge'],\n",
    "    row['enrollment_date'],row['discharge_date']),axis=1)\n",
    "df['age'] = df['date_of_birth'].apply(find_age)\n",
    "df['weight_change_since_admit'] = df.apply(lambda row: clean_weight_change(\n",
    "    row['weight'],row['weight_change_since_admit']),axis=1)\n",
    "\n",
    "remove_invalid_rows(df)\n",
    "\n",
    "df.loc[df['duration']==9999, 'duration'] = None\n",
    "df.loc[df['age']==9999, 'age'] = None\n",
    "\n",
    "# %%\n",
    "pd.set_option('display.max_columns', 60)\n",
    "df.drop_duplicates(inplace=True)\n",
    "df.reset_index(inplace=True, drop=True)\n",
    "df.columns = [x.replace(\" \", \"_\") for x in df.columns]\n",
    "df = drop_date_cols(df)\n",
    "df\n",
    "\n",
    "df.to_csv('Data/clean_test.csv')\n"
   ]
  },
  {
   "cell_type": "code",
   "execution_count": 110,
   "metadata": {},
   "outputs": [],
   "source": [
    "from dtypeFun import *"
   ]
  },
  {
   "cell_type": "code",
   "execution_count": 107,
   "metadata": {},
   "outputs": [],
   "source": [
    "import pickle"
   ]
  },
  {
   "cell_type": "code",
   "execution_count": 114,
   "metadata": {},
   "outputs": [
    {
     "data": {
      "text/plain": [
       "{'datetimes': ['date_of_birth'],\n",
       " 'numeric': ['ef',\n",
       "  'admit_weight',\n",
       "  'weight',\n",
       "  'this_weight_change',\n",
       "  'weight_change_since_admit',\n",
       "  'bnp',\n",
       "  'this_bnp_change',\n",
       "  'bun',\n",
       "  'cr',\n",
       "  'sodium',\n",
       "  'potasium',\n",
       "  'mg',\n",
       "  'this_cr_change',\n",
       "  'resting_hr',\n",
       "  'systolic',\n",
       "  'diastolic',\n",
       "  'duration',\n",
       "  'age'],\n",
       " 'categorical': ['patient_link',\n",
       "  'patient_gender',\n",
       "  'special_status',\n",
       "  'facilities_link',\n",
       "  'hospital_discharged_from',\n",
       "  'acute_or_chronic',\n",
       "  'aicd',\n",
       "  'status',\n",
       "  'discharge',\n",
       "  'cardiac_related',\n",
       "  'create_user',\n",
       "  'enrollId',\n",
       "  'name',\n",
       "  'ace',\n",
       "  'bb',\n",
       "  'diuretics',\n",
       "  'anticoagulant',\n",
       "  'ionotropes',\n",
       "  'other_cardiac_meds',\n",
       "  'resting_bp',\n",
       "  'outcome',\n",
       "  'cad/mi',\n",
       "  'heart_failure_unspecfied',\n",
       "  'diastolic_heart_failure',\n",
       "  'systolic_chf',\n",
       "  'atrial_fibrilation',\n",
       "  'cardiomyoapthy',\n",
       "  'lvad',\n",
       "  'chf']}"
      ]
     },
     "execution_count": 114,
     "metadata": {},
     "output_type": "execute_result"
    }
   ],
   "source": [
    "read_pkl(path)"
   ]
  },
  {
   "cell_type": "code",
   "execution_count": 118,
   "metadata": {},
   "outputs": [
    {
     "name": "stdout",
     "output_type": "stream",
     "text": [
      "========================================\n",
      "['date_of_birth'] columns set to datetime\n",
      "========================================\n",
      "['ef', 'admit_weight', 'weight', 'this_weight_change', 'weight_change_since_admit', 'bnp', 'this_bnp_change', 'bun', 'cr', 'sodium', 'potasium', 'mg', 'this_cr_change', 'resting_hr', 'systolic', 'diastolic', 'duration', 'age'] columns set to numeric\n",
      "========================================\n"
     ]
    }
   ],
   "source": [
    "path = \"pickle_jar/columnDtypes.pkl\"\n",
    "columnFormater(df, path)"
   ]
  },
  {
   "cell_type": "code",
   "execution_count": 119,
   "metadata": {
    "scrolled": false
   },
   "outputs": [
    {
     "data": {
      "text/html": [
       "<div>\n",
       "<style scoped>\n",
       "    .dataframe tbody tr th:only-of-type {\n",
       "        vertical-align: middle;\n",
       "    }\n",
       "\n",
       "    .dataframe tbody tr th {\n",
       "        vertical-align: top;\n",
       "    }\n",
       "\n",
       "    .dataframe thead th {\n",
       "        text-align: right;\n",
       "    }\n",
       "</style>\n",
       "<table border=\"1\" class=\"dataframe\">\n",
       "  <thead>\n",
       "    <tr style=\"text-align: right;\">\n",
       "      <th></th>\n",
       "      <th>ef</th>\n",
       "      <th>admit_weight</th>\n",
       "      <th>aicd</th>\n",
       "      <th>discharge</th>\n",
       "      <th>weight</th>\n",
       "      <th>this_weight_change</th>\n",
       "      <th>weight_change_since_admit</th>\n",
       "      <th>bnp</th>\n",
       "      <th>this_bnp_change</th>\n",
       "      <th>ace</th>\n",
       "      <th>bb</th>\n",
       "      <th>diuretics</th>\n",
       "      <th>anticoagulant</th>\n",
       "      <th>ionotropes</th>\n",
       "      <th>bun</th>\n",
       "      <th>cr</th>\n",
       "      <th>sodium</th>\n",
       "      <th>potasium</th>\n",
       "      <th>mg</th>\n",
       "      <th>this_cr_change</th>\n",
       "      <th>resting_hr</th>\n",
       "      <th>systolic</th>\n",
       "      <th>diastolic</th>\n",
       "      <th>outcome</th>\n",
       "      <th>cad/mi</th>\n",
       "      <th>heart_failure_unspecfied</th>\n",
       "      <th>diastolic_heart_failure</th>\n",
       "      <th>systolic_chf</th>\n",
       "      <th>atrial_fibrilation</th>\n",
       "      <th>cardiomyoapthy</th>\n",
       "      <th>lvad</th>\n",
       "      <th>chf</th>\n",
       "      <th>duration</th>\n",
       "      <th>age</th>\n",
       "    </tr>\n",
       "  </thead>\n",
       "  <tbody>\n",
       "    <tr>\n",
       "      <th>count</th>\n",
       "      <td>333.000000</td>\n",
       "      <td>370.000000</td>\n",
       "      <td>457.000000</td>\n",
       "      <td>457.000000</td>\n",
       "      <td>457.000000</td>\n",
       "      <td>457.000000</td>\n",
       "      <td>445.000000</td>\n",
       "      <td>457.000000</td>\n",
       "      <td>445.000000</td>\n",
       "      <td>457.000000</td>\n",
       "      <td>457.000000</td>\n",
       "      <td>457.000000</td>\n",
       "      <td>457.000000</td>\n",
       "      <td>457.000000</td>\n",
       "      <td>457.000000</td>\n",
       "      <td>457.00000</td>\n",
       "      <td>192.000000</td>\n",
       "      <td>456.000000</td>\n",
       "      <td>409.000000</td>\n",
       "      <td>425.000000</td>\n",
       "      <td>449.000000</td>\n",
       "      <td>450.000000</td>\n",
       "      <td>448.000000</td>\n",
       "      <td>457.000000</td>\n",
       "      <td>457.000000</td>\n",
       "      <td>457.00000</td>\n",
       "      <td>457.000000</td>\n",
       "      <td>457.000000</td>\n",
       "      <td>457.000000</td>\n",
       "      <td>457.000000</td>\n",
       "      <td>457.000000</td>\n",
       "      <td>457.000000</td>\n",
       "      <td>438.000000</td>\n",
       "      <td>449.000000</td>\n",
       "    </tr>\n",
       "    <tr>\n",
       "      <th>mean</th>\n",
       "      <td>0.499895</td>\n",
       "      <td>167.778622</td>\n",
       "      <td>0.091904</td>\n",
       "      <td>0.995624</td>\n",
       "      <td>169.003851</td>\n",
       "      <td>-0.664376</td>\n",
       "      <td>0.180045</td>\n",
       "      <td>830.555799</td>\n",
       "      <td>-141.530315</td>\n",
       "      <td>0.413567</td>\n",
       "      <td>0.713348</td>\n",
       "      <td>0.645514</td>\n",
       "      <td>0.739606</td>\n",
       "      <td>0.087527</td>\n",
       "      <td>35.787746</td>\n",
       "      <td>1.65860</td>\n",
       "      <td>140.296875</td>\n",
       "      <td>4.481360</td>\n",
       "      <td>2.087433</td>\n",
       "      <td>2.752094</td>\n",
       "      <td>77.826281</td>\n",
       "      <td>128.753333</td>\n",
       "      <td>71.444196</td>\n",
       "      <td>0.560175</td>\n",
       "      <td>0.227571</td>\n",
       "      <td>0.28884</td>\n",
       "      <td>0.140044</td>\n",
       "      <td>0.308534</td>\n",
       "      <td>0.277899</td>\n",
       "      <td>0.054705</td>\n",
       "      <td>0.004376</td>\n",
       "      <td>0.002188</td>\n",
       "      <td>50.417808</td>\n",
       "      <td>75.792873</td>\n",
       "    </tr>\n",
       "    <tr>\n",
       "      <th>std</th>\n",
       "      <td>0.565917</td>\n",
       "      <td>55.421040</td>\n",
       "      <td>0.289207</td>\n",
       "      <td>0.066082</td>\n",
       "      <td>55.068695</td>\n",
       "      <td>22.322404</td>\n",
       "      <td>11.998650</td>\n",
       "      <td>3438.392173</td>\n",
       "      <td>3184.929868</td>\n",
       "      <td>0.493012</td>\n",
       "      <td>0.452693</td>\n",
       "      <td>0.478881</td>\n",
       "      <td>0.439330</td>\n",
       "      <td>0.282916</td>\n",
       "      <td>23.093081</td>\n",
       "      <td>1.50674</td>\n",
       "      <td>4.706061</td>\n",
       "      <td>1.072013</td>\n",
       "      <td>0.548311</td>\n",
       "      <td>25.362341</td>\n",
       "      <td>12.047567</td>\n",
       "      <td>21.794015</td>\n",
       "      <td>11.056759</td>\n",
       "      <td>0.570847</td>\n",
       "      <td>0.419724</td>\n",
       "      <td>0.45372</td>\n",
       "      <td>0.347413</td>\n",
       "      <td>0.462394</td>\n",
       "      <td>0.448454</td>\n",
       "      <td>0.227652</td>\n",
       "      <td>0.066082</td>\n",
       "      <td>0.046778</td>\n",
       "      <td>340.012359</td>\n",
       "      <td>16.122698</td>\n",
       "    </tr>\n",
       "    <tr>\n",
       "      <th>min</th>\n",
       "      <td>0.100000</td>\n",
       "      <td>75.000000</td>\n",
       "      <td>0.000000</td>\n",
       "      <td>0.000000</td>\n",
       "      <td>72.000000</td>\n",
       "      <td>-234.000000</td>\n",
       "      <td>-36.400000</td>\n",
       "      <td>2.000000</td>\n",
       "      <td>-66618.000000</td>\n",
       "      <td>0.000000</td>\n",
       "      <td>0.000000</td>\n",
       "      <td>0.000000</td>\n",
       "      <td>0.000000</td>\n",
       "      <td>0.000000</td>\n",
       "      <td>0.000000</td>\n",
       "      <td>0.00000</td>\n",
       "      <td>120.000000</td>\n",
       "      <td>0.000000</td>\n",
       "      <td>0.000000</td>\n",
       "      <td>-133.330000</td>\n",
       "      <td>51.000000</td>\n",
       "      <td>18.000000</td>\n",
       "      <td>1.000000</td>\n",
       "      <td>0.000000</td>\n",
       "      <td>0.000000</td>\n",
       "      <td>0.00000</td>\n",
       "      <td>0.000000</td>\n",
       "      <td>0.000000</td>\n",
       "      <td>0.000000</td>\n",
       "      <td>0.000000</td>\n",
       "      <td>0.000000</td>\n",
       "      <td>0.000000</td>\n",
       "      <td>-3638.000000</td>\n",
       "      <td>-28.000000</td>\n",
       "    </tr>\n",
       "    <tr>\n",
       "      <th>25%</th>\n",
       "      <td>0.350000</td>\n",
       "      <td>131.200000</td>\n",
       "      <td>0.000000</td>\n",
       "      <td>1.000000</td>\n",
       "      <td>131.000000</td>\n",
       "      <td>-1.700000</td>\n",
       "      <td>-7.040000</td>\n",
       "      <td>87.000000</td>\n",
       "      <td>-35.000000</td>\n",
       "      <td>0.000000</td>\n",
       "      <td>0.000000</td>\n",
       "      <td>0.000000</td>\n",
       "      <td>0.000000</td>\n",
       "      <td>0.000000</td>\n",
       "      <td>19.000000</td>\n",
       "      <td>0.80000</td>\n",
       "      <td>138.000000</td>\n",
       "      <td>4.000000</td>\n",
       "      <td>1.800000</td>\n",
       "      <td>-7.140000</td>\n",
       "      <td>70.000000</td>\n",
       "      <td>116.000000</td>\n",
       "      <td>64.000000</td>\n",
       "      <td>0.000000</td>\n",
       "      <td>0.000000</td>\n",
       "      <td>0.00000</td>\n",
       "      <td>0.000000</td>\n",
       "      <td>0.000000</td>\n",
       "      <td>0.000000</td>\n",
       "      <td>0.000000</td>\n",
       "      <td>0.000000</td>\n",
       "      <td>0.000000</td>\n",
       "      <td>22.250000</td>\n",
       "      <td>69.000000</td>\n",
       "    </tr>\n",
       "    <tr>\n",
       "      <th>50%</th>\n",
       "      <td>0.500000</td>\n",
       "      <td>156.400000</td>\n",
       "      <td>0.000000</td>\n",
       "      <td>1.000000</td>\n",
       "      <td>157.600000</td>\n",
       "      <td>0.000000</td>\n",
       "      <td>0.000000</td>\n",
       "      <td>254.000000</td>\n",
       "      <td>0.000000</td>\n",
       "      <td>0.000000</td>\n",
       "      <td>1.000000</td>\n",
       "      <td>1.000000</td>\n",
       "      <td>1.000000</td>\n",
       "      <td>0.000000</td>\n",
       "      <td>29.000000</td>\n",
       "      <td>1.10000</td>\n",
       "      <td>140.000000</td>\n",
       "      <td>4.400000</td>\n",
       "      <td>2.000000</td>\n",
       "      <td>0.000000</td>\n",
       "      <td>77.000000</td>\n",
       "      <td>127.000000</td>\n",
       "      <td>71.000000</td>\n",
       "      <td>1.000000</td>\n",
       "      <td>0.000000</td>\n",
       "      <td>0.00000</td>\n",
       "      <td>0.000000</td>\n",
       "      <td>0.000000</td>\n",
       "      <td>0.000000</td>\n",
       "      <td>0.000000</td>\n",
       "      <td>0.000000</td>\n",
       "      <td>0.000000</td>\n",
       "      <td>47.000000</td>\n",
       "      <td>78.000000</td>\n",
       "    </tr>\n",
       "    <tr>\n",
       "      <th>75%</th>\n",
       "      <td>0.600000</td>\n",
       "      <td>189.950000</td>\n",
       "      <td>0.000000</td>\n",
       "      <td>1.000000</td>\n",
       "      <td>194.600000</td>\n",
       "      <td>1.000000</td>\n",
       "      <td>4.740000</td>\n",
       "      <td>656.000000</td>\n",
       "      <td>53.000000</td>\n",
       "      <td>1.000000</td>\n",
       "      <td>1.000000</td>\n",
       "      <td>1.000000</td>\n",
       "      <td>1.000000</td>\n",
       "      <td>0.000000</td>\n",
       "      <td>46.000000</td>\n",
       "      <td>1.70000</td>\n",
       "      <td>142.250000</td>\n",
       "      <td>4.900000</td>\n",
       "      <td>2.300000</td>\n",
       "      <td>12.500000</td>\n",
       "      <td>84.000000</td>\n",
       "      <td>140.000000</td>\n",
       "      <td>78.000000</td>\n",
       "      <td>1.000000</td>\n",
       "      <td>0.000000</td>\n",
       "      <td>1.00000</td>\n",
       "      <td>0.000000</td>\n",
       "      <td>1.000000</td>\n",
       "      <td>1.000000</td>\n",
       "      <td>0.000000</td>\n",
       "      <td>0.000000</td>\n",
       "      <td>0.000000</td>\n",
       "      <td>91.250000</td>\n",
       "      <td>87.000000</td>\n",
       "    </tr>\n",
       "    <tr>\n",
       "      <th>max</th>\n",
       "      <td>10.395000</td>\n",
       "      <td>498.000000</td>\n",
       "      <td>1.000000</td>\n",
       "      <td>1.000000</td>\n",
       "      <td>468.000000</td>\n",
       "      <td>216.200000</td>\n",
       "      <td>44.000000</td>\n",
       "      <td>68432.000000</td>\n",
       "      <td>2580.000000</td>\n",
       "      <td>1.000000</td>\n",
       "      <td>1.000000</td>\n",
       "      <td>1.000000</td>\n",
       "      <td>1.000000</td>\n",
       "      <td>1.000000</td>\n",
       "      <td>205.000000</td>\n",
       "      <td>9.10000</td>\n",
       "      <td>164.000000</td>\n",
       "      <td>22.300000</td>\n",
       "      <td>4.000000</td>\n",
       "      <td>100.000000</td>\n",
       "      <td>165.000000</td>\n",
       "      <td>201.000000</td>\n",
       "      <td>112.000000</td>\n",
       "      <td>2.000000</td>\n",
       "      <td>1.000000</td>\n",
       "      <td>1.00000</td>\n",
       "      <td>1.000000</td>\n",
       "      <td>1.000000</td>\n",
       "      <td>1.000000</td>\n",
       "      <td>1.000000</td>\n",
       "      <td>1.000000</td>\n",
       "      <td>1.000000</td>\n",
       "      <td>1390.000000</td>\n",
       "      <td>103.000000</td>\n",
       "    </tr>\n",
       "  </tbody>\n",
       "</table>\n",
       "</div>"
      ],
      "text/plain": [
       "               ef  admit_weight        aicd   discharge      weight  \\\n",
       "count  333.000000    370.000000  457.000000  457.000000  457.000000   \n",
       "mean     0.499895    167.778622    0.091904    0.995624  169.003851   \n",
       "std      0.565917     55.421040    0.289207    0.066082   55.068695   \n",
       "min      0.100000     75.000000    0.000000    0.000000   72.000000   \n",
       "25%      0.350000    131.200000    0.000000    1.000000  131.000000   \n",
       "50%      0.500000    156.400000    0.000000    1.000000  157.600000   \n",
       "75%      0.600000    189.950000    0.000000    1.000000  194.600000   \n",
       "max     10.395000    498.000000    1.000000    1.000000  468.000000   \n",
       "\n",
       "       this_weight_change  weight_change_since_admit           bnp  \\\n",
       "count          457.000000                 445.000000    457.000000   \n",
       "mean            -0.664376                   0.180045    830.555799   \n",
       "std             22.322404                  11.998650   3438.392173   \n",
       "min           -234.000000                 -36.400000      2.000000   \n",
       "25%             -1.700000                  -7.040000     87.000000   \n",
       "50%              0.000000                   0.000000    254.000000   \n",
       "75%              1.000000                   4.740000    656.000000   \n",
       "max            216.200000                  44.000000  68432.000000   \n",
       "\n",
       "       this_bnp_change         ace          bb   diuretics  anticoagulant  \\\n",
       "count       445.000000  457.000000  457.000000  457.000000     457.000000   \n",
       "mean       -141.530315    0.413567    0.713348    0.645514       0.739606   \n",
       "std        3184.929868    0.493012    0.452693    0.478881       0.439330   \n",
       "min      -66618.000000    0.000000    0.000000    0.000000       0.000000   \n",
       "25%         -35.000000    0.000000    0.000000    0.000000       0.000000   \n",
       "50%           0.000000    0.000000    1.000000    1.000000       1.000000   \n",
       "75%          53.000000    1.000000    1.000000    1.000000       1.000000   \n",
       "max        2580.000000    1.000000    1.000000    1.000000       1.000000   \n",
       "\n",
       "       ionotropes         bun         cr      sodium    potasium          mg  \\\n",
       "count  457.000000  457.000000  457.00000  192.000000  456.000000  409.000000   \n",
       "mean     0.087527   35.787746    1.65860  140.296875    4.481360    2.087433   \n",
       "std      0.282916   23.093081    1.50674    4.706061    1.072013    0.548311   \n",
       "min      0.000000    0.000000    0.00000  120.000000    0.000000    0.000000   \n",
       "25%      0.000000   19.000000    0.80000  138.000000    4.000000    1.800000   \n",
       "50%      0.000000   29.000000    1.10000  140.000000    4.400000    2.000000   \n",
       "75%      0.000000   46.000000    1.70000  142.250000    4.900000    2.300000   \n",
       "max      1.000000  205.000000    9.10000  164.000000   22.300000    4.000000   \n",
       "\n",
       "       this_cr_change  resting_hr    systolic   diastolic     outcome  \\\n",
       "count      425.000000  449.000000  450.000000  448.000000  457.000000   \n",
       "mean         2.752094   77.826281  128.753333   71.444196    0.560175   \n",
       "std         25.362341   12.047567   21.794015   11.056759    0.570847   \n",
       "min       -133.330000   51.000000   18.000000    1.000000    0.000000   \n",
       "25%         -7.140000   70.000000  116.000000   64.000000    0.000000   \n",
       "50%          0.000000   77.000000  127.000000   71.000000    1.000000   \n",
       "75%         12.500000   84.000000  140.000000   78.000000    1.000000   \n",
       "max        100.000000  165.000000  201.000000  112.000000    2.000000   \n",
       "\n",
       "           cad/mi  heart_failure_unspecfied  diastolic_heart_failure  \\\n",
       "count  457.000000                 457.00000               457.000000   \n",
       "mean     0.227571                   0.28884                 0.140044   \n",
       "std      0.419724                   0.45372                 0.347413   \n",
       "min      0.000000                   0.00000                 0.000000   \n",
       "25%      0.000000                   0.00000                 0.000000   \n",
       "50%      0.000000                   0.00000                 0.000000   \n",
       "75%      0.000000                   1.00000                 0.000000   \n",
       "max      1.000000                   1.00000                 1.000000   \n",
       "\n",
       "       systolic_chf  atrial_fibrilation  cardiomyoapthy        lvad  \\\n",
       "count    457.000000          457.000000      457.000000  457.000000   \n",
       "mean       0.308534            0.277899        0.054705    0.004376   \n",
       "std        0.462394            0.448454        0.227652    0.066082   \n",
       "min        0.000000            0.000000        0.000000    0.000000   \n",
       "25%        0.000000            0.000000        0.000000    0.000000   \n",
       "50%        0.000000            0.000000        0.000000    0.000000   \n",
       "75%        1.000000            1.000000        0.000000    0.000000   \n",
       "max        1.000000            1.000000        1.000000    1.000000   \n",
       "\n",
       "              chf     duration         age  \n",
       "count  457.000000   438.000000  449.000000  \n",
       "mean     0.002188    50.417808   75.792873  \n",
       "std      0.046778   340.012359   16.122698  \n",
       "min      0.000000 -3638.000000  -28.000000  \n",
       "25%      0.000000    22.250000   69.000000  \n",
       "50%      0.000000    47.000000   78.000000  \n",
       "75%      0.000000    91.250000   87.000000  \n",
       "max      1.000000  1390.000000  103.000000  "
      ]
     },
     "execution_count": 119,
     "metadata": {},
     "output_type": "execute_result"
    }
   ],
   "source": [
    "df.describe()"
   ]
  },
  {
   "cell_type": "code",
   "execution_count": 120,
   "metadata": {},
   "outputs": [
    {
     "data": {
      "text/plain": [
       "(457, 48)"
      ]
     },
     "execution_count": 120,
     "metadata": {},
     "output_type": "execute_result"
    }
   ],
   "source": [
    "df.shape"
   ]
  },
  {
   "cell_type": "markdown",
   "metadata": {},
   "source": [
    "<p><a name=\"acute_or_chronic\"></a></p>\n",
    "## acute_or_chronic"
   ]
  },
  {
   "cell_type": "code",
   "execution_count": 121,
   "metadata": {},
   "outputs": [
    {
     "data": {
      "text/plain": [
       "Chronic    198\n",
       "Acute      163\n",
       "NaN         96\n",
       "Name: acute_or_chronic, dtype: int64"
      ]
     },
     "execution_count": 121,
     "metadata": {},
     "output_type": "execute_result"
    }
   ],
   "source": [
    "df.acute_or_chronic.value_counts(dropna=False)"
   ]
  },
  {
   "cell_type": "markdown",
   "metadata": {},
   "source": [
    "A lot of missing. Not sure how to impute."
   ]
  },
  {
   "cell_type": "markdown",
   "metadata": {},
   "source": [
    "<p><a name=\"diagnoses\"></a></p>\n",
    "## Diagnoses"
   ]
  },
  {
   "cell_type": "code",
   "execution_count": 122,
   "metadata": {
    "scrolled": true
   },
   "outputs": [
    {
     "data": {
      "text/plain": [
       "Index(['patient_link', 'date_of_birth', 'patient_gender', 'ef',\n",
       "       'special_status', 'facilities_link', 'hospital_discharged_from',\n",
       "       'admit_weight', 'acute_or_chronic', 'aicd', 'status', 'discharge',\n",
       "       'cardiac_related', 'create_user', 'enrollId', 'name', 'weight',\n",
       "       'this_weight_change', 'weight_change_since_admit', 'bnp',\n",
       "       'this_bnp_change', 'ace', 'bb', 'diuretics', 'anticoagulant',\n",
       "       'ionotropes', 'other_cardiac_meds', 'bun', 'cr', 'sodium', 'potasium',\n",
       "       'mg', 'this_cr_change', 'resting_hr', 'systolic', 'diastolic',\n",
       "       'resting_bp', 'outcome', 'cad/mi', 'heart_failure_unspecfied',\n",
       "       'diastolic_heart_failure', 'systolic_chf', 'atrial_fibrilation',\n",
       "       'cardiomyoapthy', 'lvad', 'chf', 'duration', 'age'],\n",
       "      dtype='object')"
      ]
     },
     "execution_count": 122,
     "metadata": {},
     "output_type": "execute_result"
    }
   ],
   "source": [
    "df.columns"
   ]
  },
  {
   "cell_type": "code",
   "execution_count": 123,
   "metadata": {},
   "outputs": [
    {
     "data": {
      "text/plain": [
       "NaN              369\n",
       "Death             49\n",
       "NP Following      31\n",
       "Collaboration      7\n",
       "collaboration      1\n",
       "Name: special_status, dtype: int64"
      ]
     },
     "execution_count": 123,
     "metadata": {},
     "output_type": "execute_result"
    }
   ],
   "source": [
    "df.special_status.value_counts(dropna = False)"
   ]
  },
  {
   "cell_type": "code",
   "execution_count": 124,
   "metadata": {},
   "outputs": [
    {
     "data": {
      "text/plain": [
       "To Home                     211\n",
       "Hospital                    169\n",
       "Death                        50\n",
       "NaN                          18\n",
       "Assisted Living Facility      6\n",
       "No Reason Given               3\n",
       "Name: status, dtype: int64"
      ]
     },
     "execution_count": 124,
     "metadata": {},
     "output_type": "execute_result"
    }
   ],
   "source": [
    "df.status.value_counts(dropna = False)"
   ]
  },
  {
   "cell_type": "markdown",
   "metadata": {},
   "source": [
    "<p><a name=\"labs\"></a></p>\n",
    "## Labs"
   ]
  },
  {
   "cell_type": "markdown",
   "metadata": {},
   "source": [
    "<p><a name=\"bnp\"></a></p>\n",
    "### BNP"
   ]
  },
  {
   "cell_type": "code",
   "execution_count": 13,
   "metadata": {},
   "outputs": [],
   "source": [
    "%matplotlib inline\n",
    "import matplotlib.pyplot as plt\n",
    "import seaborn as sns"
   ]
  },
  {
   "cell_type": "code",
   "execution_count": 125,
   "metadata": {
    "scrolled": true
   },
   "outputs": [
    {
     "data": {
      "text/plain": [
       "(array([455.,   0.,   1.,   0.,   0.,   0.,   0.,   0.,   0.,   1.]),\n",
       " array([2.0000e+00, 6.8450e+03, 1.3688e+04, 2.0531e+04, 2.7374e+04,\n",
       "        3.4217e+04, 4.1060e+04, 4.7903e+04, 5.4746e+04, 6.1589e+04,\n",
       "        6.8432e+04]),\n",
       " <a list of 10 Patch objects>)"
      ]
     },
     "execution_count": 125,
     "metadata": {},
     "output_type": "execute_result"
    },
    {
     "data": {
      "image/png": "[encoded data removed]",
      "text/plain": [
       "<Figure size 432x288 with 1 Axes>"
      ]
     },
     "metadata": {
      "needs_background": "light"
     },
     "output_type": "display_data"
    }
   ],
   "source": [
    "plt.hist(df.bnp)"
   ]
  },
  {
   "cell_type": "markdown",
   "metadata": {},
   "source": [
    "Heavily skewed!"
   ]
  },
  {
   "cell_type": "code",
   "execution_count": 126,
   "metadata": {},
   "outputs": [
    {
     "data": {
      "text/plain": [
       "(array([  4.,  12.,  43.,  90., 120., 112.,  51.,  23.,   1.,   1.]),\n",
       " array([ 0.69314718,  1.73719205,  2.78123691,  3.82528178,  4.86932664,\n",
       "         5.91337151,  6.95741637,  8.00146124,  9.0455061 , 10.08955097,\n",
       "        11.13359583]),\n",
       " <a list of 10 Patch objects>)"
      ]
     },
     "execution_count": 126,
     "metadata": {},
     "output_type": "execute_result"
    },
    {
     "data": {
      "image/png": "[encoded data removed]",
      "text/plain": [
       "<Figure size 432x288 with 1 Axes>"
      ]
     },
     "metadata": {
      "needs_background": "light"
     },
     "output_type": "display_data"
    }
   ],
   "source": [
    "plt.hist(df.bnp.map(np.log))"
   ]
  },
  {
   "cell_type": "markdown",
   "metadata": {},
   "source": [
    "log plot is much better! Box-Cox?"
   ]
  },
  {
   "cell_type": "markdown",
   "metadata": {},
   "source": [
    "### this_bnp_change"
   ]
  },
  {
   "cell_type": "code",
   "execution_count": 127,
   "metadata": {
    "scrolled": true
   },
   "outputs": [
    {
     "data": {
      "text/plain": [
       "12"
      ]
     },
     "execution_count": 127,
     "metadata": {},
     "output_type": "execute_result"
    }
   ],
   "source": [
    "df.this_bnp_change.isna().sum()"
   ]
  },
  {
   "cell_type": "markdown",
   "metadata": {},
   "source": [
    "Few missing. Suggest imputing 0? Perhaps they only have one bnp measurement."
   ]
  },
  {
   "cell_type": "code",
   "execution_count": 128,
   "metadata": {
    "scrolled": true
   },
   "outputs": [
    {
     "data": {
      "text/plain": [
       "280   -66618.0\n",
       "148    -2966.0\n",
       "56     -2600.0\n",
       "213    -1780.0\n",
       "365    -1774.0\n",
       "27     -1549.0\n",
       "145    -1419.0\n",
       "89     -1165.0\n",
       "67     -1112.0\n",
       "260    -1062.0\n",
       "Name: this_bnp_change, dtype: float64"
      ]
     },
     "execution_count": 128,
     "metadata": {},
     "output_type": "execute_result"
    }
   ],
   "source": [
    "df.this_bnp_change.sort_values().head(10)"
   ]
  },
  {
   "cell_type": "markdown",
   "metadata": {},
   "source": [
    "-66618 bnp change is a ludicrous outlier"
   ]
  },
  {
   "cell_type": "code",
   "execution_count": 129,
   "metadata": {},
   "outputs": [
    {
     "data": {
      "text/plain": [
       "57     2580.0\n",
       "387    1704.0\n",
       "311    1556.0\n",
       "375    1510.0\n",
       "429    1439.0\n",
       "180    1433.0\n",
       "39     1188.0\n",
       "337    1175.0\n",
       "152    1107.0\n",
       "389    1021.0\n",
       "Name: this_bnp_change, dtype: float64"
      ]
     },
     "execution_count": 129,
     "metadata": {},
     "output_type": "execute_result"
    }
   ],
   "source": [
    "df.this_bnp_change.sort_values(ascending = False).head(10)"
   ]
  },
  {
   "cell_type": "markdown",
   "metadata": {},
   "source": [
    "2580 is an outlier, but perhaps not rediculous."
   ]
  },
  {
   "cell_type": "code",
   "execution_count": 130,
   "metadata": {
    "scrolled": false
   },
   "outputs": [
    {
     "data": {
      "text/plain": [
       "(array([  3.,   3.,   7.,  12.,  82., 220.,  20.,   7.,   4.,   5.]),\n",
       " array([-1780. , -1431.6, -1083.2,  -734.8,  -386.4,   -38. ,   310.4,\n",
       "          658.8,  1007.2,  1355.6,  1704. ]),\n",
       " <a list of 10 Patch objects>)"
      ]
     },
     "execution_count": 130,
     "metadata": {},
     "output_type": "execute_result"
    },
    {
     "data": {
      "image/png": "[encoded data removed]",
      "text/plain": [
       "<Figure size 432x288 with 1 Axes>"
      ]
     },
     "metadata": {
      "needs_background": "light"
     },
     "output_type": "display_data"
    }
   ],
   "source": [
    "plt.hist(df.this_bnp_change.dropna()[(df.this_bnp_change > -2000)&(df.this_bnp_change != 0)&(df.this_bnp_change < 2000)])"
   ]
  },
  {
   "cell_type": "markdown",
   "metadata": {},
   "source": [
    "## Meds"
   ]
  },
  {
   "cell_type": "markdown",
   "metadata": {},
   "source": [
    "### Ace"
   ]
  },
  {
   "cell_type": "code",
   "execution_count": 131,
   "metadata": {},
   "outputs": [
    {
     "data": {
      "text/plain": [
       "0.0    268\n",
       "1.0    189\n",
       "Name: ace, dtype: int64"
      ]
     },
     "execution_count": 131,
     "metadata": {},
     "output_type": "execute_result"
    }
   ],
   "source": [
    "df.ace.value_counts(dropna = False)"
   ]
  },
  {
   "cell_type": "markdown",
   "metadata": {},
   "source": [
    "### bb"
   ]
  },
  {
   "cell_type": "code",
   "execution_count": 132,
   "metadata": {},
   "outputs": [
    {
     "data": {
      "text/plain": [
       "1.0    326\n",
       "0.0    131\n",
       "Name: bb, dtype: int64"
      ]
     },
     "execution_count": 132,
     "metadata": {},
     "output_type": "execute_result"
    }
   ],
   "source": [
    "df.bb.value_counts(dropna = False)"
   ]
  },
  {
   "cell_type": "markdown",
   "metadata": {},
   "source": [
    "### diuretics"
   ]
  },
  {
   "cell_type": "code",
   "execution_count": 133,
   "metadata": {},
   "outputs": [
    {
     "data": {
      "text/plain": [
       "1.0    295\n",
       "0.0    162\n",
       "Name: diuretics, dtype: int64"
      ]
     },
     "execution_count": 133,
     "metadata": {},
     "output_type": "execute_result"
    }
   ],
   "source": [
    "df.diuretics.value_counts(dropna = False)"
   ]
  },
  {
   "cell_type": "markdown",
   "metadata": {},
   "source": [
    "### anticoagulant"
   ]
  },
  {
   "cell_type": "code",
   "execution_count": 134,
   "metadata": {},
   "outputs": [
    {
     "data": {
      "text/plain": [
       "1.0    338\n",
       "0.0    119\n",
       "Name: anticoagulant, dtype: int64"
      ]
     },
     "execution_count": 134,
     "metadata": {},
     "output_type": "execute_result"
    }
   ],
   "source": [
    "df.anticoagulant.value_counts(dropna = False)"
   ]
  },
  {
   "cell_type": "markdown",
   "metadata": {},
   "source": [
    "### ionotropes"
   ]
  },
  {
   "cell_type": "code",
   "execution_count": 135,
   "metadata": {},
   "outputs": [
    {
     "data": {
      "text/plain": [
       "0.0    417\n",
       "1.0     40\n",
       "Name: ionotropes, dtype: int64"
      ]
     },
     "execution_count": 135,
     "metadata": {},
     "output_type": "execute_result"
    }
   ],
   "source": [
    "df.ionotropes.value_counts(dropna = False)"
   ]
  },
  {
   "cell_type": "markdown",
   "metadata": {},
   "source": [
    "### other cardiac meds"
   ]
  },
  {
   "cell_type": "code",
   "execution_count": 136,
   "metadata": {},
   "outputs": [
    {
     "data": {
      "text/plain": [
       "NaN                                                                                                                                                                    177\n",
       "Atorvastatin 40mg QD                                                                                                                                                    17\n",
       "Atorvastatin 80mg QD                                                                                                                                                    14\n",
       "Amlodipine 5mg QD                                                                                                                                                        8\n",
       "Amlodipine 10mg QD                                                                                                                                                       7\n",
       "Amiodarone 200mg QD                                                                                                                                                      7\n",
       "Atorvastatin 20mg QD                                                                                                                                                     6\n",
       "Simvastatin 20mg QD                                                                                                                                                      6\n",
       "no cardiac meds on the record                                                                                                                                            5\n",
       "Nifedipine 60mg QD                                                                                                                                                       4\n",
       "Simvastatin 10mg QD                                                                                                                                                      4\n",
       "Lipitor 40mg QD                                                                                                                                                          3\n",
       "Nifedipine 90mg QD                                                                                                                                                       3\n",
       "Simvastatin 40mg QD                                                                                                                                                      3\n",
       "Amlodipine 10mg Qd                                                                                                                                                       3\n",
       "Rosuvastatin 5mg QD                                                                                                                                                      2\n",
       "profile is incomplete                                                                                                                                                    2\n",
       "Hydralazine 10mg TID                                                                                                                                                     2\n",
       "Isosorbide mono 30mg QD                                                                                                                                                  2\n",
       "Atorvastatin 40mg QD, Hydralazine 25mg Q8H; Isordil 10mg tid                                                                                                             2\n",
       "Nifedipine 30mg QD                                                                                                                                                       2\n",
       "Atorvastatin 40 mg HS                                                                                                                                                    2\n",
       "Metolazone 5mg 1 tablet (5 mg) by oral route 2 times per week on Monday and Thursday at 6:30 pm (30 minutes after Torsemide)                                             2\n",
       "Atorvastatin 40mg QD, Hydralazine 100mg Q8H, Isosorbide din 30mg *2tab TID                                                                                               2\n",
       "Norvasc 5mg QD                                                                                                                                                           2\n",
       "Cardizem 360mg PO QD; Diamox 250mg PO QD                                                                                                                                 1\n",
       "Digoxin 0.125 mg HS                                                                                                                                                      1\n",
       "Isosorbide mono 30mg QD, Amlodipine 10mg QD                                                                                                                              1\n",
       "Rosuvastatin 20mg QD, Isosorbide mono 60mg QD                                                                                                                            1\n",
       "Hydralazine 25mg Q12H                                                                                                                                                    1\n",
       "                                                                                                                                                                      ... \n",
       "Hydralazine 50 mg Q 8 H, Atorvastatin 40 mg HS                                                                                                                           1\n",
       "Atorvastain 20mg QD, Hydrochlorothiazide 12.5mg QD                                                                                                                       1\n",
       "no orders found on the record                                                                                                                                            1\n",
       "Amlodipine 10mg qd                                                                                                                                                       1\n",
       "Nitroglycerin sublingual 0.4mg PRN, Atorvastatin 40mg QN                                                                                                                 1\n",
       "Hydralazine 50mg TID, Isosorbide mono 30mg QD, Atorvastatin 40mg QD, Amlodipine 10mg QD                                                                                  1\n",
       "Norvasc 10mg QD; Isosorbide dinitrate 10mg  BID, Atorvastatin 40mg QD                                                                                                    1\n",
       "Isosorbide mono 30mg QD, Hydralazine 25mg Q8H,Atorvastatin 40mg QD                                                                                                       1\n",
       "Hydralazine 25mg Q8H, Isosorbide din 20mg TID                                                                                                                            1\n",
       "Hydralazine 50mg TID, Lipitor 10mg QD, Nifedipine 60mg QD                                                                                                                1\n",
       "Hydralazine 100mg Q8H, Nifedipine 60mg*2tab QD, Atorvastatin 20mg QD                                                                                                     1\n",
       "Atorvastain 40mg QD                                                                                                                                                      1\n",
       "Amiodarone 100mg QD, Amlodipine 5mg QD                                                                                                                                   1\n",
       "Lipitor 20 mg HS                                                                                                                                                         1\n",
       "DIGOXIN 0.125 MG QD                                                                                                                                                      1\n",
       "Minoxidil 2.5mg daily, Amlodipine 10mg daily, Nifedipine 90mg daily                                                                                                      1\n",
       "Simvastatin 20mg QD; Potassium Chloride 10 MEQ QD                                                                                                                        1\n",
       "Nitroglycerin Tablet Sublingual 0.3 MG Give 1 tablet sublingually every 5 minutes as needed for chest pain give q 5 minutes x3 for chest pain, Atorvastatin 80mg QD      1\n",
       "Amlodipine 10mg QD, Isosorbide din 10mg TID, Hydralazine 25mg Q8H, Crestor 40mg HS                                                                                       1\n",
       "Hydralazine 25mg Q8H, Simvastatin 20mg QD                                                                                                                                1\n",
       "Amlodipine 5mg Qd                                                                                                                                                        1\n",
       "Amlodipine 5mg QD, Hydrochlorothiazide 12.5mg QD                                                                                                                         1\n",
       "Atorvastatin 40mg HS                                                                                                                                                     1\n",
       "Hydralazine 25mg TID; Isosorbide Mononitrate ER 30mg QD                                                                                                                  1\n",
       "Atorvasatin 80mg QD                                                                                                                                                      1\n",
       "Zocor 10mg QD                                                                                                                                                            1\n",
       "Spronolactone 25mg every other day                                                                                                                                       1\n",
       "Atorvastatin 40mg QD, Hydralazine 25mg TID                                                                                                                               1\n",
       "Simvastatin 20 mg HS, Digoxin 0.125 mg QOD                                                                                                                               1\n",
       "Amlodipine 5mg QD, Rosuvastatin 40mg QD                                                                                                                                  1\n",
       "Name: other_cardiac_meds, Length: 195, dtype: int64"
      ]
     },
     "execution_count": 136,
     "metadata": {},
     "output_type": "execute_result"
    }
   ],
   "source": [
    "df.other_cardiac_meds.value_counts(dropna = False)"
   ]
  },
  {
   "cell_type": "markdown",
   "metadata": {},
   "source": [
    "other cardiac meds column uncleaned?"
   ]
  },
  {
   "cell_type": "markdown",
   "metadata": {},
   "source": [
    "## Labs"
   ]
  },
  {
   "cell_type": "markdown",
   "metadata": {},
   "source": [
    "### bun"
   ]
  },
  {
   "cell_type": "code",
   "execution_count": 137,
   "metadata": {},
   "outputs": [
    {
     "data": {
      "text/plain": [
       "0"
      ]
     },
     "execution_count": 137,
     "metadata": {},
     "output_type": "execute_result"
    }
   ],
   "source": [
    "df.bun.isna().sum()"
   ]
  },
  {
   "cell_type": "code",
   "execution_count": 138,
   "metadata": {},
   "outputs": [
    {
     "data": {
      "text/plain": [
       "count    457.000000\n",
       "mean      35.787746\n",
       "std       23.093081\n",
       "min        0.000000\n",
       "25%       19.000000\n",
       "50%       29.000000\n",
       "75%       46.000000\n",
       "max      205.000000\n",
       "Name: bun, dtype: float64"
      ]
     },
     "execution_count": 138,
     "metadata": {},
     "output_type": "execute_result"
    }
   ],
   "source": [
    "df.bun.describe()"
   ]
  },
  {
   "cell_type": "code",
   "execution_count": 140,
   "metadata": {},
   "outputs": [
    {
     "data": {
      "text/plain": [
       "(array([136., 177.,  85.,  33.,  20.,   3.,   2.,   0.,   0.,   1.]),\n",
       " array([  0. ,  20.5,  41. ,  61.5,  82. , 102.5, 123. , 143.5, 164. ,\n",
       "        184.5, 205. ]),\n",
       " <a list of 10 Patch objects>)"
      ]
     },
     "execution_count": 140,
     "metadata": {},
     "output_type": "execute_result"
    },
    {
     "data": {
      "image/png": "[encoded data removed]",
      "text/plain": [
       "<Figure size 432x288 with 1 Axes>"
      ]
     },
     "metadata": {
      "needs_background": "light"
     },
     "output_type": "display_data"
    }
   ],
   "source": [
    "plt.hist(df.bun)"
   ]
  },
  {
   "cell_type": "markdown",
   "metadata": {},
   "source": [
    "Skew."
   ]
  },
  {
   "cell_type": "code",
   "execution_count": 145,
   "metadata": {},
   "outputs": [
    {
     "data": {
      "text/plain": [
       "276    0\n",
       "200    8\n",
       "419    9\n",
       "198    9\n",
       "433    9\n",
       "Name: bun, dtype: int64"
      ]
     },
     "execution_count": 145,
     "metadata": {},
     "output_type": "execute_result"
    }
   ],
   "source": [
    "df.bun.sort_values().head(5)"
   ]
  },
  {
   "cell_type": "markdown",
   "metadata": {},
   "source": [
    "Why the single 0 value? If imputed, I suggest changing the imputation to be the average."
   ]
  },
  {
   "cell_type": "code",
   "execution_count": 146,
   "metadata": {},
   "outputs": [
    {
     "data": {
      "text/plain": [
       "(array([17., 35., 93., 86., 81., 75., 40., 25.,  3.,  1.]),\n",
       " array([2.07944154, 2.40379839, 2.72815523, 3.05251207, 3.37686892,\n",
       "        3.70122576, 4.0255826 , 4.34993945, 4.67429629, 4.99865314,\n",
       "        5.32300998]),\n",
       " <a list of 10 Patch objects>)"
      ]
     },
     "execution_count": 146,
     "metadata": {},
     "output_type": "execute_result"
    },
    {
     "data": {
      "image/png": "[encoded data removed]",
      "text/plain": [
       "<Figure size 432x288 with 1 Axes>"
      ]
     },
     "metadata": {
      "needs_background": "light"
     },
     "output_type": "display_data"
    }
   ],
   "source": [
    "plt.hist((df.bun[df.bun > 0]).map(np.log))"
   ]
  },
  {
   "cell_type": "markdown",
   "metadata": {},
   "source": [
    "Log plot is better. Box-Cox?"
   ]
  },
  {
   "cell_type": "markdown",
   "metadata": {},
   "source": [
    "### cr"
   ]
  },
  {
   "cell_type": "code",
   "execution_count": 147,
   "metadata": {},
   "outputs": [
    {
     "data": {
      "text/plain": [
       "count    457.00000\n",
       "mean       1.65860\n",
       "std        1.50674\n",
       "min        0.00000\n",
       "25%        0.80000\n",
       "50%        1.10000\n",
       "75%        1.70000\n",
       "max        9.10000\n",
       "Name: cr, dtype: float64"
      ]
     },
     "execution_count": 147,
     "metadata": {},
     "output_type": "execute_result"
    }
   ],
   "source": [
    "df.cr.describe()"
   ]
  },
  {
   "cell_type": "code",
   "execution_count": 148,
   "metadata": {},
   "outputs": [
    {
     "data": {
      "text/plain": [
       "(array([155., 201.,  35.,  20.,  19.,   9.,   6.,   4.,   3.,   5.]),\n",
       " array([0.  , 0.91, 1.82, 2.73, 3.64, 4.55, 5.46, 6.37, 7.28, 8.19, 9.1 ]),\n",
       " <a list of 10 Patch objects>)"
      ]
     },
     "execution_count": 148,
     "metadata": {},
     "output_type": "execute_result"
    },
    {
     "data": {
      "image/png": "[encoded data removed]",
      "text/plain": [
       "<Figure size 432x288 with 1 Axes>"
      ]
     },
     "metadata": {
      "needs_background": "light"
     },
     "output_type": "display_data"
    }
   ],
   "source": [
    "plt.hist(df.cr)"
   ]
  },
  {
   "cell_type": "markdown",
   "metadata": {},
   "source": [
    "Skew!"
   ]
  },
  {
   "cell_type": "code",
   "execution_count": 150,
   "metadata": {},
   "outputs": [
    {
     "data": {
      "text/plain": [
       "276    0.0\n",
       "113    0.3\n",
       "261    0.3\n",
       "309    0.3\n",
       "354    0.4\n",
       "Name: cr, dtype: float64"
      ]
     },
     "execution_count": 150,
     "metadata": {},
     "output_type": "execute_result"
    }
   ],
   "source": [
    "df.cr.sort_values().head(5)"
   ]
  },
  {
   "cell_type": "markdown",
   "metadata": {},
   "source": [
    "Why the single 0 value? If imputed, suggest changing to mean imputation."
   ]
  },
  {
   "cell_type": "code",
   "execution_count": 151,
   "metadata": {
    "scrolled": true
   },
   "outputs": [
    {
     "data": {
      "text/plain": [
       "(array([  8.,  16.,  94., 119.,  97.,  41.,  33.,  21.,  15.,  12.]),\n",
       " array([-1.2039728 , -0.86274808, -0.52152336, -0.18029864,  0.16092608,\n",
       "         0.5021508 ,  0.84337553,  1.18460025,  1.52582497,  1.86704969,\n",
       "         2.20827441]),\n",
       " <a list of 10 Patch objects>)"
      ]
     },
     "execution_count": 151,
     "metadata": {},
     "output_type": "execute_result"
    },
    {
     "data": {
      "image/png": "[encoded data removed]",
      "text/plain": [
       "<Figure size 432x288 with 1 Axes>"
      ]
     },
     "metadata": {
      "needs_background": "light"
     },
     "output_type": "display_data"
    }
   ],
   "source": [
    "plt.hist((df.cr[df.cr > 0]).map(np.log))"
   ]
  },
  {
   "cell_type": "markdown",
   "metadata": {},
   "source": [
    "Log plot is better but still seems a bit skewed. Box-Cox?"
   ]
  },
  {
   "cell_type": "markdown",
   "metadata": {},
   "source": [
    "### sodium"
   ]
  },
  {
   "cell_type": "code",
   "execution_count": 152,
   "metadata": {},
   "outputs": [
    {
     "data": {
      "text/plain": [
       "count    192.000000\n",
       "mean     140.296875\n",
       "std        4.706061\n",
       "min      120.000000\n",
       "25%      138.000000\n",
       "50%      140.000000\n",
       "75%      142.250000\n",
       "max      164.000000\n",
       "Name: sodium, dtype: float64"
      ]
     },
     "execution_count": 152,
     "metadata": {},
     "output_type": "execute_result"
    }
   ],
   "source": [
    "df.sodium.describe()"
   ]
  },
  {
   "cell_type": "code",
   "execution_count": 153,
   "metadata": {},
   "outputs": [
    {
     "data": {
      "text/plain": [
       "265"
      ]
     },
     "execution_count": 153,
     "metadata": {},
     "output_type": "execute_result"
    }
   ],
   "source": [
    "df.sodium.isna().sum()"
   ]
  },
  {
   "cell_type": "markdown",
   "metadata": {},
   "source": [
    "Loads of missing! How to impute?"
   ]
  },
  {
   "cell_type": "code",
   "execution_count": 154,
   "metadata": {},
   "outputs": [
    {
     "data": {
      "text/plain": [
       "(array([ 1.,  1.,  6., 36., 82., 50., 11.,  3.,  1.,  1.]),\n",
       " array([120. , 124.4, 128.8, 133.2, 137.6, 142. , 146.4, 150.8, 155.2,\n",
       "        159.6, 164. ]),\n",
       " <a list of 10 Patch objects>)"
      ]
     },
     "execution_count": 154,
     "metadata": {},
     "output_type": "execute_result"
    },
    {
     "data": {
      "image/png": "[encoded data removed]",
      "text/plain": [
       "<Figure size 432x288 with 1 Axes>"
      ]
     },
     "metadata": {
      "needs_background": "light"
     },
     "output_type": "display_data"
    }
   ],
   "source": [
    "plt.hist(df.sodium.dropna())"
   ]
  },
  {
   "cell_type": "markdown",
   "metadata": {},
   "source": [
    "Not bad."
   ]
  },
  {
   "cell_type": "markdown",
   "metadata": {},
   "source": [
    "### potasium"
   ]
  },
  {
   "cell_type": "code",
   "execution_count": 155,
   "metadata": {},
   "outputs": [
    {
     "data": {
      "text/plain": [
       "count    456.000000\n",
       "mean       4.481360\n",
       "std        1.072013\n",
       "min        0.000000\n",
       "25%        4.000000\n",
       "50%        4.400000\n",
       "75%        4.900000\n",
       "max       22.300000\n",
       "Name: potasium, dtype: float64"
      ]
     },
     "execution_count": 155,
     "metadata": {},
     "output_type": "execute_result"
    }
   ],
   "source": [
    "df.potasium.describe()"
   ]
  },
  {
   "cell_type": "code",
   "execution_count": 156,
   "metadata": {},
   "outputs": [
    {
     "data": {
      "text/plain": [
       "1"
      ]
     },
     "execution_count": 156,
     "metadata": {},
     "output_type": "execute_result"
    }
   ],
   "source": [
    "df.potasium.isna().sum()"
   ]
  },
  {
   "cell_type": "markdown",
   "metadata": {},
   "source": [
    "Impute single missing value with mean?"
   ]
  },
  {
   "cell_type": "code",
   "execution_count": 157,
   "metadata": {},
   "outputs": [
    {
     "data": {
      "text/plain": [
       "(array([  2., 228., 223.,   2.,   0.,   0.,   0.,   0.,   0.,   1.]),\n",
       " array([ 0.  ,  2.23,  4.46,  6.69,  8.92, 11.15, 13.38, 15.61, 17.84,\n",
       "        20.07, 22.3 ]),\n",
       " <a list of 10 Patch objects>)"
      ]
     },
     "execution_count": 157,
     "metadata": {},
     "output_type": "execute_result"
    },
    {
     "data": {
      "image/png": "[encoded data removed]",
      "text/plain": [
       "<Figure size 432x288 with 1 Axes>"
      ]
     },
     "metadata": {
      "needs_background": "light"
     },
     "output_type": "display_data"
    }
   ],
   "source": [
    "plt.hist(df.potasium.dropna())"
   ]
  },
  {
   "cell_type": "markdown",
   "metadata": {},
   "source": [
    "Potential outlier"
   ]
  },
  {
   "cell_type": "code",
   "execution_count": 158,
   "metadata": {},
   "outputs": [
    {
     "data": {
      "text/plain": [
       "276    0.0\n",
       "397    2.0\n",
       "443    2.4\n",
       "445    2.8\n",
       "275    3.0\n",
       "Name: potasium, dtype: float64"
      ]
     },
     "execution_count": 158,
     "metadata": {},
     "output_type": "execute_result"
    }
   ],
   "source": [
    "df.potasium.sort_values().head(5)"
   ]
  },
  {
   "cell_type": "markdown",
   "metadata": {},
   "source": [
    "Single 0 value. Error? If imputed, suggest mean imputation."
   ]
  },
  {
   "cell_type": "code",
   "execution_count": 159,
   "metadata": {},
   "outputs": [
    {
     "data": {
      "text/plain": [
       "394     6.2\n",
       "37      7.3\n",
       "421     7.5\n",
       "340    22.3\n",
       "250     NaN\n",
       "Name: potasium, dtype: float64"
      ]
     },
     "execution_count": 159,
     "metadata": {},
     "output_type": "execute_result"
    }
   ],
   "source": [
    "df.potasium.sort_values().tail(5)"
   ]
  },
  {
   "cell_type": "markdown",
   "metadata": {},
   "source": [
    "22.3 L value seems like crazy outlier? Treat as 2.3? Treat as missing?"
   ]
  },
  {
   "cell_type": "code",
   "execution_count": 161,
   "metadata": {},
   "outputs": [
    {
     "data": {
      "text/plain": [
       "(array([  2.,   3.,  35., 107., 171., 101.,  30.,   3.,   0.,   2.]),\n",
       " array([2.  , 2.55, 3.1 , 3.65, 4.2 , 4.75, 5.3 , 5.85, 6.4 , 6.95, 7.5 ]),\n",
       " <a list of 10 Patch objects>)"
      ]
     },
     "execution_count": 161,
     "metadata": {},
     "output_type": "execute_result"
    },
    {
     "data": {
      "image/png": "[encoded data removed]",
      "text/plain": [
       "<Figure size 432x288 with 1 Axes>"
      ]
     },
     "metadata": {
      "needs_background": "light"
     },
     "output_type": "display_data"
    }
   ],
   "source": [
    "plt.hist(df.potasium[(df.potasium < 20)&(df.potasium > 0)].dropna())"
   ]
  },
  {
   "cell_type": "markdown",
   "metadata": {},
   "source": [
    "Looks OK with 0 and outlier removed."
   ]
  },
  {
   "cell_type": "markdown",
   "metadata": {},
   "source": [
    "### mg"
   ]
  },
  {
   "cell_type": "code",
   "execution_count": 162,
   "metadata": {},
   "outputs": [
    {
     "data": {
      "text/plain": [
       "48"
      ]
     },
     "execution_count": 162,
     "metadata": {},
     "output_type": "execute_result"
    }
   ],
   "source": [
    "df.mg.isna().sum()"
   ]
  },
  {
   "cell_type": "markdown",
   "metadata": {},
   "source": [
    "A lot of missing!"
   ]
  },
  {
   "cell_type": "code",
   "execution_count": 163,
   "metadata": {},
   "outputs": [
    {
     "data": {
      "text/plain": [
       "(array([  6.,   0.,   8.,  22., 130., 161.,  51.,  15.,   8.,   8.]),\n",
       " array([0. , 0.4, 0.8, 1.2, 1.6, 2. , 2.4, 2.8, 3.2, 3.6, 4. ]),\n",
       " <a list of 10 Patch objects>)"
      ]
     },
     "execution_count": 163,
     "metadata": {},
     "output_type": "execute_result"
    },
    {
     "data": {
      "image/png": "[encoded data removed]",
      "text/plain": [
       "<Figure size 432x288 with 1 Axes>"
      ]
     },
     "metadata": {
      "needs_background": "light"
     },
     "output_type": "display_data"
    }
   ],
   "source": [
    "plt.hist(df.mg.dropna())"
   ]
  },
  {
   "cell_type": "markdown",
   "metadata": {},
   "source": [
    "Not a bad plot"
   ]
  },
  {
   "cell_type": "code",
   "execution_count": 164,
   "metadata": {},
   "outputs": [
    {
     "data": {
      "text/plain": [
       "6"
      ]
     },
     "execution_count": 164,
     "metadata": {},
     "output_type": "execute_result"
    }
   ],
   "source": [
    "(df.mg == 0).sum()"
   ]
  },
  {
   "cell_type": "markdown",
   "metadata": {},
   "source": [
    "Are these 0 values errors? Change to mean? There's a lot of missing already..."
   ]
  },
  {
   "cell_type": "markdown",
   "metadata": {},
   "source": [
    "### this_cr_change"
   ]
  },
  {
   "cell_type": "code",
   "execution_count": 165,
   "metadata": {},
   "outputs": [
    {
     "data": {
      "text/plain": [
       "32"
      ]
     },
     "execution_count": 165,
     "metadata": {},
     "output_type": "execute_result"
    }
   ],
   "source": [
    "df.this_cr_change.isna().sum()"
   ]
  },
  {
   "cell_type": "markdown",
   "metadata": {},
   "source": [
    "Significant missing values. Is there only a single cr measurement? If so impute 0?"
   ]
  },
  {
   "cell_type": "code",
   "execution_count": 167,
   "metadata": {},
   "outputs": [
    {
     "data": {
      "text/plain": [
       "(array([  1.,   2.,   3.,  11.,  45., 205., 123.,  23.,   3.,   9.]),\n",
       " array([-133.33 , -109.997,  -86.664,  -63.331,  -39.998,  -16.665,\n",
       "           6.668,   30.001,   53.334,   76.667,  100.   ]),\n",
       " <a list of 10 Patch objects>)"
      ]
     },
     "execution_count": 167,
     "metadata": {},
     "output_type": "execute_result"
    },
    {
     "data": {
      "image/png": "[encoded data removed]",
      "text/plain": [
       "<Figure size 432x288 with 1 Axes>"
      ]
     },
     "metadata": {
      "needs_background": "light"
     },
     "output_type": "display_data"
    }
   ],
   "source": [
    "plt.hist(df.this_cr_change.dropna())"
   ]
  },
  {
   "cell_type": "markdown",
   "metadata": {},
   "source": [
    "Looks OK."
   ]
  },
  {
   "cell_type": "markdown",
   "metadata": {},
   "source": [
    "<p><a name=\"pacemaker\"></a></p>\n",
    "## Pacemaker (aicd)"
   ]
  },
  {
   "cell_type": "code",
   "execution_count": 168,
   "metadata": {},
   "outputs": [
    {
     "data": {
      "text/plain": [
       "0.0    415\n",
       "1.0     42\n",
       "Name: aicd, dtype: int64"
      ]
     },
     "execution_count": 168,
     "metadata": {},
     "output_type": "execute_result"
    }
   ],
   "source": [
    "df.aicd.value_counts(dropna = False)"
   ]
  },
  {
   "cell_type": "markdown",
   "metadata": {},
   "source": [
    "<p><a name=\"duration\"></a></p>\n",
    "## Duration"
   ]
  },
  {
   "cell_type": "code",
   "execution_count": 169,
   "metadata": {
    "scrolled": false
   },
   "outputs": [
    {
     "data": {
      "text/plain": [
       "count     438.000000\n",
       "mean       50.417808\n",
       "std       340.012359\n",
       "min     -3638.000000\n",
       "25%        22.250000\n",
       "50%        47.000000\n",
       "75%        91.250000\n",
       "max      1390.000000\n",
       "Name: duration, dtype: float64"
      ]
     },
     "execution_count": 169,
     "metadata": {},
     "output_type": "execute_result"
    }
   ],
   "source": [
    "df.duration.describe()"
   ]
  },
  {
   "cell_type": "code",
   "execution_count": 170,
   "metadata": {},
   "outputs": [
    {
     "data": {
      "text/plain": [
       "433   -3638.0\n",
       "405   -2628.0\n",
       "269   -1783.0\n",
       "152   -1395.0\n",
       "195   -1393.0\n",
       "189   -1045.0\n",
       "210   -1028.0\n",
       "199   -1024.0\n",
       "371    -997.0\n",
       "235    -709.0\n",
       "449    -708.0\n",
       "126    -705.0\n",
       "202    -696.0\n",
       "26     -691.0\n",
       "191    -657.0\n",
       "72     -638.0\n",
       "76     -334.0\n",
       "102    -312.0\n",
       "216    -307.0\n",
       "268    -298.0\n",
       "149    -277.0\n",
       "Name: duration, dtype: float64"
      ]
     },
     "execution_count": 170,
     "metadata": {},
     "output_type": "execute_result"
    }
   ],
   "source": [
    "df.duration.sort_values().head(21)"
   ]
  },
  {
   "cell_type": "markdown",
   "metadata": {},
   "source": [
    "Why all the negative durations?"
   ]
  },
  {
   "cell_type": "code",
   "execution_count": 171,
   "metadata": {},
   "outputs": [
    {
     "data": {
      "text/plain": [
       "19"
      ]
     },
     "execution_count": 171,
     "metadata": {},
     "output_type": "execute_result"
    }
   ],
   "source": [
    "df.duration.isna().sum()"
   ]
  },
  {
   "cell_type": "markdown",
   "metadata": {},
   "source": [
    "20 missing durations."
   ]
  },
  {
   "cell_type": "code",
   "execution_count": 172,
   "metadata": {},
   "outputs": [
    {
     "data": {
      "text/plain": [
       "count     413.000000\n",
       "mean      105.772397\n",
       "std       169.033536\n",
       "min         0.000000\n",
       "25%        26.000000\n",
       "50%        50.000000\n",
       "75%        95.000000\n",
       "max      1390.000000\n",
       "Name: duration, dtype: float64"
      ]
     },
     "execution_count": 172,
     "metadata": {},
     "output_type": "execute_result"
    }
   ],
   "source": [
    "df.duration[df.duration >= 0].describe()"
   ]
  },
  {
   "cell_type": "code",
   "execution_count": 173,
   "metadata": {},
   "outputs": [
    {
     "data": {
      "text/plain": [
       "(array([342.,  27.,  22.,  10.,   3.,   5.,   2.,   0.,   0.,   2.]),\n",
       " array([   0.,  139.,  278.,  417.,  556.,  695.,  834.,  973., 1112.,\n",
       "        1251., 1390.]),\n",
       " <a list of 10 Patch objects>)"
      ]
     },
     "execution_count": 173,
     "metadata": {},
     "output_type": "execute_result"
    },
    {
     "data": {
      "image/png": "[encoded data removed]",
      "text/plain": [
       "<Figure size 432x288 with 1 Axes>"
      ]
     },
     "metadata": {
      "needs_background": "light"
     },
     "output_type": "display_data"
    }
   ],
   "source": [
    "plt.hist(df.duration[(df.duration > -1 )])"
   ]
  },
  {
   "cell_type": "markdown",
   "metadata": {},
   "source": [
    "Plot is heavily skewed."
   ]
  },
  {
   "cell_type": "code",
   "execution_count": 176,
   "metadata": {
    "scrolled": true
   },
   "outputs": [
    {
     "data": {
      "text/plain": [
       "(array([  4.,   7.,  13.,  36.,  85., 121.,  69.,  35.,  22.,  10.]),\n",
       " array([0.        , 0.7237059 , 1.44741181, 2.17111771, 2.89482361,\n",
       "        3.61852951, 4.34223542, 5.06594132, 5.78964722, 6.51335312,\n",
       "        7.23705903]),\n",
       " <a list of 10 Patch objects>)"
      ]
     },
     "execution_count": 176,
     "metadata": {},
     "output_type": "execute_result"
    },
    {
     "data": {
      "image/png": "[encoded data removed]",
      "text/plain": [
       "<Figure size 432x288 with 1 Axes>"
      ]
     },
     "metadata": {
      "needs_background": "light"
     },
     "output_type": "display_data"
    }
   ],
   "source": [
    "plt.hist(df.duration[df.duration > 0].map(np.log))"
   ]
  },
  {
   "cell_type": "markdown",
   "metadata": {},
   "source": [
    "Log histogram of non-missing values looks much more normal. Box-Cox transformation may be appropriate here."
   ]
  }
 ],
 "metadata": {
  "kernelspec": {
   "display_name": "Python 3",
   "language": "python",
   "name": "python3"
  },
  "language_info": {
   "codemirror_mode": {
    "name": "ipython",
    "version": 3
   },
   "file_extension": ".py",
   "mimetype": "text/x-python",
   "name": "python",
   "nbconvert_exporter": "python",
   "pygments_lexer": "ipython3",
   "version": "3.7.0"
  }
 },
 "nbformat": 4,
 "nbformat_minor": 2
}
