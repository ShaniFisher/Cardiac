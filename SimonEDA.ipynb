{
 "cells": [
  {
   "cell_type": "markdown",
   "metadata": {},
   "source": [
    "- <a href=\"#acute_or_chronic\">acute_or_chronic</a><br>\n",
    "- <a href=\"#diagnoses\">diagnosis</a><br>\n",
    "- <a href=\"#labs\">Labs</a><br>\n",
    "- <a href=\"#pacemaker\">pacemaker</a><br>\n",
    "- <a href=\"#duration\">duration</a><br>\n",
    "- <a href=\"#\"></a><br>"
   ]
  },
  {
   "cell_type": "markdown",
   "metadata": {},
   "source": [
    "Load the data frame for EDA using %load Pipeline_clean.py"
   ]
  },
  {
   "cell_type": "code",
   "execution_count": 5,
   "metadata": {},
   "outputs": [
    {
     "name": "stdout",
     "output_type": "stream",
     "text": [
      "The autoreload extension is already loaded. To reload it, use:\n",
      "  %reload_ext autoreload\n",
      "Live Sheet:\n",
      "Sheet name: \"patients\"\n",
      "Retained columns: ['patient_link', 'date_of_birth', 'patient_gender', 'ef', 'special_status']\n",
      "\n",
      "Sheet name: \"patient_enrollment_records\"\n",
      "Retained columns: ['patient_link', 'facilities_link', 'enrollment_date', 'hospital_discharged_from', 'admit_weight', 'diagnosis_1', 'acute_or_chronic', 'aicd', 'status', 'discharge', 'discharge_date', 'cardiac_related', 'create_user']\n",
      "\n",
      "Sheet name: \"patient weights\"\n",
      "Retained columns: ['patient_link', 'name', 'patient_weight_date', 'weight', 'this_weight_change', 'weight_change_since_admit']\n",
      "\n",
      "Sheet name: \"patient BNP\"\n",
      "Retained columns: ['patient_link', 'bnp_date', 'bnp', 'this_bnp_change']\n",
      "\n",
      "Sheet name: \"Cardiac_Meds\"\n",
      "Retained columns: ['patient_link', 'cardiac_meds_date', 'ace', 'bb', 'diuretics', 'anticoagulant', 'ionotropes', 'other cardiac meds']\n",
      "\n",
      "Sheet name: \"patient labs\"\n",
      "Retained columns: ['patient_link', 'labs_date', 'bun', 'cr', 'sodium', 'potasium', 'mg', 'this_cr_change']\n",
      "\n",
      "Sheet name: \"patient BP\"\n",
      "Retained columns: ['patient_link', 'bp_date', 'resting_hr', 'systolic', 'diastolic', 'resting_bp']\n",
      "\n",
      "\n",
      "\n",
      "Archive Sheet:\n",
      "Sheet name: \"patient_enrollment_records\"\n",
      "Retained columns: ['patient_link', 'facilities_link', 'enrollment_date', 'hospital_discharged_from', 'admit_weight', 'diagnosis_1', 'acute_or_chronic', 'aicd', 'status', 'discharge', 'discharge_date', 'cardiac_related', 'create_user']\n",
      "\n",
      "Sheet name: \"patient weights\"\n",
      "Retained columns: ['patient_link', 'name', 'patient_weight_date', 'weight', 'this_weight_change', 'weight_change_since_admit']\n",
      "\n",
      "Sheet name: \"patient BNP\"\n",
      "Retained columns: ['patient_link', 'bnp_date', 'bnp', 'this_bnp_change']\n",
      "\n",
      "Sheet name: \"Cardiac_Meds\"\n",
      "Retained columns: ['patient_link', 'cardiac_meds_date', 'ace', 'bb', 'diuretics', 'anticoagulant', 'ionotropes', 'other cardiac meds']\n",
      "\n",
      "Sheet name: \"patient labs\"\n",
      "Retained columns: ['patient_link', 'labs_date', 'bun', 'cr', 'sodium', 'potasium', 'mg', 'this_cr_change']\n",
      "\n",
      "Sheet name: \"patient BP\"\n",
      "Retained columns: ['patient_link', 'bp_date', 'resting_hr', 'systolic', 'diastolic', 'resting_bp']\n",
      "\n",
      "\n",
      "\n",
      "0 NaT added to list\n",
      "0 NaT added to list\n",
      "Date column \"enrollment_date\" in sheet \"patient_enrollment_records\" has been converted to appropriate datatype\n",
      "\n",
      "0 NaT added to list\n",
      "6 NaT added to list\n",
      "Date column \"patient_weight_date\" in sheet \"patient weights\" has been converted to appropriate datatype\n",
      "\n",
      "83 NaT added to list\n",
      "80 NaT added to list\n",
      "Date column \"bnp_date\" in sheet \"patient BNP\" has been converted to appropriate datatype\n",
      "\n",
      "0 NaT added to list\n",
      "0 NaT added to list\n",
      "Date column \"cardiac_meds_date\" in sheet \"Cardiac_Meds\" has been converted to appropriate datatype\n",
      "\n",
      "0 NaT added to list\n",
      "41 NaT added to list\n",
      "Date column \"labs_date\" in sheet \"patient labs\" has been converted to appropriate datatype\n",
      "\n",
      "0 NaT added to list\n",
      "257 NaT added to list\n",
      "Date column \"bp_date\" in sheet \"patient BP\" has been converted to appropriate datatype\n",
      "\n",
      "193 NaT added to list\n",
      "Date column \"date_of_birth\" in sheet \"patients\" has been converted to appropriate datatype\n",
      "\n",
      "\n",
      "No records found in the data frame that match these enroll IDs:\n",
      "========================================\n",
      "Series([], Name: enrollId, dtype: object)\n",
      "Failed to add enrollID to 2 rows with indexes:\n",
      "========================================\n",
      "Int64Index([844, 987], dtype='int64')\n",
      "Added \"enrollID\" column to sheet \"patient_enrollment_records\"\n",
      "Could not find a least missing/most recent row for enrollId: nan\n",
      "Reduced sheet \"patient_enrollment_records\" from 1934 rows to 1359 rows by filtering most recent dates with least missing\n",
      "\n",
      "Records for all patients found in the data frame. Yay!\n",
      "\n",
      "Failed to add enrollID to 887 rows with indexes:\n",
      "========================================\n",
      "Int64Index([    4,     7,     8,    10,    11,    12,    13,    14,    15,\n",
      "               21,\n",
      "            ...\n",
      "            24759, 24776, 25039, 25143, 25144, 25373, 25528, 25529, 25530,\n",
      "            25647],\n",
      "           dtype='int64', length=887)\n",
      "Added \"enrollID\" column to sheet \"patient weights\"\n",
      "Could not find a least missing/most recent row for enrollId: nan\n",
      "Reduced sheet \"patient weights\" from 25685 rows to 1279 rows by filtering most recent dates with least missing\n",
      "\n",
      "Records for all patients found in the data frame. Yay!\n",
      "\n",
      "Failed to add enrollID to 413 rows with indexes:\n",
      "========================================\n",
      "Int64Index([   8,   13,   14,   18,   19,   35,   42,   92,  100,  222,\n",
      "            ...\n",
      "            6637, 6659, 6694, 6700, 6703, 6704, 6718, 6719, 6921, 6949],\n",
      "           dtype='int64', length=413)\n",
      "Added \"enrollID\" column to sheet \"patient BNP\"\n",
      "Could not find a least missing/most recent row for enrollId: nan\n",
      "Reduced sheet \"patient BNP\" from 6991 rows to 1078 rows by filtering most recent dates with least missing\n",
      "\n",
      "Records for all patients found in the data frame. Yay!\n",
      "\n",
      "Failed to add enrollID to 98 rows with indexes:\n",
      "========================================\n",
      "Int64Index([  38,  118,  258,  259,  306,  404,  405,  406,  556,  580,  785,\n",
      "             991, 1027, 1190, 1279, 1280, 1381, 1393, 1479, 1525, 1615, 1663,\n",
      "            1798, 1803, 1950, 2147, 2278, 2280, 2286, 2347, 2377, 2388, 2446,\n",
      "            2526, 2666, 2667, 2714, 2812, 2813, 2814, 2964, 2988, 3193, 3399,\n",
      "            3435, 3598, 3687, 3688, 3789, 3801, 3887, 3933, 4024, 4394, 4866,\n",
      "            4867, 4883, 5075, 5076, 5109, 5111, 5113, 5545, 5547, 5557, 5782,\n",
      "            5787, 5892, 5895, 5896, 5897, 5931, 5940, 5941, 5971, 6032, 6034,\n",
      "            6035, 6039, 6082, 6140, 6169, 6215, 6318, 6360, 6362, 6363, 6414,\n",
      "            6500, 6714, 6724, 6728, 7382, 7383, 7384, 7385, 7386, 7391],\n",
      "           dtype='int64')\n",
      "Added \"enrollID\" column to sheet \"Cardiac_Meds\"\n",
      "Could not find a least missing/most recent row for enrollId: nan\n",
      "Reduced sheet \"Cardiac_Meds\" from 8551 rows to 1059 rows by filtering most recent dates with least missing\n",
      "\n",
      "Records for all patients found in the data frame. Yay!\n",
      "\n",
      "Failed to add enrollID to 481 rows with indexes:\n",
      "========================================\n",
      "Int64Index([   64,    70,    72,    74,    76,    78,    79,    80,    81,\n",
      "               82,\n",
      "            ...\n",
      "            10089, 10090, 10103, 10110, 10162, 10165, 10166, 10222, 10361,\n",
      "            10461],\n",
      "           dtype='int64', length=481)\n",
      "Added \"enrollID\" column to sheet \"patient labs\"\n",
      "Could not find a least missing/most recent row for enrollId: nan\n",
      "Reduced sheet \"patient labs\" from 10547 rows to 1212 rows by filtering most recent dates with least missing\n",
      "\n",
      "Records for all patients found in the data frame. Yay!\n",
      "\n",
      "Failed to add enrollID to 372 rows with indexes:\n",
      "========================================\n",
      "Int64Index([   0,   13,   23,   28,   44,   69,   73,   77,   90,   91,\n",
      "            ...\n",
      "            4594, 4595, 4612, 4809, 4813, 4815, 4818, 4821, 5296, 5602],\n",
      "           dtype='int64', length=372)\n",
      "Added \"enrollID\" column to sheet \"patient BP\"\n",
      "Could not find a least missing/most recent row for enrollId: nan\n",
      "Reduced sheet \"patient BP\" from 5845 rows to 1025 rows by filtering most recent dates with least missing\n",
      "\n",
      "\n",
      "\n",
      "Merged sheet \"patient weights\" with the full dataframe and changed the row number by -78\n",
      "Merged sheet \"patient BNP\" with the full dataframe and changed the row number by -212\n",
      "Merged sheet \"Cardiac_Meds\" with the full dataframe and changed the row number by -171\n",
      "Merged sheet \"patient labs\" with the full dataframe and changed the row number by -2\n",
      "Merged sheet \"patient BP\" with the full dataframe and changed the row number by -143\n",
      "\n",
      "\n",
      "DATA MERGE IS COMPLETE\n",
      "Setting outcome to 2 for patients that have been discharged but we don't have a status on them\n",
      "Setting outcome to 2 for patients that have been discharged but we don't have a status on them\n",
      "Setting outcome to 2 for patients that have been discharged but we don't have a status on them\n",
      "Setting outcome to 2 for patients that have been discharged but we don't have a status on them\n",
      "Setting outcome to 2 for patients that have been discharged but we don't have a status on them\n",
      "Setting outcome to 2 for patients that have been discharged but we don't have a status on them\n",
      "Setting outcome to 2 for patients that have been discharged but we don't have a status on them\n",
      "Setting outcome to 2 for patients that have been discharged but we don't have a status on them\n",
      "Setting outcome to 2 for patients that have been discharged but we don't have a status on them\n",
      "Setting outcome to 2 for patients that have been discharged but we don't have a status on them\n",
      "Setting outcome to 2 for patients that have been discharged but we don't have a status on them\n",
      "Setting outcome to 2 for patients that have been discharged but we don't have a status on them\n",
      "Setting outcome to 2 for patients that have been discharged but we don't have a status on them\n",
      "Setting outcome to 2 for patients that have been discharged but we don't have a status on them\n",
      "Setting outcome to 2 for patients that have been discharged but we don't have a status on them\n",
      "Setting outcome to 2 for patients that have been discharged but we don't have a status on them\n",
      "Setting outcome to 2 for patients that have been discharged but we don't have a status on them\n",
      "Setting outcome to 2 for patients that have been discharged but we don't have a status on them\n",
      "Setting outcome to 2 for patients that have been discharged but we don't have a status on them\n",
      "EF less than 0 set to None\n",
      "EF less than 0 set to None\n",
      "EF less than 0 set to None\n",
      "EF less than 0 set to None\n",
      "EF less than 0 set to None\n",
      "EF less than 0 set to None\n"
     ]
    },
    {
     "name": "stdout",
     "output_type": "stream",
     "text": [
      "num missing 223\n",
      "value counts before zero and one assignment: 0                                                      223\n",
      "lisinopril 5mg qd                                       25\n",
      "none                                                    22\n",
      "lisinopril 2.5mg qd                                     16\n",
      "losartan 50mg qd                                        12\n",
      "lisinopril 10mg qd                                       9\n",
      "lisinopril 20mg qd                                       9\n",
      "losartan 25mg qd                                         8\n",
      "losartan 100mg qd                                        6\n",
      "losartan potassium oral tablet 50 mg qd                  5\n",
      "enalapril 5mg qd                                         5\n",
      "enalapril 10mg qd                                        4\n",
      "lisinopril                                               3\n",
      "lisinopril 5mg bid                                       3\n",
      "losartan 50mg                                            2\n",
      "losartan potassium oral tablet 50 mg daily               2\n",
      "losartan 100 mg qd                                       2\n",
      "enalapril 20mg qd                                        2\n",
      "enalapril 2.5mg daily                                    2\n",
      "losartan potassium oral tablet 25 mg, qd-every day       2\n",
      "lisinopril oral tablet 40 mg                             2\n",
      "norvasc 10 mg qd                                         1\n",
      "isosorbide mononitrate 10mg daily                        1\n",
      "lisinopril 2.5 mg qd                                     1\n",
      "arb: losartan 50mg qd                                    1\n",
      "quinapril 20mg qd                                        1\n",
      "vasotec 10mg qd                                          1\n",
      "lorsartan potassium 50mg qd                              1\n",
      "allergic to ace                                          1\n",
      "enalapril 2.5mg qd                                       1\n",
      "                                                      ... \n",
      "losartan 25 mg daily                                     1\n",
      "lisinopril oral tablet 10 mg                             1\n",
      "lisinopril 5 mg qd                                       1\n",
      "lisinopril 20g qd                                        1\n",
      "enalapril 20 mg qd                                       1\n",
      "valsartan 160mg qd                                       1\n",
      "losartan 100-25 mg qd                                    1\n",
      "enalipiril                                               1\n",
      "amlodipine 5 mg qd, entresto 24-26mg q12                 1\n",
      "lisinopril 5mg                                           1\n",
      "10/23/17 add lisinopril 5mg qd                           1\n",
      "arb-losartan 50mg qd                                     1\n",
      "lisinopril 2.5 mg qd,                                    1\n",
      "enalapril maleate oral tablet 5 mg qd                    1\n",
      "benazepril 40mg bid2; clopidogrel 75mg qd2               1\n",
      "entresto tablet 24-26 mg (sacubitril-valsartan) bid      1\n",
      "cozaar 100mg qd2                                         1\n",
      "lisinopril oral tablet 2.5 mg daily                      1\n",
      "lisinopril 20 mg                                         1\n",
      "enalapril maleate oral tablet 2.5 mg                     1\n",
      "lisinopril oral tablet 10 mg qd                          1\n",
      "lisinopril 5 bid                                         1\n",
      "enalapril maleate oral tablet 0.5 mg                     1\n",
      "enalapril 2,5mg qd                                       1\n",
      "verapamil hcl er 180mg qd                                1\n",
      "lisinopril oral tablet 20 mg daily                       1\n",
      "lisinopril oral tablet 2.5 mg qd                         1\n",
      "losartan 150mg qd                                        1\n",
      "enalapril maleate oral tablet 10 mg                      1\n",
      "enalapril 2.5 mg  qd                                     1\n",
      "Name: ace, Length: 90, dtype: int64\n",
      "zero values: ['none due renal impairment d/c papers', 'none', 'allergic to ace; \\non arb: 10/23/17 inc. to lorsartan potassium 100mg qd', 'allergic to ace']\n",
      "Values set to 1.0: \n",
      " ['enalapril 2.5mg qd', 'enalapril 20 mg qd', 'enalapril maleate oral tablet 5 mg', 'entresto tablet 97-103 mg (sacubitril-valsartan) bid', 'lisinopril oral tablet 10 mg daily', \"ramipril 5mg qd d/c'd 2/2 to chronic cough\", 'losartan potassium oral tablet 50 mg, qd2-every day', 'lisinopril oral tablet 2.5 mg daily', 'lisinopril 2.5 mg qd,', 'lisinopril oral tablet 2.5 mg qd', 'isosorbide mononitrate 10mg daily', 'lisinopril 5mg', 'hydralazine 100mg q6h', 'enalapril maleate oral tablet 20 mg, bid', 'losartan 100-25 mg qd', 'lisinopril 2.5mg', 'lisinopril oral tablet 10 mg', 'lisinopril 5mg ds', 'lisinopril 5 mg qd', 'lisinopril oral tablet 20 mg qd', 'enalapril 10 mg bid', 'norvasc 10 mg qd', 'arb: losartan 50mg qd', 'losartan 100mg qd', 'enalapril', 'lisinopril 20g qd', 'lisinopril 5mg - bid', 'lisinopril 5mg q12h', 'enalapril 2.5 mg  qd', 'benazepril 40mg bid2; clopidogrel 75mg qd2', 'cozaar 100mg qd2', 'losartan potassium oral tablet 25 mg, qd-every day', 'lisinopril oral tablet 40 mg', 'arb-losartan 50mg qd', 'hydralazine 25 tid; imdur 30 qd', 'lisinopril', 'enalapril 20mg qd', 'entresto tablet 24-26 mg (sacubitril-valsartan) bid', 'lisinopril 5mg two times per day', 'lisinopril 5 bid', 'losartan 50mg', 'amlodipine 5 mg qd, entresto 24-26mg q12', 'enalapril maleate oral tablet 2.5 mg', 'lisinopril 2.5 mg qd', 'isosorbide dinitrate 5mg q12h', 'enalapril 10 q12h', 'lisinopril oral tablet 5 mg qd', 'coreg 3.125mg q12h', 'lisinopril 20mg qd', 'losartan potassium oral tablet 25 mg', 'lisinopril 10mg qd', 'enalipiril', 'vasotec 10mg qd', 'lisinopril 2.5mg qd', 'enalapril maleate oral tablet 5 mg qd', 'enalapril 5mg bid', 'verapamil hcl er 180mg qd', 'lisinopril oral tablet 10 mg qd', 'enalapril 2,5mg qd', 'lisinopril oral tablet 20 mg daily', 'enalapril 5mg qd', 'ramipril 2.5mg qd', 'lisinopril 5mg bid', 'valsartan 160mg qd', 'losartan 25mg qd', 'enalapril 2.5mg daily', 'lisinopril tablet 5 mg od', 'losartan potassium oral tablet 50 mg qd', 'lisinopril 5mg qd\\nlosartan 50mg qd', 'lorsartan potassium 50mg qd', '10/23/17 add lisinopril 5mg qd', 'losartan 50mg qd', 'enalapril maleate oral tablet 10 mg', 'lisinopril 20 mg', 'losartan 150mg qd', 'quinapril 20mg qd', 'vasotec 5mg qd', 'enalapril 10mg qd', 'enalapril maleate oral tablet 0.5 mg', 'lisinopril 5 mg qd,', 'losartan 25 mg daily', 'losartan potassium oral tablet 50 mg daily', 'losartan 100 mg qd', 'lisinopril 5mg qd', 'enalapril 20mg daily']\n",
      "0.0    248\n",
      "1.0    185\n",
      "Name: ace, dtype: int64\n",
      "num missing 111\n",
      "value counts before zero and one assignment: 0                                                                     111\n",
      "metoprolol 25mg qd                                                     19\n",
      "metoprolol 50mg qd                                                     14\n",
      "metoprolol 25mg q12h                                                   14\n",
      "metoprolol 100mg qd                                                    14\n",
      "none                                                                   14\n",
      "metoprolol 25mg bid                                                     9\n",
      "metoprolol 50mg q12h                                                    9\n",
      "carvedilol 12.5mg q12h                                                  7\n",
      "metoprolol 50mg bid                                                     5\n",
      "carvedilol 3.125mg q12h                                                 5\n",
      "carvedilol 25mg q12h                                                    5\n",
      "carvedilol 6.25mg bid                                                   5\n",
      "metoprolol 200mg qd                                                     5\n",
      "carvedilol 12.5mg bid                                                   4\n",
      "labetalol                                                               3\n",
      "carvedilol oral tablet 6.25 mg q12h                                     3\n",
      "metoprolol 50mg q8h                                                     3\n",
      "coreg 6.25mg bid                                                        3\n",
      "carvedilol 6.25mg q12h                                                  3\n",
      "carvedilol 3.125mg bid                                                  3\n",
      "toprol 25 mg qd                                                         3\n",
      "metoprolol 100mg q12h                                                   3\n",
      "labetalol 200mg q12h                                                    3\n",
      "metoprolol 100mg two times per day                                      2\n",
      "metoprolol                                                              2\n",
      "labetalol 200mg q8h                                                     2\n",
      "labetalol 300mg q8h                                                     2\n",
      "carvedilol 6.25mg two times per day                                     2\n",
      "labetalol 300mg q12h                                                    2\n",
      "                                                                     ... \n",
      "carvedilol 3.125mg qd, metoprolol tart 50mg q12h                        1\n",
      "metoprolol tartrate 50mg q12h                                           1\n",
      "metoprolol succ 25mg qd                                                 1\n",
      "carvedilol 12.5 mg 1 tablet (12.5 mg) by oral route every 12 hours      1\n",
      "carvedilol oral tablet 25 mg every 12 hours                             1\n",
      "coreg 3.125mg two times a day                                           1\n",
      "metoprolol succ 25 mg daily                                             1\n",
      "metoprolol tartrate 25mg q12h                                           1\n",
      "carvedilol oral tablet 6.25 mg, 0.5 tablets twice daily                 1\n",
      "coreg 6.25 bid                                                          1\n",
      "coreg 3.125 po q12h                                                     1\n",
      "bystolic tab 5mg qd                                                     1\n",
      "toprol xl 25mg daily                                                    1\n",
      "toprol 50mg qd                                                          1\n",
      "metoprolol100mg q12h                                                    1\n",
      "metoprolol 100mg q8h                                                    1\n",
      "metoprolol er 100mg qd                                                  1\n",
      "labetalol 200 mg bid                                                    1\n",
      "carvedilol 3.125 mg q12h                                                1\n",
      "bystolic 10mg qd                                                        1\n",
      "carvedilol 6.25mg bid2                                                  1\n",
      "metoprolol tartrate 25mg *0.5  two times per day                        1\n",
      "coreg 3,125mg bid                                                       1\n",
      "toprol 25mg *0.5tab qd                                                  1\n",
      "metoprolol 25mg  q8h hold if sbp <90 or hr <60                          1\n",
      "metoprolol 25mg *3tab qd                                                1\n",
      "carvedilol oral tablet 25 mg bid                                        1\n",
      "metoprolol 50 twice daily                                               1\n",
      "carvedilol 25mg two times a day                                         1\n",
      "metoprolol succ er 50 mg q12h                                           1\n",
      "Name: bb, Length: 170, dtype: int64\n",
      "zero values: ['none']\n",
      "Values set to 1.0: \n",
      " ['carvedilol 25mg bid', 'coreg 3.125mg bid', 'bisoprolol 5 mg qd', 'labetalol 300mg q8h', 'metoprolol 50 mg qd', 'carvedilol 12.5 mg bid', 'carvedilol 3.125mg bid', 'carvedilol oral tablet 6.25 mg q12h', 'metoprolol 25mg bid', 'coreg cr capsule extended release 24 hour 10 mg (carvedilol phosphate er) qd', 'atenolol 25mg qd', 'carvedilol oral tablet 3.125 mg every 12 hours', 'carvedilol 3.125mg 2x', 'labetalol 200mg *2tab q8h', 'metoprolol  succ er 25mg qd', 'metoprolol 25mg *0.5tab q12h', 'coreg 25mg bid', 'carvedilol oral tablet 25 mg every 12 hours', 'metoprolol 25mg  q12h', 'metoprolol succinate er 100 mg  once daily  hold for hr <60, bp < 100 systolic and notify md/np', 'atenolol oral tablet 25 mg 0.5 tablet qd', 'metoprolol succ er 25mg qd', \"bisoprolol d/c'd 11/20/17\", 'carvedilol 3.125mg', 'coreg 6.25mg q12h', 'metoprolol 25 mg*0.5tab qd', 'metoprolol succ er 100mg qd', 'coreg 3.125mg two times a day', 'labetalol 300 mg bid', 'metoprolol tartrate 50 mg tablet sig: give 1 tablet (50 mg) by oral route every 12 hours', 'toprol 25 mg qd', 'metoprolol 25mg *0.5tab two times a day', 'carvedilol oral tablet 6.25 mg bid', 'metoprolol er 50mg qd\\nmetoprolol tartrate 25mg qd\\nsotalolhcl  80mg qd', 'labetalol', 'metoprolol tartrate 50mg q12h', 'metoprolol succ 25 mg daily', 'carvedilol oral tablet 6.25 mg, 0.5 tablets twice daily', 'bystolic tab 5mg qd', 'metoprolol100mg q12h', 'toprol xl 50mg qd', 'metoprolol succ er 50 mg q12h', 'bystolic 10mg qd', 'metoprolol tartrate 25mg *0.5  two times per day', 'carvedilol oral tablet 25 mg bid', 'metoprolol 50 twice daily', 'carvedilol 3.125mg q12h', 'metoprolol 100mg q12h', 'metoprolol tartrate 25mg bid', 'labetalol 200mg q12h', 'metoprolol 25mg qd', 'metoprolol 50mg qd', 'metoprolol 25mg q12 h', 'labetolol 200mg bid', 'metoprolol succ er 50 mg qd', 'carvedilol oral tab 25 mg bid', 'toprol 100mg qd', 'carvedilol', 'cravedilol 25mg q12h\\nmetoprolol 50mg qd', 'metoprolol 12.5mg qd', 'metoprolol 25mg*2tab q12h', 'coreg 25 bid', 'metoprolol 100mg  qd', 'labetalol hcl oral tablet 200 mg daily', 'metoprolol 50 mg q12h', 'labetalol 200 mg bid', 'cravedilol 25mg q12h', 'metoprolol 25 mg daily', 'carvedilol 6.25 mg 1 tablet (6.25 mg) by oral route 2 times per day', 'coreg 3.125 po q12h', 'coreg 3,125mg bid', 'carvedilol oral tablet 3.125 mg', 'metoprolol tartrate oral tablet 25mg qd', 'metoprolol 12.5 mg q12, coreg 6.25 mg q12,', 'atenolol oral tablet 100 mg daily', 'metoprolol 25mg q12h2', 'labetalol 200mg bid', 'coreg 6.25 bid', 'carvedilol 3.125 mg q12h', 'metoprolol tartrate oral tablet 25 mg', 'metoprolol tartrate oral tablet 25 mg  - bid', 'metoprolol succinate 25 mg qd', 'metoprolol', 'metoprolol 100 mg qd', 'metoprolol tartrate oral tablet 50 mg q12 h', 'metoprolol tartrate 25mg *0.5tabqd', 'metoprolol tartrate oral tablet 50 mg, q12h', 'metoprolol 25 mg q12h', 'carvedilol12.5mg q12h', 'carvedilol 12.5mg bid2', 'metoprolol 50mg q12h', 'labetalol 100mg q12h', 'metoprolol 200mg qd', 'metoprolol tartrate 25 mg two times per day', 'metoprolol 25mg *0.5tab qd', 'toprol xl 12.5mg qd', 'carvedilol 6.25mg bid', 'coreg 12.5mg q12h', 'metoprolol er 50mg qd', 'metoprolol 25mg *0.5tab two times per day', 'labetalol 200mg q8h', 'metoprolol 25mg *0.5tab bid', 'carvedilol 6.25mg two times a day', 'labetalol 300mg q12h', 'metoprolol tartrate oral tablet 25 mg, bid-twice daily', 'labetalol 100mg q8h', 'metoprlol 25mg qd', 'metoprolol 200mg q12h', 'toprol 50 qd', 'metoprolol  50 mg qd', 'coreg 3.125 mg bid', 'carvedilol 12.5mg q12h', 'labetalol 200mg tid', 'metoprolol er 50 mg qd', 'coreg 6.25mg bid', 'carvedilol 12.5mg *3tab q12h', 'toprol xl 25mg daily', 'metoprolol 75mg q12h', 'metoprolol succinate er oral tablet extended release 24 hour 25 mg qd', 'carvedilol 6.25mg bid2', 'carvedilol 12.5mg bid', 'carvedilol 25mg q12h', 'carvedilol 6.25mgbid', 'toprol 50mg qd', 'metoprolol 25mg  q8h hold if sbp <90 or hr <60', 'coreg 25mg q12', 'metoprolol er 100mg qd', 'carvedilol oral tablet 12.5 mg', 'carvedilol 25mg two times a day', 'metoprolol succ 25mg qd', 'labetalol 300 mg q 8 h,', 'metoprolol 50mg bid', 'metoprolol 75mg bid', 'metoprolol 25mg q12h', 'metoprolol 25mg *3tab q12h', 'carvedilol 6.25mg two times per day', 'coreg 25mg q12h', 'metoprolol 50mg q8h', 'metoprolol tartrate oral tablet 100 mg, q12h', 'carvedilol oral tablet 6.25 mg', 'coreg 6.25mg qd', 'metoprolol 100mg two times per day', 'metoprolol 25mg', 'metoprolol 100mg qd', 'metoprolol succinate er oral tablet extended release 24 hour 50 mg qd', 'carvedilol 12.5 mg', 'atenolol 100mg qd', 'metoprolol 50mg', 'metoprolol tartrate oral tablet 100 mg bid', 'metoprolol succinate er oral tablet extended release 24 hour 25 mg', 'metoprolol 100mg q8h', 'toprol 25mg *0.5tab qd', 'carvedilol 3.125mg qd, metoprolol tart 50mg q12h', 'metoprolol tartrate oral tablet 25 mg, q12h-every 12 hours', 'metoprolol 25mg p.o. bid', 'carvedilol 12.5 mg 1 tablet (12.5 mg) by oral route every 12 hours', 'metoprolol tartrate 25mg q12h', 'toprol xl oral tablet extended release 24 hour 25 mg, qd-every day', 'labetalol 200mg*2tab tid', 'metoprolol 50 mg  q12h', 'labetalol hcl oral tablet 100 mg every 8 hours', 'carvedilol 6.25mg q12h', 'labetalol 300mg twice daily', 'metoprolol 25mg *3tab qd', 'coreg 6.25mg q12,', 'metoprolol 50 mg bid', 'metoprolol tartrate oral tablet 25 mg bid']\n",
      "1.0    307\n",
      "0.0    126\n",
      "Name: bb, dtype: int64\n",
      "num missing 146\n",
      "value counts before zero and one assignment: 0                                                                    146\n",
      "lasix 40mg qd                                                         22\n",
      "furosemide 20mg qd                                                    17\n",
      "lasix 20mg qd                                                         17\n",
      "furosemide 40mg qd                                                    13\n",
      "none                                                                  12\n",
      "furosemide 40mg bid                                                    9\n",
      "lasix 40mg bid                                                         6\n",
      "furosemide 20mg bid                                                    5\n",
      "furosemide oral tablet 40 mg qd                                        5\n",
      "furosemide oral tablet 20 mg                                           4\n",
      "torsemide 20mg qd                                                      4\n",
      "lasix                                                                  3\n",
      "lasix 40 mg qd                                                         3\n",
      "furosemide 40mg q12h                                                   3\n",
      "bumetanide 2mg qd                                                      3\n",
      "furosemide 80mg qd                                                     3\n",
      "torsemide 100 mg  two times per day                                    2\n",
      "lasix 80mg qd                                                          2\n",
      "furosemide 80mg bid                                                    2\n",
      "furosemide                                                             2\n",
      "lasix 40mg                                                             2\n",
      "furosemide 20mg *3tab qd                                               2\n",
      "lasix 20mg daily                                                       2\n",
      "lasix oral tablet 40 mg                                                2\n",
      "furosemide oral tablet 20 mg, qd-every day                             2\n",
      "lasix 20 mg qd                                                         2\n",
      "torsemide 20mg *2tab qd                                                2\n",
      "bumetanide 2mg bid                                                     2\n",
      "bumetanide 1mg qd                                                      1\n",
      "                                                                    ... \n",
      "lasix 40mg qd\\naldactone 50mg qd                                       1\n",
      "spironolactone 25mg qd furosemide 20mg qd                              1\n",
      "lasix 40mg qd \\nspironolactone 25mg qd                                 1\n",
      "furosemide 80 mg every 12 hours                                        1\n",
      "bumetanide 2 mg 1 tablet (2 mg) by oral route 2 times per day          1\n",
      "spironolactone 25mg qd\\nclopidogrel 75mg qd                            1\n",
      "spironolactone 25mg qd; bumetadine 2mg bid; metolazone 2.5mg tid2      1\n",
      "furosemide 80mg bid\\nspironolactone 50mg qd                            1\n",
      "furosemide 20mg two times a day                                        1\n",
      "torsemide 20mg *2tab qd\\nmetolazone 5mg q48h                           1\n",
      "furosemide 20mg *3tabqd\\nspirinolactone 25mg *0.5tab qd                1\n",
      "furosemide tab 40mg bid                                                1\n",
      "lasix 80 mg bid\\naldactone 25mg qd                                     1\n",
      "lasix 20mg *3tab bid                                                   1\n",
      "furosemide 20mg*3tab  3x per week on non-dialysis day mwf              1\n",
      "spironolactone 25mg qd\\ntorsemide 100mg qd                             1\n",
      "lasix 40mg q12h(until 05242018)\\nlasin 20mg qd(on hold)                1\n",
      "lasix 60 mg bid                                                        1\n",
      "furosemide 40mg qd\\nspironolactone 25mg qd                             1\n",
      "lasix 40mg qd\\nspironolactone 25mg *0.5tab qd                          1\n",
      "lasix 80mg bid                                                         1\n",
      "metolazone 2.5mg bid\\nspironolactone 25mg qd                           1\n",
      "furosemide 20mg*3tab  qd\\nbumetanide 2mg qd                            1\n",
      "lasix oral tablet 40 mg q12 h                                          1\n",
      "furosemide 40mg qd\\nspirinolactone 25mg*0.5tab qd                      1\n",
      "sildenafil 20 mg q 8h,                                                 1\n",
      "metolazone 2.5mg qd                                                    1\n",
      "lasix 20mg hs                                                          1\n",
      "furosemide 20mg*3tab qd                                                1\n",
      "furosemide 40mg qd\\nfurosemide 40mg qd (untill 05142018)               1\n",
      "Name: diuretics, Length: 163, dtype: int64\n",
      "zero values: ['lasix 40mg qd; eplerenone 25mg qd\\nspironolactone 25mg qd', 'none']\n",
      "Values set to 1.0: \n",
      " ['lasix 20mg  bid', 'lasix 40mg *1.5tab qd\\nspironolactone 25mg*0.5tab qd', 'lasix 20mg qd\\nspironolactone 25mg qd', 'furosemide 40mg tid', 'furosemide oral tablet 20 mg qd', 'metolazone 2.5mg daily', 'lasix', 'furosemide oral tablet 20 mg, qd', 'furosemide 20mg and spironolactone 25mg daily', 'lasix 60 mg bid', 'lasix 40mg qd\\naldactone 25mg*0.5tab qd', 'metolazone 2.5mg qd\\nspironolactone 50mg qd\\ntorsemide 20mg *2tab bid', 'spironolactone  25mg qd', 'lasix 40mg daily (spironolactone ended 08/13/17)', 'lasix 40mg qd2', 'lasix 40mg qd\\nquinapril 5mg qd', 'furosemide 40 mg tablet sig: give 1 tablet (40 mg) by oral route 2 times per day', 'torsemide 100mg bid', 'spironolactone 100mg bid \\nlasix 40mg bid', 'furosemide oral tablet 20 mg, qd-daily', 'furosemide 40mg qd\\nlasix 40mg qd for 5 days(starting 05202018)', 'lasix 40mg *2tab qd', 'lasix 20 qd', 'lasix 80mg qd\\naldactone 50mg qd', 'spironolactone 25mg qd\\nfurosemide 20mg qd', 'torsemide 20mg*2tab qd', 'furosemide 80mg bid\\nspironolactone 50mg qd', 'bumetanide 1mg qd', 'furosemide oral tablet 20 mg, qd-every day', 'furosemide 20mg*3tab  qd\\nbumetanide 2mg qd', 'furosemide 40 mg 2 times per day', 'furosemide solution 40 mg/4ml - 20mg qd', 'furosemide oral tablet 80 mg qd\\n11/18/17 zaroxolyn 5mg 1/2hr before lasix x 5days', 'lasix 40 mg qd', 'bumetanide 1 mg, spironolactone 25 mg', 'furosemide 20mg *3tabqd\\nspirinolactone 25mg *0.5tab qd', 'spironolactone 25mg qd; bumetadine 2mg bid; metolazone 2.5mg tid2', 'lasix 80 mg qd, metolazone 2.5 mg qd', 'bumetanide tab 2mg bid', 'lasix 20mg qd\\nspironolactone 50mg qd', 'furosemide 40mg q12h', 'lasix 40mg qd \\nspironolactone 25mg qd', 'lasix 20 mg every 12 hours', 'lasix 20mg qd (06092018-06112018)', 'furosemide 80 mg every 12 hours', 'furosemide 40mg bid', 'lasix 80mg qd', 'furosemide', 'bumetanide 2mg bid', 'bumetanide 1mg  two times per day\\nmetolazone 5mg qd', 'metolazone 2.5mg qd', 'furosemide 40mg *1.5tab q12h', 'furosemide oral tablet 40 mg', 'furosemide oral tablet 20 mg, mg, qd-every day', 'metolazone 2.5mg bid\\nspironolactone 25mg qd', 'furosemide 20mg*3tab  3x per week on non-dialysis day mwf', 'lasix 80mg bid', 'furosemide oral tablet 20 mg qd\\nspironolactone 25mg qd', 'furosemide 40mg qd\\nspironolactone 25mg qd', 'lasix 40mg q12h(until 05242018)\\nlasin 20mg qd(on hold)', 'furosemide tab 20mg qd', 'bumex 1mg', 'furosemide oral tablet 40 mg qd\\nspironolactone 25 mg qd', 'lasix 40mg bid', 'lasix 20mg daily', 'furosemide 20mg qd', 'lasix 40mg bid2', 'furosemide oral tablet 20 mg', 'lasix oral tablet 60 mg qd\\nspirinolactone 12.5mg qd\\n10/11/17 diuril 250mg orally added x 4 days', 'torsemide 60mg qd\\nspironolactone 25mg qd', 'bumetanide oral tab 2mg qd', 'furosemide 80mg bid', 'spironolactone 25mg qd', 'furosemide 80 mg bid', 'torsemide 100 mg  two times per day', 'furosemide 20mg two times a day', 'lasix oral tablet 40 mg, qd', 'metolazone 5mg  tiw\\naldactone 25mg  tiw\\nlasix 40mg  bid', 'lasix 60mg bid', 'furosemide 40 mg', 'lasix 40mg q48h', 'bumex 1 mg qd', 'furosemide 40mg 2x', 'lasix 40mg p.o. daily', 'furosemide 80mg qd', 'lasix 80mg bid, aldactone 25mg qd, acetazolamide 250mg bid.', 'furosemide oral tablet 40 mg bid', 'furosemide 80mg qd\\nfurosemide 20mg hs', 'spironolactone 25mg*2tab qd\\ntorsemide 100mg 0.5tab bid', 'lasix 40mg*1.5tab bid', 'furosemide 20mg *3tab qd', 'lasix 20mg qd2', 'lasix 20mg qd', 'furosemide 80mg 1x', 'bumetadine 1mg qd', 'furosemide 20mg qd hold if bp is less than 90/60', 'torsemide 20mg *4tab bid', 'furosemide 40mg qd', 'furosemide 20mg*3tab  qd', 'bumex 2mg bid', 'lasix oral tab 20mg bid', 'torsemide 20mg qd', 'lasix oral tablet 20 mg qd', 'bumetanide 0.5mg q2d', 'lasix 40mg', 'lasix 40mgbid and zaroxolyn 2.5mg od', 'spironolactone 50mg qd', 'furosemide oral tablet 60 mg qd', 'torsemide 20mg *2tab qd\\nmetolazone 5mg q48h', 'furosemide 20 mg qd', 'furosemide 40mg qd\\nspirinolactone 25mg*0.5tab qd', 'spironolactone 25mg qd\\nclopidogrel 75mg qd', 'bumetanide 2 mg 1 tablet (2 mg) by oral route 2 times per day', 'spironolactone 25mg qd furosemide 20mg qd', 'lasix 40mg qd\\naldactone 50mg qd', 'lasix 20 mg qd', 'spironolactone 25mg *0.5tab qd\\nfurosemide 80mg qd', 'lasix 40 mg qd spironolactone 25mg qd', 'lasix oral tablet 40 mg', 'furosemide tab 40mg bid', 'lasix 80 mg bid\\naldactone 25mg qd', 'lasix 20mg *3tab bid', 'bumetadine 1mg +0.5mg qd', 'lasix 20 mg qd2', 'furosemide oral tablet 40 mg qd', 'lasix 20mg hs', 'furosemide 20mg bid', 'sildenafil 20 mg q 8h,', 'lasix 20mg twice daily', 'bumetanide 2mg qd', 'lasix oral tablet 40 mg q12 h', 'lasix 40mg qd\\nspironolactone 25mg *0.5tab qd', 'hctz 50mg qd', 'spironolactone 25mg qd\\ntorsemide 100mg qd', 'bumetanide 2mg q12h', 'spironolactone 25mg qd\\nfurosemide 80mg qd  2 times per week monday and thrusday', 'reduce bumex to 2mg daily and hold spironolactone, touch base on 8/4 with labs', 'furosemide 40mg qd\\nspironolactone 25mg bid', 'lasix 40 mg q 12', 'lasix oral tablet 40 mg qd', 'furosemide 40mg qd\\nfurosemide 40mg qd (untill 05142018)', 'spirolactone 25mg qd', 'spironolactone 25mg*0.5tab qd\\nfurosemide 40mg qd', 'bumex 1mg bid', 'lasix 40mg qd', 'furosemide 20mg*3tab qd', 'quinapril 20mg qd', 'lasix 20mg qd\\naldactone 25mg qd', 'spironolactone 25mg bid\\nlasix 20mg qd', 'furosemide 80mg qd every tue, thu, sat', 'lasix 20mg qg', 'aldactone 25mg *0.5tab qd', 'furosemide 20mg daily, special instructions:hold for sbp <100*** ▼', 'furosemide oral tablet 20 mg daily', 'torsemide 20mg *2tab qd', 'spironolactone 25mg*0.5tab qd\\nfurosemide 20mg qd', 'furosemide 40mg qd\\nspironolactine 25mg *0.5tab qd', 'furosemide 20mg *2tab qd', 'lasix 40mg daily', 'lasix 40mg qd\\nspironolactone 25mg every other day']\n",
      "1.0    274\n",
      "0.0    159\n",
      "Name: diuretics, dtype: int64\n",
      "num missing 100\n",
      "value counts before zero and one assignment: 0                                                                                                             100\n",
      "aspirin 81mg qd                                                                                                69\n",
      "aspirin 81 mg qd                                                                                               15\n",
      "none                                                                                                           13\n",
      "eliquis 2.5mg q12h                                                                                              9\n",
      "clopidogrel 75mg qd\\naspirin 81mg qd                                                                            7\n",
      "aspirin 81mg qd\\nclopidogrel 75mg qd                                                                            6\n",
      "aspirin 81mg qd\\nplavix 75mg qd                                                                                 5\n",
      "eliquis 5mg q12h                                                                                                5\n",
      "clopidogrel 75mg qd                                                                                             5\n",
      "aspirin 81 mg daily                                                                                             4\n",
      "xarelto 20mg qd                                                                                                 4\n",
      "plavix 75mg qd                                                                                                  3\n",
      "plavix 75mg qd\\naspirin 81mg qd                                                                                 3\n",
      "xarelto 15mg qd                                                                                                 3\n",
      "asa 81mg qd                                                                                                     3\n",
      "aspirin 325mg qd                                                                                                3\n",
      "aspirin 81 mg                                                                                                   3\n",
      "aspirin low strength oral tablet chewable 81 mg, qd-every day                                                   2\n",
      "brilinta 90mg q12h\\naspirin 81mg qd                                                                             2\n",
      "eliquis 5mg                                                                                                     2\n",
      "coumadin 7.5mg qd                                                                                               2\n",
      "eliquis 2.5mg twice daily                                                                                       2\n",
      "asa 81 mg qd                                                                                                    2\n",
      "aspirin 81mg qd\\nheparin sodium (porcine) solution 5000 unit/ml q8h                                             2\n",
      "aspirin 81mg qd\\nbrilinta 90mg q12h                                                                             2\n",
      "heparin 5000 s/ml - 1ml q12h; aspirin 81mg qd                                                                   2\n",
      "aspirin 81mg qd\\neliquis 2.5mg q12h                                                                             2\n",
      "aspirin oral tablet chewable 81 mg, qd-every day                                                                2\n",
      "apixaban 5mg bid                                                                                                2\n",
      "                                                                                                             ... \n",
      "aspirin ec 81 mg qd\\neliquis 2.5 mg q12h                                                                        1\n",
      "eliquis 5mg q12h\\naspirin 81mg qd                                                                               1\n",
      "aspirin ec low dose oral tablet delayed release 81 mg, qd                                                       1\n",
      "aspirin oral tablet chewable 81 mg - qd\\neliquis 5mg qd                                                         1\n",
      "eliquis 5mg bid\\nclopidogrel 75mg qd                                                                            1\n",
      "aspirin 81 mg qd\\ncoumadine oral tab 4mg +2.5mg hs\\nheparin sod  intravenous 100 unit/ml qs                     1\n",
      "asa 81mgod and plavix 75mg od                                                                                   1\n",
      "aspirin 81mg qd\\nxarelto 20mg hs                                                                                1\n",
      "coumadin 4mg hs                                                                                                 1\n",
      "eliquis 2.5 mg q12, aspirin 81 mg qd                                                                            1\n",
      "aspirin ec low dose  81mg qd\\nxarelto 15mg qd                                                                   1\n",
      "coumadin 8 mg hs, aspirin 81 mg qd                                                                              1\n",
      "aspirin ec low dose oral tablet delayed release 81 mg                                                           1\n",
      "aspirin oral tablet chewable 81mg qd                                                                            1\n",
      "warfarin 2.5 mg + 4mg hs-bedtime                                                                                1\n",
      "brilinta 90mg twice daily\\naspirin 81mg qd                                                                      1\n",
      "heparin 5000unit/ml q8h                                                                                         1\n",
      "coumandin 1mg qd\\naspirin 325mg qd                                                                              1\n",
      "coumadin 6mg                                                                                                    1\n",
      "clopidogrel 75mg qd\\ncoumadin oral tab 2.5 mg+1mg  hs                                                           1\n",
      "coumadin 2mg qd\\naspirin 81mg qd                                                                                1\n",
      "aspirin 81mg qd\\nheparin sodium injection solution 5000unit/ml hs                                               1\n",
      "aspirin 81 mg qd  \\ncoumadine  3mg hs                                                                           1\n",
      "aspirin 325mg                                                                                                   1\n",
      "asa 81mg daily                                                                                                  1\n",
      "aspirin 81mg qd\\neliquis 2.5mg bid                                                                              1\n",
      "eliquis tab 5mg bid                                                                                             1\n",
      "aspirin ec tab 81mg qd\\nwarfarin sodium oral tab 2mg qiw\\nwarfarin sodium oral tab 1mg tiw\\nplavix 75mg qd      1\n",
      "xarelto 20mg hs                                                                                                 1\n",
      "none\\nother cardiac meds: digoxin 0.25mg daily; amiodarone 100mg qd; isosorbide 10mg q8h;                       1\n",
      "Name: anticoagulant, Length: 173, dtype: int64\n",
      "zero values: ['none', 'none, hx. paf/a-fib not on ac, w/he of frequent nose bleed, required prbc x 2 within 2 weeks, upper gi bleed, allergic to asa', 'none\\nother cardiac meds: digoxin 0.25mg daily; amiodarone 100mg qd; isosorbide 10mg q8h;', 'none, hx. paf/a-fib not on ac, w/he of frequent nose bleed, required prbc x 2 within 2 weeks, upper gi bleed, allergic to asa']\n",
      "Values set to 1.0: \n",
      " ['plavix 75mg; aspirin 81mg qd', 'aspirin oral tablet chewable 81 mg, qd-every day', 'heparin 5000ml/unit q12h', 'aspirin low dose oral tablet 81 mg qd\\nheparin sodium (porcine) solution 5000 unit/ml q12h', 'asa 81 mg qd, eliqius 2.5 mg bid', 'plavix 75mg qd; aspirin 81mg qd', 'asa 81mg daily', 'aspirin 81mg', 'aspirin 81mg qd\\nclopidogrel tab 75mg qd', 'aspirin 81mg qd and clopidogrel 75mg qd', 'eliquis 2.5mg q12h', 'eliquis 2.5mg bid\\naspirin 81mg qd', 'aspirin 81mg q12h', 'aspirin 81mg qd\\npradaxa 75mg q12h', 'aspirin 81mg, plavix 75mg', 'aspirin 81 mg daily\\nwarfarin 6 mg', 'coumadin 7.5mg qd', 'aspirin ec low dose oral tablet delayed release 81 mg, qd-every day\\nbrilinta tab 90mg q12h', 'eliquis 5mg q12h', 'eliquis 5mg', 'aspirin 81mg qd\\nheparin sodium (porcine) solution 5000 unit/ml q8h', 'warfarin 4mg qd', 'coumadin 2.5+5mg qd', 'aspirin 81 mg and plavix 75 mg daily', 'furosemide oral tablet 20 mg, qd-every day', 'plavix 75mg daily', 'pradaxa 75mg qd', 'coumadin 3mg qd', 'brilinta 90mg q12h', 'xarelto 20mg qd', 'aspirin 81 mg qd, xarelto 20 mg hs', 'aspirin ec low dose 81mg- qd\\neliquis tab 5mg bid', 'eliquis 5mg q12h2', 'coumandin 1mg qd\\naspirin 325mg qd', 'xarelto 15mg qd', 'eliquis tab 5mg q12h', 'aspirin ec low dose oral tablet delayed release 81 mg, qd', 'aspirin 81mg qd\\nwarfarin 4mg qd', 'eliquis 5mg q12h\\naspirin 81mg qd', 'coumadin 10mg qd', 'aspirin oral tablet chewable 81 mg - qd\\neliquis 5mg qd', 'coumadin 8 mg hs, aspirin 81 mg qd', 'aspirin 325mg qd', 'aspirin 81mg qd\\nclopidogrel 75mg qd', 'aspirin ec tab 81mg qd\\nwarfarin sodium oral tab 2mg qiw\\nwarfarin sodium oral tab 1mg tiw\\nplavix 75mg qd', 'eliquis tab 5mg bid', 'clopidogrel 75mg qd2; aspirin 81mg', 'aspirin 81mg qd\\neliquis 2.5mg bid', 'aspirin low dose oral tablet 81 mg, qd-every day', 'clopidogrel 75mg qd\\naspirin low dose 81 mg qd', 'coumadin 2mg qd\\naspirin 81mg qd', 'clopidogrel 75mg qd\\ncoumadin oral tab 2.5 mg+1mg  hs', 'coumadin 6mg', 'heparin 5000unit/ml q8h', 'aspir 81 mg daily', 'coumadin 5mg hs; aspirin 81mg qd', 'eliquis 2.5 mg q12, aspirin 81 mg qd', 'eliquis 2.5 mg bid', 'warfarin sodium 3 mg hs\\naspirin ec 81 mg qd', 'plavix 75 mg qd', 'aspirin 81mg qd2', 'coumadin oral tab 2.5 mg hs', 'aspirin low dose oral tablet 81 mg', 'aspirin 325mg ec qd', 'eliquis 2.5 mg q12, asa 81mg qd', 'clopidogrel 75mg qd\\naspirin 81mg qd', 'plavix 75mg qd;  warfarin 3mg hs', 'aspir 81 mg hs', 'aspirin 81 mg tablet,delayed release sig: give 1 tablet (81 mg) by oral route once daily', 'asa 81 mg qd', 'aspirin low strength oral tablet chewable 81 mg, qd-daily', 'coumadin 2.5mg+1mg qd', 'heparin 5000 s/ml - 1ml q12h; aspirin 81mg qd', 'aspirin 81mg qd\\neliquis 2.5mg q12h', 'aspirin 81mg  qd\\nxarelto 10mg qd', 'aspirin 81 mg 7/24/2017', 'aspirin  ec low dose 81mg qd\\nwarfarin 6mg hs- bedtime', 'clopidogrel 75mg qd\\nequis 5mg q12h', 'xarelto 20mg hs', 'aspirin 81 mg 1x', 'aspirin 81 mg qd\\ncoumadine oral tab 4mg +2.5mg hs\\nheparin sod  intravenous 100 unit/ml qs', 'aspirin 81 mg qd  \\ncoumadine  3mg hs', 'brilinta 90mg q12h\\naspirin 81mg qd', 'aspirin 81mg qd\\nheparin sodium (porcine) injection solution 5000 unit/ml- q8h', 'aspirin 81mg qd\\ncoumadin  3mg hs- bedtime', 'eliquis 5 mg every 12 hours', 'eliquis 2.5mg bid', 'aspirin 81mg qd\\nbrilinta 90mg q12h', 'aspirin 81mgqd', 'aspirin low dose oral tablet 81 mg, qd\\neliquis 5mg bid', 'coumadin 1mg qd', 'aspirin 81mg qd  \\nclopidogrel 75mg qd', 'warfarin 2+2.5mg qd', 'heparin 5000unit/ml q12h', 'coumadin 5mg qd', 'coumadin 4 mg hs  every sun, tue, thu, sat\\ncoumadin 2mg hs every mon, wed, fri', 'plavix oral tab 75 mg qd\\nxarelto 15mg qd', 'heparin sodium (porcine) solution 5000 unit/ml q12h', 'plavix 75mg qd\\nxarelto 20mg bid', 'aspirin 81mg qd\\neliquis 5mg q12h', 'aspirin 81mg qd\\nheparin sodium injection solution 5000unit/ml hs', 'aspirin ec low dose oral tablet delayed release 81 mg, qd-daily', 'aspirin ec low dose oral tablet delayed release 81 mg qd\\nplavix 75mg qd', 'clopidogrel 75mg daily and aspirin 81 mg 1 tablet (81 mg) by oral route once daily', 'aspirin 81mg qd\\ncoumadin 1mg+6mg qd', 'eliquis 5mg q12h; furosemide 20mg qd', 'aspirin 81 mg daily', 'clopidogrel 75mg qd', 'aspirin 81mg qd\\nplavix 75mg qd\\nxarelto 20mg qd', 'xarelto 20mg daily', 'asa 81mg qd', 'coumadin oral tablet 5 mg- hs', 'plavix oral tablet 75mg qd', 'asa', 'warfarin 7.5mg qd\\naspirin 81mg qd', 'aspirin 325mg qd\\nclopidogrel 75mg qd\\napixaban 5mg q12h', 'aspirin ec low dose oral tablet', 'xarelto 20 mg once daily', 'aspirin 81 mg 1 tablet (81 mg) by oral route once daily; eliquis 5 mg 1 tablet (5 mg) by oral route 2 times per day', 'eliquis 2.5mg twice daily', 'aspirin 81mg qd\\ncoumadin 5mg hs', 'aspirin 81mg qd\\nlovenox 80mg q12h', 'aspirin ec low dose  81mg qd\\nxarelto 15mg qd', 'aspir-low oral tablet 81 mg daily', 'coumadin 4mg hs', 'aspirin 81mg qd\\nxarelto 20mg hs', 'pradaxa 150mg q12h', 'eliquis 5mg bid\\nclopidogrel 75mg qd', 'aspirin 81mg p.o. daily', 'eliquis 2.5mg two times a day', 'aspirin oral tablet chewable 81mg qd', 'aspirin 81 mg, qd\\nplavix 75mg qd', 'aspirin 81 mg', 'aspirin 325mg', 'plavix 75mg qd', 'apixaban 5mg bid', 'warfarin 2.5 mg + 4mg hs-bedtime', 'brilinta 90mg twice daily\\naspirin 81mg qd', 'coumadin 2.5+3mg qd\\naspirin 81mg qd', 'eliquis 5mg two times a day', 'clopidogrel 75 mg daily', 'bumetanide 2mg qd', 'xarelto 20mg qd\\naspirinin 81mg qd', 'aspirin low strength oral tablet chewable 81 mg - qd-every day', 'eliquis 5mg q12h; aspirin 81mg qd', 'asa 81mgod and plavix 75mg od', 'love of 40mg daily', 'eliquis 2.5 mg- six times a week', 'warfarin 2mg qd', 'xarelto 20 mg hs', 'warfarin sodium 2mg hs-bedtime', 'warfarin 1mg+4mg  hs', 'plavix 75mg qd\\naspirin 81mg qd', 'eliquis 2.5mg two times per day \\nclopidogrel 75mg qd', 'aspirin low strength oral tablet chewable 81 mg, qd-every day', 'clopidogrel 75mg qd\\nwarfarin 10mg hs\\naspirin 81mg qd', 'coumadin 5mg qd\\naspirin 81mg qd', 'aspirin 81 mg qd,', 'eliquis 2.5mg q12h\\naspirin 81mg qd', 'eliquis 5mg bid\\naspirin 81mg qd', 'coumadin 4mg qd\\naspirin 81mg qd', 'aspirin 81mg qd\\nplavix 75mg qd', 'aspirin 81mg qd, ticagrelor 90mg q12h', 'clopidogrel tab 75mg q48h\\naspirin 81mg q2d\\n\\nother cardiac meds: isosorbide mononitrate er 30mg qd.', 'aspirin 81 mg qd', 'aspirin ec low dose oral tablet delayed release 81 mg', 'aspirin 81mg qd', 'asa 81mg qd; xarelto 20mg qd', 'aspirin ec 81 mg qd\\neliquis 2.5 mg q12h']\n",
      "1.0    318\n",
      "0.0    115\n",
      "Name: anticoagulant, dtype: int64\n",
      "num missing 376\n",
      "value counts before zero and one assignment: 0                                                                          376\n",
      "none                                                                        20\n",
      "digoxin 125mcg qd                                                           10\n",
      "digoxin 0.125mg qd                                                           7\n",
      "digox 0.125mg qd                                                             3\n",
      "digoxin 125mcg q48h                                                          2\n",
      "digoxin 0.125mg qd orally                                                    1\n",
      "digoxin 125 mcg once daily three times a week                                1\n",
      "digoxin 0.125mg q48h                                                         1\n",
      "digoxin 0.125 mg biw                                                         1\n",
      "digox 0.125mg tiw                                                            1\n",
      "digoxin 0.25mg qd                                                            1\n",
      "dobutamine 8mcg/kg/min                                                       1\n",
      "digoxin 125mcg orally qd                                                     1\n",
      "digox 125mcg qd                                                              1\n",
      "digoxin 125mcgqd                                                             1\n",
      "digox 125mcg every other day                                                 1\n",
      "aspirin 81mg qd                                                              1\n",
      "digoxin 125mcg qd every other day                                            1\n",
      "digoin 125mcg qd                                                             1\n",
      "digoxin 125mcg qd hold medication and call md if heart rate is below 60      1\n",
      "Name: ionotropes, dtype: int64\n",
      "zero values: ['none']\n",
      "Values set to 1.0: \n",
      " ['digox 0.125mg tiw', 'digox 125mcg qd', 'dobutamine 8mcg/kg/min', 'digoxin 125mcg qd hold medication and call md if heart rate is below 60', 'digoxin 125 mcg once daily three times a week', 'digoxin 125mcg qd every other day', 'digoxin 0.125 mg biw', 'digoxin 0.125mg qd', 'digoxin 125mcg qd', 'digoxin 0.25mg qd', 'digoxin 0.125mg qd orally', 'digoin 125mcg qd', 'digoxin 125mcg orally qd', 'digoxin 0.125mg q48h', 'digox 0.125mg qd', 'digoxin 125mcgqd', 'digoxin 125mcg q48h', 'digox 125mcg every other day', 'aspirin 81mg qd']\n",
      "0.0    396\n",
      "1.0     37\n",
      "Name: ionotropes, dtype: int64\n",
      "num missing 286\n",
      "value counts before zero and one assignment: 0                                      286\n",
      "none                                    55\n",
      "0                                       30\n",
      "no                                      17\n",
      "aicd                                    14\n",
      "pacemaker                               12\n",
      "yes                                      3\n",
      "no aicd or pacemaker                     2\n",
      "lifevest                                 2\n",
      "aicd 2014                                1\n",
      "no on life vest                          1\n",
      "ppm mobitz i 2013                        1\n",
      "zoll life vest                           1\n",
      "aicd(turned off), has zoll lifevest      1\n",
      "zoll lifevest                            1\n",
      "life vest                                1\n",
      "s/p ppm/aicd                             1\n",
      "aicd-dual chamber                        1\n",
      "pace maker only                          1\n",
      "left chest wall                          1\n",
      "no (ppm only)                            1\n",
      "Name: aicd, dtype: int64\n",
      "zero values: ['none', 'no', 'no on life vest', 'no (ppm only)', 'no aicd or pacemaker']\n",
      "Values set to 1.0: \n",
      " ['ppm mobitz i 2013', 'aicd 2014', 'lifevest', 's/p ppm/aicd', 'aicd-dual chamber', 'pace maker only', 'aicd', 'pacemaker', 'yes', 'aicd(turned off), has zoll lifevest', 'zoll life vest', 'left chest wall', 'life vest', 'zoll lifevest']\n",
      "0.0    392\n",
      "1.0     41\n",
      "Name: aicd, dtype: int64\n",
      "\n",
      " \n",
      " Dropped 0 rows from the dataset\n",
      "New size of dataset: (433, 56)\n"
     ]
    }
   ],
   "source": [
    "# %load Pipeline_clean.py\n",
    "%load_ext autoreload\n",
    "%autoreload 2\n",
    "import pandas as pd\n",
    "import numpy as np\n",
    "from data_merge import *\n",
    "from Clean_Fun import *\n",
    "\n",
    "# NOTE have to use remove_invalid_rows() inside ALex's function,\n",
    "# before we remove patient name\n",
    "# %% Load dataset\n",
    "\n",
    "live_path='Data/Cardiac Program_M.xlsx'\n",
    "archive_path='Data/Cardiac Program_Archive.xlsx'\n",
    "live_sheet_pkl='pickle_jar/live_sheets.pkl'\n",
    "archive_sheet_pkl='pickle_jar/archive_sheets.pkl'\n",
    "datecol_pkl='pickle_jar/datecols.pkl'\n",
    "df = sheet_merge(live_path, archive_path,\n",
    "    live_sheet_pkl, archive_sheet_pkl, datecol_pkl)\n",
    "# %% test patients, determing Response Value\n",
    "\n",
    "# NOTE have to remove invalid rows\n",
    "df['outcome']=df.apply(lambda row: determine_outcome(row['status'],row['discharge'],row['discharge_date']),axis=1)\n",
    "train_df,test_df=train_test_split_sg(df)\n",
    "df=train_df.copy() # for now\n",
    "del test_df\n",
    "\n",
    "# %% Clean effusion rate\n",
    "\n",
    "df['ef']=df['ef'].apply(lambda x: clean_EF_rows(x))\n",
    "\n",
    "# Clean Blood Pressure rows\n",
    "df['diastolic']=df.apply(lambda row: clean_diastolic_columns(\n",
    "    row['diastolic'],row['resting_bp'],col_type='di'),axis=1)\n",
    "df['systolic']=df.apply(lambda row: clean_diastolic_columns(\n",
    "    row['systolic'],row['resting_bp'],col_type='sys'),axis=1)\n",
    "\n",
    "# Dummify the diagnoses\n",
    "uniq_diag=find_unique_diag(df.diagnosis_1)\n",
    "dummy_df_diag=dummify_diagnoses(df,uniq_diag,diagnosis_col='diagnosis_1')\n",
    "df.drop('diagnosis_1',axis=1,inplace=True)\n",
    "dummy_df_diag.columns=pd.Series(uniq_diag).apply(lambda x: remove_paren(x)).append(pd.Series('enrollId'))\n",
    "df=df.merge(dummy_df_diag,on='enrollId',how=\"inner\")\n",
    "\n",
    "# clean HR\n",
    "df['resting_hr']=df.resting_hr.apply(lambda x: hand_dates(x))\n",
    "\n",
    "# Clean Meds and aicd\n",
    "# acute or chronic\n",
    "med_aicd_clean(df,'ace', 0)\n",
    "med_aicd_clean(df,'bb', 0)\n",
    "med_aicd_clean(df,'diuretics', 0)\n",
    "med_aicd_clean(df,'anticoagulant', 0)\n",
    "med_aicd_clean(df,'ionotropes', 0)\n",
    "med_aicd_clean(df,'aicd', 0)\n",
    "\n",
    "# weight_dur_age_clean(df,dur_na=9999,age_na=9999,weight_perc_cutoff=0.2)\n",
    "df['duration']=df.apply(lambda row: find_duration(row['discharge'],\n",
    "    row['enrollment_date'],row['discharge_date']),axis=1)\n",
    "df['age'] = df['date_of_birth'].apply(find_age)\n",
    "df['weight_change_since_admit'] = df.apply(lambda row: clean_weight_change(\n",
    "    row['weight'],row['weight_change_since_admit']),axis=1)\n",
    "\n",
    "remove_invalid_rows(df)\n",
    "\n",
    "df.loc[df['duration']==9999, 'duration'] = None\n",
    "df.loc[df['age']==9999, 'age'] = None\n",
    "\n",
    "# %%\n",
    "pd.set_option('display.max_columns', 60)\n",
    "df.drop_duplicates(inplace=True)\n",
    "df.reset_index(inplace=True, drop=True)\n",
    "df.columns = [x.replace(\" \", \"_\") for x in df.columns]\n",
    "df = drop_date_cols(df)\n",
    "df\n",
    "\n",
    "df.to_csv('Data/clean_test.csv')\n"
   ]
  },
  {
   "cell_type": "code",
   "execution_count": 7,
   "metadata": {
    "scrolled": true
   },
   "outputs": [
    {
     "data": {
      "text/html": [
       "<div>\n",
       "<style scoped>\n",
       "    .dataframe tbody tr th:only-of-type {\n",
       "        vertical-align: middle;\n",
       "    }\n",
       "\n",
       "    .dataframe tbody tr th {\n",
       "        vertical-align: top;\n",
       "    }\n",
       "\n",
       "    .dataframe thead th {\n",
       "        text-align: right;\n",
       "    }\n",
       "</style>\n",
       "<table border=\"1\" class=\"dataframe\">\n",
       "  <thead>\n",
       "    <tr style=\"text-align: right;\">\n",
       "      <th></th>\n",
       "      <th>ef</th>\n",
       "      <th>admit_weight</th>\n",
       "      <th>aicd</th>\n",
       "      <th>discharge</th>\n",
       "      <th>this_weight_change</th>\n",
       "      <th>weight_change_since_admit</th>\n",
       "      <th>this_bnp_change</th>\n",
       "      <th>ace</th>\n",
       "      <th>bb</th>\n",
       "      <th>diuretics</th>\n",
       "      <th>anticoagulant</th>\n",
       "      <th>ionotropes</th>\n",
       "      <th>resting_hr</th>\n",
       "      <th>outcome</th>\n",
       "      <th>cad/mi</th>\n",
       "      <th>heart_failure_unspecfied</th>\n",
       "      <th>diastolic_heart_failure</th>\n",
       "      <th>systolic_chf</th>\n",
       "      <th>atrial_fibrilation</th>\n",
       "      <th>cardiomyoapthy</th>\n",
       "      <th>lvad</th>\n",
       "      <th>chf</th>\n",
       "      <th>duration</th>\n",
       "      <th>age</th>\n",
       "    </tr>\n",
       "  </thead>\n",
       "  <tbody>\n",
       "    <tr>\n",
       "      <th>count</th>\n",
       "      <td>308.000000</td>\n",
       "      <td>347.000000</td>\n",
       "      <td>430.000000</td>\n",
       "      <td>430.000000</td>\n",
       "      <td>430.000000</td>\n",
       "      <td>418.000000</td>\n",
       "      <td>418.000000</td>\n",
       "      <td>430.000000</td>\n",
       "      <td>430.000000</td>\n",
       "      <td>430.000000</td>\n",
       "      <td>430.000000</td>\n",
       "      <td>430.000000</td>\n",
       "      <td>422.000000</td>\n",
       "      <td>430.000000</td>\n",
       "      <td>430.000000</td>\n",
       "      <td>430.000000</td>\n",
       "      <td>430.000000</td>\n",
       "      <td>430.000000</td>\n",
       "      <td>430.000000</td>\n",
       "      <td>430.000000</td>\n",
       "      <td>430.000000</td>\n",
       "      <td>430.000000</td>\n",
       "      <td>410.000000</td>\n",
       "      <td>422.000000</td>\n",
       "    </tr>\n",
       "    <tr>\n",
       "      <th>mean</th>\n",
       "      <td>0.504189</td>\n",
       "      <td>167.081527</td>\n",
       "      <td>0.088372</td>\n",
       "      <td>0.995349</td>\n",
       "      <td>-0.716326</td>\n",
       "      <td>0.450215</td>\n",
       "      <td>-148.842105</td>\n",
       "      <td>0.423256</td>\n",
       "      <td>0.713953</td>\n",
       "      <td>0.630233</td>\n",
       "      <td>0.732558</td>\n",
       "      <td>0.086047</td>\n",
       "      <td>77.582938</td>\n",
       "      <td>0.555814</td>\n",
       "      <td>0.230233</td>\n",
       "      <td>0.274419</td>\n",
       "      <td>0.137209</td>\n",
       "      <td>0.313953</td>\n",
       "      <td>0.279070</td>\n",
       "      <td>0.053488</td>\n",
       "      <td>0.004651</td>\n",
       "      <td>0.002326</td>\n",
       "      <td>56.678049</td>\n",
       "      <td>75.753555</td>\n",
       "    </tr>\n",
       "    <tr>\n",
       "      <th>std</th>\n",
       "      <td>0.586967</td>\n",
       "      <td>56.036726</td>\n",
       "      <td>0.284166</td>\n",
       "      <td>0.068120</td>\n",
       "      <td>23.089995</td>\n",
       "      <td>11.876198</td>\n",
       "      <td>3284.662291</td>\n",
       "      <td>0.494651</td>\n",
       "      <td>0.452438</td>\n",
       "      <td>0.483304</td>\n",
       "      <td>0.443140</td>\n",
       "      <td>0.280759</td>\n",
       "      <td>11.240049</td>\n",
       "      <td>0.579688</td>\n",
       "      <td>0.421472</td>\n",
       "      <td>0.446741</td>\n",
       "      <td>0.344469</td>\n",
       "      <td>0.464638</td>\n",
       "      <td>0.449064</td>\n",
       "      <td>0.225267</td>\n",
       "      <td>0.068120</td>\n",
       "      <td>0.048224</td>\n",
       "      <td>342.632123</td>\n",
       "      <td>15.979527</td>\n",
       "    </tr>\n",
       "    <tr>\n",
       "      <th>min</th>\n",
       "      <td>0.100000</td>\n",
       "      <td>75.000000</td>\n",
       "      <td>0.000000</td>\n",
       "      <td>0.000000</td>\n",
       "      <td>-234.000000</td>\n",
       "      <td>-31.600000</td>\n",
       "      <td>-66618.000000</td>\n",
       "      <td>0.000000</td>\n",
       "      <td>0.000000</td>\n",
       "      <td>0.000000</td>\n",
       "      <td>0.000000</td>\n",
       "      <td>0.000000</td>\n",
       "      <td>51.000000</td>\n",
       "      <td>0.000000</td>\n",
       "      <td>0.000000</td>\n",
       "      <td>0.000000</td>\n",
       "      <td>0.000000</td>\n",
       "      <td>0.000000</td>\n",
       "      <td>0.000000</td>\n",
       "      <td>0.000000</td>\n",
       "      <td>0.000000</td>\n",
       "      <td>0.000000</td>\n",
       "      <td>-3638.000000</td>\n",
       "      <td>-28.000000</td>\n",
       "    </tr>\n",
       "    <tr>\n",
       "      <th>25%</th>\n",
       "      <td>0.350000</td>\n",
       "      <td>130.600000</td>\n",
       "      <td>0.000000</td>\n",
       "      <td>1.000000</td>\n",
       "      <td>-1.675000</td>\n",
       "      <td>-6.575000</td>\n",
       "      <td>-34.750000</td>\n",
       "      <td>0.000000</td>\n",
       "      <td>0.000000</td>\n",
       "      <td>0.000000</td>\n",
       "      <td>0.000000</td>\n",
       "      <td>0.000000</td>\n",
       "      <td>70.000000</td>\n",
       "      <td>0.000000</td>\n",
       "      <td>0.000000</td>\n",
       "      <td>0.000000</td>\n",
       "      <td>0.000000</td>\n",
       "      <td>0.000000</td>\n",
       "      <td>0.000000</td>\n",
       "      <td>0.000000</td>\n",
       "      <td>0.000000</td>\n",
       "      <td>0.000000</td>\n",
       "      <td>24.000000</td>\n",
       "      <td>69.000000</td>\n",
       "    </tr>\n",
       "    <tr>\n",
       "      <th>50%</th>\n",
       "      <td>0.500000</td>\n",
       "      <td>155.000000</td>\n",
       "      <td>0.000000</td>\n",
       "      <td>1.000000</td>\n",
       "      <td>0.000000</td>\n",
       "      <td>0.000000</td>\n",
       "      <td>0.000000</td>\n",
       "      <td>0.000000</td>\n",
       "      <td>1.000000</td>\n",
       "      <td>1.000000</td>\n",
       "      <td>1.000000</td>\n",
       "      <td>0.000000</td>\n",
       "      <td>77.000000</td>\n",
       "      <td>1.000000</td>\n",
       "      <td>0.000000</td>\n",
       "      <td>0.000000</td>\n",
       "      <td>0.000000</td>\n",
       "      <td>0.000000</td>\n",
       "      <td>0.000000</td>\n",
       "      <td>0.000000</td>\n",
       "      <td>0.000000</td>\n",
       "      <td>0.000000</td>\n",
       "      <td>47.500000</td>\n",
       "      <td>78.000000</td>\n",
       "    </tr>\n",
       "    <tr>\n",
       "      <th>75%</th>\n",
       "      <td>0.600000</td>\n",
       "      <td>189.700000</td>\n",
       "      <td>0.000000</td>\n",
       "      <td>1.000000</td>\n",
       "      <td>1.000000</td>\n",
       "      <td>4.750000</td>\n",
       "      <td>49.750000</td>\n",
       "      <td>1.000000</td>\n",
       "      <td>1.000000</td>\n",
       "      <td>1.000000</td>\n",
       "      <td>1.000000</td>\n",
       "      <td>0.000000</td>\n",
       "      <td>84.000000</td>\n",
       "      <td>1.000000</td>\n",
       "      <td>0.000000</td>\n",
       "      <td>1.000000</td>\n",
       "      <td>0.000000</td>\n",
       "      <td>1.000000</td>\n",
       "      <td>1.000000</td>\n",
       "      <td>0.000000</td>\n",
       "      <td>0.000000</td>\n",
       "      <td>0.000000</td>\n",
       "      <td>95.000000</td>\n",
       "      <td>87.000000</td>\n",
       "    </tr>\n",
       "    <tr>\n",
       "      <th>max</th>\n",
       "      <td>10.395000</td>\n",
       "      <td>498.000000</td>\n",
       "      <td>1.000000</td>\n",
       "      <td>1.000000</td>\n",
       "      <td>216.200000</td>\n",
       "      <td>44.000000</td>\n",
       "      <td>2580.000000</td>\n",
       "      <td>1.000000</td>\n",
       "      <td>1.000000</td>\n",
       "      <td>1.000000</td>\n",
       "      <td>1.000000</td>\n",
       "      <td>1.000000</td>\n",
       "      <td>120.000000</td>\n",
       "      <td>2.000000</td>\n",
       "      <td>1.000000</td>\n",
       "      <td>1.000000</td>\n",
       "      <td>1.000000</td>\n",
       "      <td>1.000000</td>\n",
       "      <td>1.000000</td>\n",
       "      <td>1.000000</td>\n",
       "      <td>1.000000</td>\n",
       "      <td>1.000000</td>\n",
       "      <td>1390.000000</td>\n",
       "      <td>103.000000</td>\n",
       "    </tr>\n",
       "  </tbody>\n",
       "</table>\n",
       "</div>"
      ],
      "text/plain": [
       "               ef  admit_weight        aicd   discharge  this_weight_change  \\\n",
       "count  308.000000    347.000000  430.000000  430.000000          430.000000   \n",
       "mean     0.504189    167.081527    0.088372    0.995349           -0.716326   \n",
       "std      0.586967     56.036726    0.284166    0.068120           23.089995   \n",
       "min      0.100000     75.000000    0.000000    0.000000         -234.000000   \n",
       "25%      0.350000    130.600000    0.000000    1.000000           -1.675000   \n",
       "50%      0.500000    155.000000    0.000000    1.000000            0.000000   \n",
       "75%      0.600000    189.700000    0.000000    1.000000            1.000000   \n",
       "max     10.395000    498.000000    1.000000    1.000000          216.200000   \n",
       "\n",
       "       weight_change_since_admit  this_bnp_change         ace          bb  \\\n",
       "count                 418.000000       418.000000  430.000000  430.000000   \n",
       "mean                    0.450215      -148.842105    0.423256    0.713953   \n",
       "std                    11.876198      3284.662291    0.494651    0.452438   \n",
       "min                   -31.600000    -66618.000000    0.000000    0.000000   \n",
       "25%                    -6.575000       -34.750000    0.000000    0.000000   \n",
       "50%                     0.000000         0.000000    0.000000    1.000000   \n",
       "75%                     4.750000        49.750000    1.000000    1.000000   \n",
       "max                    44.000000      2580.000000    1.000000    1.000000   \n",
       "\n",
       "        diuretics  anticoagulant  ionotropes  resting_hr     outcome  \\\n",
       "count  430.000000     430.000000  430.000000  422.000000  430.000000   \n",
       "mean     0.630233       0.732558    0.086047   77.582938    0.555814   \n",
       "std      0.483304       0.443140    0.280759   11.240049    0.579688   \n",
       "min      0.000000       0.000000    0.000000   51.000000    0.000000   \n",
       "25%      0.000000       0.000000    0.000000   70.000000    0.000000   \n",
       "50%      1.000000       1.000000    0.000000   77.000000    1.000000   \n",
       "75%      1.000000       1.000000    0.000000   84.000000    1.000000   \n",
       "max      1.000000       1.000000    1.000000  120.000000    2.000000   \n",
       "\n",
       "           cad/mi  heart_failure_unspecfied  diastolic_heart_failure  \\\n",
       "count  430.000000                430.000000               430.000000   \n",
       "mean     0.230233                  0.274419                 0.137209   \n",
       "std      0.421472                  0.446741                 0.344469   \n",
       "min      0.000000                  0.000000                 0.000000   \n",
       "25%      0.000000                  0.000000                 0.000000   \n",
       "50%      0.000000                  0.000000                 0.000000   \n",
       "75%      0.000000                  1.000000                 0.000000   \n",
       "max      1.000000                  1.000000                 1.000000   \n",
       "\n",
       "       systolic_chf  atrial_fibrilation  cardiomyoapthy        lvad  \\\n",
       "count    430.000000          430.000000      430.000000  430.000000   \n",
       "mean       0.313953            0.279070        0.053488    0.004651   \n",
       "std        0.464638            0.449064        0.225267    0.068120   \n",
       "min        0.000000            0.000000        0.000000    0.000000   \n",
       "25%        0.000000            0.000000        0.000000    0.000000   \n",
       "50%        0.000000            0.000000        0.000000    0.000000   \n",
       "75%        1.000000            1.000000        0.000000    0.000000   \n",
       "max        1.000000            1.000000        1.000000    1.000000   \n",
       "\n",
       "              chf     duration         age  \n",
       "count  430.000000   410.000000  422.000000  \n",
       "mean     0.002326    56.678049   75.753555  \n",
       "std      0.048224   342.632123   15.979527  \n",
       "min      0.000000 -3638.000000  -28.000000  \n",
       "25%      0.000000    24.000000   69.000000  \n",
       "50%      0.000000    47.500000   78.000000  \n",
       "75%      0.000000    95.000000   87.000000  \n",
       "max      1.000000  1390.000000  103.000000  "
      ]
     },
     "execution_count": 7,
     "metadata": {},
     "output_type": "execute_result"
    }
   ],
   "source": [
    "df.describe()"
   ]
  },
  {
   "cell_type": "code",
   "execution_count": 6,
   "metadata": {},
   "outputs": [
    {
     "data": {
      "text/plain": [
       "(430, 48)"
      ]
     },
     "execution_count": 6,
     "metadata": {},
     "output_type": "execute_result"
    }
   ],
   "source": [
    "df.shape"
   ]
  },
  {
   "cell_type": "markdown",
   "metadata": {},
   "source": [
    "<p><a name=\"acute_or_chronic\"></a></p>\n",
    "## acute_or_chronic"
   ]
  },
  {
   "cell_type": "code",
   "execution_count": 8,
   "metadata": {},
   "outputs": [
    {
     "data": {
      "text/plain": [
       "Chronic    181\n",
       "Acute      152\n",
       "NaN         97\n",
       "Name: acute_or_chronic, dtype: int64"
      ]
     },
     "execution_count": 8,
     "metadata": {},
     "output_type": "execute_result"
    }
   ],
   "source": [
    "df.acute_or_chronic.value_counts(dropna=False)"
   ]
  },
  {
   "cell_type": "markdown",
   "metadata": {},
   "source": [
    "A lot of missing. Not sure how to impute."
   ]
  },
  {
   "cell_type": "markdown",
   "metadata": {},
   "source": [
    "<p><a name=\"diagnoses\"></a></p>\n",
    "## Diagnoses"
   ]
  },
  {
   "cell_type": "code",
   "execution_count": 9,
   "metadata": {
    "scrolled": true
   },
   "outputs": [
    {
     "data": {
      "text/plain": [
       "Index(['patient_link', 'date_of_birth', 'patient_gender', 'ef',\n",
       "       'special_status', 'facilities_link', 'hospital_discharged_from',\n",
       "       'admit_weight', 'acute_or_chronic', 'aicd', 'status', 'discharge',\n",
       "       'cardiac_related', 'create_user', 'enrollId', 'name', 'weight',\n",
       "       'this_weight_change', 'weight_change_since_admit', 'bnp',\n",
       "       'this_bnp_change', 'ace', 'bb', 'diuretics', 'anticoagulant',\n",
       "       'ionotropes', 'other_cardiac_meds', 'bun', 'cr', 'sodium', 'potasium',\n",
       "       'mg', 'this_cr_change', 'resting_hr', 'systolic', 'diastolic',\n",
       "       'resting_bp', 'outcome', 'cad/mi', 'heart_failure_unspecfied',\n",
       "       'diastolic_heart_failure', 'systolic_chf', 'atrial_fibrilation',\n",
       "       'cardiomyoapthy', 'lvad', 'chf', 'duration', 'age'],\n",
       "      dtype='object')"
      ]
     },
     "execution_count": 9,
     "metadata": {},
     "output_type": "execute_result"
    }
   ],
   "source": [
    "df.columns"
   ]
  },
  {
   "cell_type": "code",
   "execution_count": 10,
   "metadata": {},
   "outputs": [
    {
     "data": {
      "text/plain": [
       "NaN              347\n",
       "Death             47\n",
       "NP Following      29\n",
       "Collaboration      6\n",
       "collaboration      1\n",
       "Name: special_status, dtype: int64"
      ]
     },
     "execution_count": 10,
     "metadata": {},
     "output_type": "execute_result"
    }
   ],
   "source": [
    "df.special_status.value_counts(dropna = False)"
   ]
  },
  {
   "cell_type": "code",
   "execution_count": 11,
   "metadata": {},
   "outputs": [
    {
     "data": {
      "text/plain": [
       "To Home                     193\n",
       "Hospital                    162\n",
       "Death                        48\n",
       "NaN                          19\n",
       "Assisted Living Facility      5\n",
       "No Reason Given               3\n",
       "Name: status, dtype: int64"
      ]
     },
     "execution_count": 11,
     "metadata": {},
     "output_type": "execute_result"
    }
   ],
   "source": [
    "df.status.value_counts(dropna = False)"
   ]
  },
  {
   "cell_type": "markdown",
   "metadata": {},
   "source": [
    "<p><a name=\"labs\"></a></p>\n",
    "## Labs"
   ]
  },
  {
   "cell_type": "markdown",
   "metadata": {},
   "source": [
    "<p><a name=\"bnp\"></a></p>\n",
    "### BNP"
   ]
  },
  {
   "cell_type": "code",
   "execution_count": 89,
   "metadata": {},
   "outputs": [],
   "source": [
    "df.bnp = pd.to_numeric(df.bnp)"
   ]
  },
  {
   "cell_type": "markdown",
   "metadata": {},
   "source": [
    "Getting real tired of these mixed data types in all columns."
   ]
  },
  {
   "cell_type": "code",
   "execution_count": 90,
   "metadata": {},
   "outputs": [],
   "source": [
    "numericList = ['bnp']"
   ]
  },
  {
   "cell_type": "code",
   "execution_count": 13,
   "metadata": {},
   "outputs": [],
   "source": [
    "%matplotlib inline\n",
    "import matplotlib.pyplot as plt\n",
    "import seaborn as sns"
   ]
  },
  {
   "cell_type": "code",
   "execution_count": 14,
   "metadata": {
    "scrolled": true
   },
   "outputs": [
    {
     "data": {
      "text/plain": [
       "(array([428.,   0.,   1.,   0.,   0.,   0.,   0.,   0.,   0.,   1.]),\n",
       " array([2.0000e+00, 6.8450e+03, 1.3688e+04, 2.0531e+04, 2.7374e+04,\n",
       "        3.4217e+04, 4.1060e+04, 4.7903e+04, 5.4746e+04, 6.1589e+04,\n",
       "        6.8432e+04]),\n",
       " <a list of 10 Patch objects>)"
      ]
     },
     "execution_count": 14,
     "metadata": {},
     "output_type": "execute_result"
    },
    {
     "data": {
      "image/png": "[encoded data removed]",
      "text/plain": [
       "<Figure size 432x288 with 1 Axes>"
      ]
     },
     "metadata": {
      "needs_background": "light"
     },
     "output_type": "display_data"
    }
   ],
   "source": [
    "plt.hist(df.bnp.map(int))"
   ]
  },
  {
   "cell_type": "markdown",
   "metadata": {},
   "source": [
    "Heavily skewed!"
   ]
  },
  {
   "cell_type": "code",
   "execution_count": 15,
   "metadata": {},
   "outputs": [
    {
     "data": {
      "text/plain": [
       "(array([  4.,  11.,  40.,  89., 111., 104.,  49.,  20.,   1.,   1.]),\n",
       " array([ 0.69314718,  1.73719205,  2.78123691,  3.82528178,  4.86932664,\n",
       "         5.91337151,  6.95741637,  8.00146124,  9.0455061 , 10.08955097,\n",
       "        11.13359583]),\n",
       " <a list of 10 Patch objects>)"
      ]
     },
     "execution_count": 15,
     "metadata": {},
     "output_type": "execute_result"
    },
    {
     "data": {
      "image/png": "[encoded data removed]",
      "text/plain": [
       "<Figure size 432x288 with 1 Axes>"
      ]
     },
     "metadata": {
      "needs_background": "light"
     },
     "output_type": "display_data"
    }
   ],
   "source": [
    "plt.hist(df.bnp.map(np.log))"
   ]
  },
  {
   "cell_type": "markdown",
   "metadata": {},
   "source": [
    "log plot is much better! Box-Cox?"
   ]
  },
  {
   "cell_type": "markdown",
   "metadata": {},
   "source": [
    "### this_bnp_change"
   ]
  },
  {
   "cell_type": "code",
   "execution_count": 19,
   "metadata": {
    "scrolled": true
   },
   "outputs": [
    {
     "data": {
      "text/plain": [
       "12"
      ]
     },
     "execution_count": 19,
     "metadata": {},
     "output_type": "execute_result"
    }
   ],
   "source": [
    "df.this_bnp_change.isna().sum()"
   ]
  },
  {
   "cell_type": "markdown",
   "metadata": {},
   "source": [
    "Few missing. Suggest imputing 0? Perhaps they only have one bnp measurement."
   ]
  },
  {
   "cell_type": "code",
   "execution_count": 17,
   "metadata": {
    "scrolled": true
   },
   "outputs": [
    {
     "data": {
      "text/plain": [
       "263   -66618.0\n",
       "132    -2966.0\n",
       "46     -2600.0\n",
       "197    -1780.0\n",
       "348    -1774.0\n",
       "129    -1419.0\n",
       "75     -1165.0\n",
       "56     -1112.0\n",
       "243    -1062.0\n",
       "424     -940.0\n",
       "Name: this_bnp_change, dtype: float64"
      ]
     },
     "execution_count": 17,
     "metadata": {},
     "output_type": "execute_result"
    }
   ],
   "source": [
    "df.this_bnp_change.sort_values().head(10)"
   ]
  },
  {
   "cell_type": "markdown",
   "metadata": {},
   "source": [
    "-66618 bnp change is a ludicrous outlier"
   ]
  },
  {
   "cell_type": "code",
   "execution_count": 20,
   "metadata": {},
   "outputs": [
    {
     "data": {
      "text/plain": [
       "47     2580.0\n",
       "369    1704.0\n",
       "294    1556.0\n",
       "358    1510.0\n",
       "412    1439.0\n",
       "164    1433.0\n",
       "31     1188.0\n",
       "320    1175.0\n",
       "136    1107.0\n",
       "371    1021.0\n",
       "Name: this_bnp_change, dtype: float64"
      ]
     },
     "execution_count": 20,
     "metadata": {},
     "output_type": "execute_result"
    }
   ],
   "source": [
    "df.this_bnp_change.sort_values(ascending = False).head(10)"
   ]
  },
  {
   "cell_type": "markdown",
   "metadata": {},
   "source": [
    "2580 is an outlier, but perhaps not rediculous."
   ]
  },
  {
   "cell_type": "code",
   "execution_count": 21,
   "metadata": {
    "scrolled": false
   },
   "outputs": [
    {
     "data": {
      "text/plain": [
       "(array([  2.,   3.,   6.,  11.,  79., 208.,  17.,   7.,   4.,   5.]),\n",
       " array([-1780. , -1431.6, -1083.2,  -734.8,  -386.4,   -38. ,   310.4,\n",
       "          658.8,  1007.2,  1355.6,  1704. ]),\n",
       " <a list of 10 Patch objects>)"
      ]
     },
     "execution_count": 21,
     "metadata": {},
     "output_type": "execute_result"
    },
    {
     "data": {
      "image/png": "[encoded data removed]",
      "text/plain": [
       "<Figure size 432x288 with 1 Axes>"
      ]
     },
     "metadata": {
      "needs_background": "light"
     },
     "output_type": "display_data"
    }
   ],
   "source": [
    "plt.hist(df.this_bnp_change.dropna()[(df.this_bnp_change > -2000)&(df.this_bnp_change != 0)&(df.this_bnp_change < 2000)])"
   ]
  },
  {
   "cell_type": "markdown",
   "metadata": {},
   "source": [
    "## Meds"
   ]
  },
  {
   "cell_type": "markdown",
   "metadata": {},
   "source": [
    "### Ace"
   ]
  },
  {
   "cell_type": "code",
   "execution_count": 25,
   "metadata": {},
   "outputs": [
    {
     "data": {
      "text/plain": [
       "0.0    248\n",
       "1.0    182\n",
       "Name: ace, dtype: int64"
      ]
     },
     "execution_count": 25,
     "metadata": {},
     "output_type": "execute_result"
    }
   ],
   "source": [
    "df.ace.value_counts(dropna = False)"
   ]
  },
  {
   "cell_type": "markdown",
   "metadata": {},
   "source": [
    "### bb"
   ]
  },
  {
   "cell_type": "code",
   "execution_count": 26,
   "metadata": {},
   "outputs": [
    {
     "data": {
      "text/plain": [
       "1.0    307\n",
       "0.0    123\n",
       "Name: bb, dtype: int64"
      ]
     },
     "execution_count": 26,
     "metadata": {},
     "output_type": "execute_result"
    }
   ],
   "source": [
    "df.bb.value_counts(dropna = False)"
   ]
  },
  {
   "cell_type": "markdown",
   "metadata": {},
   "source": [
    "### diuretics"
   ]
  },
  {
   "cell_type": "code",
   "execution_count": 27,
   "metadata": {},
   "outputs": [
    {
     "data": {
      "text/plain": [
       "1.0    271\n",
       "0.0    159\n",
       "Name: diuretics, dtype: int64"
      ]
     },
     "execution_count": 27,
     "metadata": {},
     "output_type": "execute_result"
    }
   ],
   "source": [
    "df.diuretics.value_counts(dropna = False)"
   ]
  },
  {
   "cell_type": "markdown",
   "metadata": {},
   "source": [
    "### anticoagulant"
   ]
  },
  {
   "cell_type": "code",
   "execution_count": 28,
   "metadata": {},
   "outputs": [
    {
     "data": {
      "text/plain": [
       "1.0    315\n",
       "0.0    115\n",
       "Name: anticoagulant, dtype: int64"
      ]
     },
     "execution_count": 28,
     "metadata": {},
     "output_type": "execute_result"
    }
   ],
   "source": [
    "df.anticoagulant.value_counts(dropna = False)"
   ]
  },
  {
   "cell_type": "markdown",
   "metadata": {},
   "source": [
    "### ionotropes"
   ]
  },
  {
   "cell_type": "code",
   "execution_count": 29,
   "metadata": {},
   "outputs": [
    {
     "data": {
      "text/plain": [
       "0.0    393\n",
       "1.0     37\n",
       "Name: ionotropes, dtype: int64"
      ]
     },
     "execution_count": 29,
     "metadata": {},
     "output_type": "execute_result"
    }
   ],
   "source": [
    "df.ionotropes.value_counts(dropna = False)"
   ]
  },
  {
   "cell_type": "markdown",
   "metadata": {},
   "source": [
    "### other cardiac meds"
   ]
  },
  {
   "cell_type": "code",
   "execution_count": 30,
   "metadata": {},
   "outputs": [
    {
     "data": {
      "text/plain": [
       "NaN                                                                                                                                                                    172\n",
       "Atorvastatin 40mg QD                                                                                                                                                    16\n",
       "Atorvastatin 80mg QD                                                                                                                                                    13\n",
       "Amlodipine 5mg QD                                                                                                                                                        8\n",
       "Amlodipine 10mg QD                                                                                                                                                       7\n",
       "Amiodarone 200mg QD                                                                                                                                                      7\n",
       "Simvastatin 20mg QD                                                                                                                                                      5\n",
       "Atorvastatin 20mg QD                                                                                                                                                     5\n",
       "no cardiac meds on the record                                                                                                                                            5\n",
       "Nifedipine 60mg QD                                                                                                                                                       4\n",
       "Simvastatin 10mg QD                                                                                                                                                      4\n",
       "Amlodipine 10mg Qd                                                                                                                                                       3\n",
       "Lipitor 40mg QD                                                                                                                                                          3\n",
       "Nifedipine 90mg QD                                                                                                                                                       3\n",
       "Hydralazine 10mg TID                                                                                                                                                     2\n",
       "Atorvastatin 40mg QD, Hydralazine 25mg Q8H; Isordil 10mg tid                                                                                                             2\n",
       "Isosorbide mono 30mg QD                                                                                                                                                  2\n",
       "Simvastatin 40mg QD                                                                                                                                                      2\n",
       "profile is incomplete                                                                                                                                                    2\n",
       "Atorvastatin 40mg QD, Hydralazine 100mg Q8H, Isosorbide din 30mg *2tab TID                                                                                               2\n",
       "Nifedipine 30mg QD                                                                                                                                                       2\n",
       "Norvasc 5mg QD                                                                                                                                                           2\n",
       "Metolazone 5mg 1 tablet (5 mg) by oral route 2 times per week on Monday and Thursday at 6:30 pm (30 minutes after Torsemide)                                             2\n",
       "Isosorbide mono 30mg QD, Amlodipine 10mg QD                                                                                                                              1\n",
       "Zocor 20mg QD, Amiodarone 200mg BID                                                                                                                                      1\n",
       "Atorvastatin 80mg QD, Norvasc 10mg QD                                                                                                                                    1\n",
       "Isosorbide din 10mg two times a day                                                                                                                                      1\n",
       "Amlodipine 5mg QD, Hydrochlorothiazide 25mg QD, Hydralazine 50mg TID                                                                                                     1\n",
       "Isosorbide mono ER 30mg QD                                                                                                                                               1\n",
       "Atorvastatin 80mg QD, Amlodipine 10mg QD, Hydralazine 100mg Q8H                                                                                                          1\n",
       "                                                                                                                                                                      ... \n",
       "Entresto Tablet 24-26 MG (Sacubitril-Valsartan) BID, Atorvastatin 20mg QD                                                                                                1\n",
       "Atorvastain 20mg QD, Hydrochlorothiazide 12.5mg QD                                                                                                                       1\n",
       "no orders found on the record                                                                                                                                            1\n",
       "Amlodipine 5mg QD, Rosuvastatin 40mg QD                                                                                                                                  1\n",
       "ATORVASTATIN 40 MG HS                                                                                                                                                    1\n",
       "Nifedipine 90mg QD; Amlodipine 10mg QD                                                                                                                                   1\n",
       "Hydralazine 50mg TID, Isosorbide mono 30mg QD, Atorvastatin 40mg QD, Amlodipine 10mg QD                                                                                  1\n",
       "Norvasc 10mg QD; Isosorbide dinitrate 10mg  BID, Atorvastatin 40mg QD                                                                                                    1\n",
       "Atorvasatin 20mg HS                                                                                                                                                      1\n",
       "Isosorbide Dinitrate 10mg q8h, Amlodipine 10mg qd, Hydralazine 75mg q8h; and Clonidine 0.3mg bid.                                                                        1\n",
       "Isosorbide mono 30mg QD, Hydralazine 25mg Q8H,Atorvastatin 40mg QD                                                                                                       1\n",
       "Hydralazine 25mg Q8H, Isosorbide din 20mg TID                                                                                                                            1\n",
       "Amlodipine 5mg QD, Hydrochlorothiazide 12.5mg QD                                                                                                                         1\n",
       "Atorvastain 40mg QD                                                                                                                                                      1\n",
       "Amiodarone 100mg QD, Amlodipine 5mg QD                                                                                                                                   1\n",
       "Minoxidil 2.5mg daily, Amlodipine 10mg daily, Nifedipine 90mg daily                                                                                                      1\n",
       "Pravastatin 40mg QD                                                                                                                                                      1\n",
       "Nitroglycerin Tablet Sublingual 0.3 MG Give 1 tablet sublingually every 5 minutes as needed for chest pain give q 5 minutes x3 for chest pain, Atorvastatin 80mg QD      1\n",
       "Amlodipine 10mg QD, Isosorbide din 10mg TID, Hydralazine 25mg Q8H, Crestor 40mg HS                                                                                       1\n",
       "Hydralazine 100mg Q8H, Nifedipine 60mg*2tab QD, Atorvastatin 20mg QD                                                                                                     1\n",
       "Atorvastatin 40mg HS                                                                                                                                                     1\n",
       "Hydralazine 50mg TID, Lipitor 10mg QD, Nifedipine 60mg QD                                                                                                                1\n",
       "Hydralazine 25mg TID; Isosorbide Mononitrate ER 30mg QD                                                                                                                  1\n",
       "Atorvasatin 80mg QD                                                                                                                                                      1\n",
       "Zocor 10mg QD                                                                                                                                                            1\n",
       "Spronolactone 25mg every other day                                                                                                                                       1\n",
       "Atorvastatin 40mg QD, Hydralazine 25mg TID                                                                                                                               1\n",
       "Digoxin 0.125mg qd                                                                                                                                                       1\n",
       "Amlodipine 5mg Qd                                                                                                                                                        1\n",
       "Amlodipine 10mg qd                                                                                                                                                       1\n",
       "Name: other_cardiac_meds, Length: 180, dtype: int64"
      ]
     },
     "execution_count": 30,
     "metadata": {},
     "output_type": "execute_result"
    }
   ],
   "source": [
    "df.other_cardiac_meds.value_counts(dropna = False)"
   ]
  },
  {
   "cell_type": "markdown",
   "metadata": {},
   "source": [
    "other cardiac meds column uncleaned?"
   ]
  },
  {
   "cell_type": "markdown",
   "metadata": {},
   "source": [
    "## Labs"
   ]
  },
  {
   "cell_type": "markdown",
   "metadata": {},
   "source": [
    "### bun"
   ]
  },
  {
   "cell_type": "code",
   "execution_count": 40,
   "metadata": {},
   "outputs": [
    {
     "data": {
      "text/plain": [
       "0"
      ]
     },
     "execution_count": 40,
     "metadata": {},
     "output_type": "execute_result"
    }
   ],
   "source": [
    "df.bun.isna().sum()"
   ]
  },
  {
   "cell_type": "code",
   "execution_count": 41,
   "metadata": {},
   "outputs": [
    {
     "data": {
      "text/plain": [
       "count     430.0\n",
       "unique     85.0\n",
       "top        18.0\n",
       "freq       23.0\n",
       "Name: bun, dtype: float64"
      ]
     },
     "execution_count": 41,
     "metadata": {},
     "output_type": "execute_result"
    }
   ],
   "source": [
    "df.bun.describe()"
   ]
  },
  {
   "cell_type": "markdown",
   "metadata": {},
   "source": [
    "Format as numeric!"
   ]
  },
  {
   "cell_type": "code",
   "execution_count": 42,
   "metadata": {},
   "outputs": [
    {
     "data": {
      "text/plain": [
       "count    430.000000\n",
       "mean      35.723256\n",
       "std       23.252845\n",
       "min        0.000000\n",
       "25%       19.000000\n",
       "50%       29.000000\n",
       "75%       46.000000\n",
       "max      205.000000\n",
       "Name: bun, dtype: float64"
      ]
     },
     "execution_count": 42,
     "metadata": {},
     "output_type": "execute_result"
    }
   ],
   "source": [
    "df.bun.map(float).describe()"
   ]
  },
  {
   "cell_type": "code",
   "execution_count": 43,
   "metadata": {},
   "outputs": [
    {
     "data": {
      "text/plain": [
       "(array([130., 165.,  79.,  33.,  17.,   3.,   2.,   0.,   0.,   1.]),\n",
       " array([  0. ,  20.5,  41. ,  61.5,  82. , 102.5, 123. , 143.5, 164. ,\n",
       "        184.5, 205. ]),\n",
       " <a list of 10 Patch objects>)"
      ]
     },
     "execution_count": 43,
     "metadata": {},
     "output_type": "execute_result"
    },
    {
     "data": {
      "image/png": "[encoded data removed]",
      "text/plain": [
       "<Figure size 432x288 with 1 Axes>"
      ]
     },
     "metadata": {
      "needs_background": "light"
     },
     "output_type": "display_data"
    }
   ],
   "source": [
    "plt.hist(df.bun.dropna().map(int))"
   ]
  },
  {
   "cell_type": "markdown",
   "metadata": {},
   "source": [
    "Skew."
   ]
  },
  {
   "cell_type": "code",
   "execution_count": 44,
   "metadata": {},
   "outputs": [
    {
     "data": {
      "text/plain": [
       "1"
      ]
     },
     "execution_count": 44,
     "metadata": {},
     "output_type": "execute_result"
    }
   ],
   "source": [
    "(df.bun == 0).sum() "
   ]
  },
  {
   "cell_type": "markdown",
   "metadata": {},
   "source": [
    "Why the single 0 value? If imputed, I suggest changing the imputation to be the average."
   ]
  },
  {
   "cell_type": "code",
   "execution_count": 45,
   "metadata": {},
   "outputs": [
    {
     "data": {
      "text/plain": [
       "(array([  1.,   0.,   0.,   0.,  29., 132., 133.,  97.,  35.,   3.]),\n",
       " array([0.        , 0.53278762, 1.06557523, 1.59836285, 2.13115047,\n",
       "        2.66393808, 3.1967257 , 3.72951332, 4.26230094, 4.79508855,\n",
       "        5.32787617]),\n",
       " <a list of 10 Patch objects>)"
      ]
     },
     "execution_count": 45,
     "metadata": {},
     "output_type": "execute_result"
    },
    {
     "data": {
      "image/png": "[encoded data removed]",
      "text/plain": [
       "<Figure size 432x288 with 1 Axes>"
      ]
     },
     "metadata": {
      "needs_background": "light"
     },
     "output_type": "display_data"
    }
   ],
   "source": [
    "plt.hist((df.bun.map(int) + 1).map(np.log))"
   ]
  },
  {
   "cell_type": "markdown",
   "metadata": {},
   "source": [
    "Log plot is better. Box-Cox?"
   ]
  },
  {
   "cell_type": "markdown",
   "metadata": {},
   "source": [
    "### cr"
   ]
  },
  {
   "cell_type": "code",
   "execution_count": 46,
   "metadata": {},
   "outputs": [
    {
     "data": {
      "text/plain": [
       "count    430.000000\n",
       "mean       1.685535\n",
       "std        1.537506\n",
       "min        0.000000\n",
       "25%        0.800000\n",
       "50%        1.100000\n",
       "75%        1.700000\n",
       "max        9.100000\n",
       "Name: cr, dtype: float64"
      ]
     },
     "execution_count": 46,
     "metadata": {},
     "output_type": "execute_result"
    }
   ],
   "source": [
    "df.cr.map(float).describe()"
   ]
  },
  {
   "cell_type": "markdown",
   "metadata": {},
   "source": [
    "Format as numeric"
   ]
  },
  {
   "cell_type": "code",
   "execution_count": 47,
   "metadata": {},
   "outputs": [
    {
     "data": {
      "text/plain": [
       "(array([147., 183.,  34.,  21.,  19.,   8.,   6.,   4.,   3.,   5.]),\n",
       " array([0.  , 0.91, 1.82, 2.73, 3.64, 4.55, 5.46, 6.37, 7.28, 8.19, 9.1 ]),\n",
       " <a list of 10 Patch objects>)"
      ]
     },
     "execution_count": 47,
     "metadata": {},
     "output_type": "execute_result"
    },
    {
     "data": {
      "image/png": "[encoded data removed]",
      "text/plain": [
       "<Figure size 432x288 with 1 Axes>"
      ]
     },
     "metadata": {
      "needs_background": "light"
     },
     "output_type": "display_data"
    }
   ],
   "source": [
    "plt.hist(df.cr.dropna().map(float))"
   ]
  },
  {
   "cell_type": "markdown",
   "metadata": {},
   "source": [
    "Skew!"
   ]
  },
  {
   "cell_type": "code",
   "execution_count": 50,
   "metadata": {},
   "outputs": [
    {
     "data": {
      "text/plain": [
       "1"
      ]
     },
     "execution_count": 50,
     "metadata": {},
     "output_type": "execute_result"
    }
   ],
   "source": [
    "(df.cr == 0).sum()"
   ]
  },
  {
   "cell_type": "markdown",
   "metadata": {},
   "source": [
    "Why the single 0 value? If imputed, suggest changing to mean imputation."
   ]
  },
  {
   "cell_type": "code",
   "execution_count": 52,
   "metadata": {
    "scrolled": true
   },
   "outputs": [
    {
     "data": {
      "text/plain": [
       "(array([  1.,  23., 163., 109.,  47.,  34.,  14.,  20.,  10.,   9.]),\n",
       " array([0.        , 0.23125354, 0.46250708, 0.69376063, 0.92501417,\n",
       "        1.15626771, 1.38752125, 1.6187748 , 1.85002834, 2.08128188,\n",
       "        2.31253542]),\n",
       " <a list of 10 Patch objects>)"
      ]
     },
     "execution_count": 52,
     "metadata": {},
     "output_type": "execute_result"
    },
    {
     "data": {
      "image/png": "[encoded data removed]",
      "text/plain": [
       "<Figure size 432x288 with 1 Axes>"
      ]
     },
     "metadata": {
      "needs_background": "light"
     },
     "output_type": "display_data"
    }
   ],
   "source": [
    "plt.hist((df.cr.dropna().map(float) + 1).map(np.log))"
   ]
  },
  {
   "cell_type": "markdown",
   "metadata": {},
   "source": [
    "Log plot is better but still seems a bit skewed. Box-Cox?"
   ]
  },
  {
   "cell_type": "markdown",
   "metadata": {},
   "source": [
    "### sodium"
   ]
  },
  {
   "cell_type": "code",
   "execution_count": 53,
   "metadata": {},
   "outputs": [
    {
     "data": {
      "text/plain": [
       "count    165.000000\n",
       "mean     140.266667\n",
       "std        4.880440\n",
       "min      120.000000\n",
       "25%      138.000000\n",
       "50%      140.000000\n",
       "75%      142.000000\n",
       "max      164.000000\n",
       "Name: sodium, dtype: float64"
      ]
     },
     "execution_count": 53,
     "metadata": {},
     "output_type": "execute_result"
    }
   ],
   "source": [
    "df.sodium.dropna().map(int).describe()"
   ]
  },
  {
   "cell_type": "markdown",
   "metadata": {},
   "source": [
    "Format as integer!"
   ]
  },
  {
   "cell_type": "code",
   "execution_count": 54,
   "metadata": {},
   "outputs": [
    {
     "data": {
      "text/plain": [
       "265"
      ]
     },
     "execution_count": 54,
     "metadata": {},
     "output_type": "execute_result"
    }
   ],
   "source": [
    "df.sodium.isna().sum()"
   ]
  },
  {
   "cell_type": "markdown",
   "metadata": {},
   "source": [
    "Loads of missing! How to impute?"
   ]
  },
  {
   "cell_type": "code",
   "execution_count": 55,
   "metadata": {},
   "outputs": [
    {
     "data": {
      "text/plain": [
       "(array([ 1.,  1.,  5., 33., 69., 41., 10.,  3.,  1.,  1.]),\n",
       " array([120. , 124.4, 128.8, 133.2, 137.6, 142. , 146.4, 150.8, 155.2,\n",
       "        159.6, 164. ]),\n",
       " <a list of 10 Patch objects>)"
      ]
     },
     "execution_count": 55,
     "metadata": {},
     "output_type": "execute_result"
    },
    {
     "data": {
      "image/png": "[encoded data removed]",
      "text/plain": [
       "<Figure size 432x288 with 1 Axes>"
      ]
     },
     "metadata": {
      "needs_background": "light"
     },
     "output_type": "display_data"
    }
   ],
   "source": [
    "plt.hist(df.sodium.dropna().map(int))"
   ]
  },
  {
   "cell_type": "markdown",
   "metadata": {},
   "source": [
    "Not bad."
   ]
  },
  {
   "cell_type": "markdown",
   "metadata": {},
   "source": [
    "### potasium"
   ]
  },
  {
   "cell_type": "code",
   "execution_count": 56,
   "metadata": {},
   "outputs": [
    {
     "data": {
      "text/plain": [
       "count    429.000000\n",
       "mean       4.480653\n",
       "std        1.091780\n",
       "min        0.000000\n",
       "25%        4.000000\n",
       "50%        4.400000\n",
       "75%        4.900000\n",
       "max       22.300000\n",
       "Name: potasium, dtype: float64"
      ]
     },
     "execution_count": 56,
     "metadata": {},
     "output_type": "execute_result"
    }
   ],
   "source": [
    "df.potasium.map(float).describe()"
   ]
  },
  {
   "cell_type": "markdown",
   "metadata": {},
   "source": [
    "Format as float!"
   ]
  },
  {
   "cell_type": "code",
   "execution_count": 57,
   "metadata": {},
   "outputs": [
    {
     "data": {
      "text/plain": [
       "1"
      ]
     },
     "execution_count": 57,
     "metadata": {},
     "output_type": "execute_result"
    }
   ],
   "source": [
    "df.potasium.isna().sum()"
   ]
  },
  {
   "cell_type": "markdown",
   "metadata": {},
   "source": [
    "Impute single missing value with mean?"
   ]
  },
  {
   "cell_type": "code",
   "execution_count": 58,
   "metadata": {},
   "outputs": [
    {
     "data": {
      "text/plain": [
       "(array([  2., 216., 208.,   2.,   0.,   0.,   0.,   0.,   0.,   1.]),\n",
       " array([ 0.  ,  2.23,  4.46,  6.69,  8.92, 11.15, 13.38, 15.61, 17.84,\n",
       "        20.07, 22.3 ]),\n",
       " <a list of 10 Patch objects>)"
      ]
     },
     "execution_count": 58,
     "metadata": {},
     "output_type": "execute_result"
    },
    {
     "data": {
      "image/png": "[encoded data removed]",
      "text/plain": [
       "<Figure size 432x288 with 1 Axes>"
      ]
     },
     "metadata": {
      "needs_background": "light"
     },
     "output_type": "display_data"
    }
   ],
   "source": [
    "plt.hist(df.potasium.dropna().map(float))"
   ]
  },
  {
   "cell_type": "markdown",
   "metadata": {},
   "source": [
    "Potential outlier"
   ]
  },
  {
   "cell_type": "code",
   "execution_count": 63,
   "metadata": {},
   "outputs": [
    {
     "data": {
      "text/plain": [
       "259    0.0\n",
       "379    2.0\n",
       "425    2.8\n",
       "258    3.0\n",
       "311    3.0\n",
       "Name: potasium, dtype: float64"
      ]
     },
     "execution_count": 63,
     "metadata": {},
     "output_type": "execute_result"
    }
   ],
   "source": [
    "df.potasium.map(float).sort_values().head(5)"
   ]
  },
  {
   "cell_type": "markdown",
   "metadata": {},
   "source": [
    "Single 0 value. Error? If imputed, suggest mean imputation."
   ]
  },
  {
   "cell_type": "code",
   "execution_count": 64,
   "metadata": {},
   "outputs": [
    {
     "data": {
      "text/plain": [
       "376     6.2\n",
       "29      7.3\n",
       "404     7.5\n",
       "323    22.3\n",
       "233     NaN\n",
       "Name: potasium, dtype: float64"
      ]
     },
     "execution_count": 64,
     "metadata": {},
     "output_type": "execute_result"
    }
   ],
   "source": [
    "df.potasium.map(float).sort_values().tail(5)"
   ]
  },
  {
   "cell_type": "markdown",
   "metadata": {},
   "source": [
    "22.3 L value seems like crazy outlier? Treat as 2.3? Treat as missing?"
   ]
  },
  {
   "cell_type": "markdown",
   "metadata": {},
   "source": [
    "### mg"
   ]
  },
  {
   "cell_type": "code",
   "execution_count": 65,
   "metadata": {},
   "outputs": [
    {
     "data": {
      "text/plain": [
       "43"
      ]
     },
     "execution_count": 65,
     "metadata": {},
     "output_type": "execute_result"
    }
   ],
   "source": [
    "df.mg.isna().sum()"
   ]
  },
  {
   "cell_type": "markdown",
   "metadata": {},
   "source": [
    "A lot of missing!"
   ]
  },
  {
   "cell_type": "code",
   "execution_count": 66,
   "metadata": {},
   "outputs": [
    {
     "data": {
      "text/plain": [
       "(array([  6.,   0.,   7.,  21., 121., 155.,  51.,  11.,   8.,   7.]),\n",
       " array([0. , 0.4, 0.8, 1.2, 1.6, 2. , 2.4, 2.8, 3.2, 3.6, 4. ]),\n",
       " <a list of 10 Patch objects>)"
      ]
     },
     "execution_count": 66,
     "metadata": {},
     "output_type": "execute_result"
    },
    {
     "data": {
      "image/png": "[encoded data removed]",
      "text/plain": [
       "<Figure size 432x288 with 1 Axes>"
      ]
     },
     "metadata": {
      "needs_background": "light"
     },
     "output_type": "display_data"
    }
   ],
   "source": [
    "plt.hist(df.mg.dropna().map(float))"
   ]
  },
  {
   "cell_type": "markdown",
   "metadata": {},
   "source": [
    "Not a bad plot"
   ]
  },
  {
   "cell_type": "code",
   "execution_count": 67,
   "metadata": {},
   "outputs": [
    {
     "data": {
      "text/plain": [
       "6"
      ]
     },
     "execution_count": 67,
     "metadata": {},
     "output_type": "execute_result"
    }
   ],
   "source": [
    "(df.mg == 0).sum()"
   ]
  },
  {
   "cell_type": "markdown",
   "metadata": {},
   "source": [
    "Are these 0 values errors? Change to mean? There's a lot of missing already..."
   ]
  },
  {
   "cell_type": "markdown",
   "metadata": {},
   "source": [
    "### this_cr_change"
   ]
  },
  {
   "cell_type": "code",
   "execution_count": 68,
   "metadata": {},
   "outputs": [
    {
     "data": {
      "text/plain": [
       "32"
      ]
     },
     "execution_count": 68,
     "metadata": {},
     "output_type": "execute_result"
    }
   ],
   "source": [
    "df.this_cr_change.isna().sum()"
   ]
  },
  {
   "cell_type": "markdown",
   "metadata": {},
   "source": [
    "Significant missing values. Is there only a single cr measurement? If so impute 0?"
   ]
  },
  {
   "cell_type": "code",
   "execution_count": 69,
   "metadata": {},
   "outputs": [
    {
     "data": {
      "text/plain": [
       "(array([  1.,   2.,   3.,  11.,  39., 191., 116.,  23.,   3.,   9.]),\n",
       " array([-133.33 , -109.997,  -86.664,  -63.331,  -39.998,  -16.665,\n",
       "           6.668,   30.001,   53.334,   76.667,  100.   ]),\n",
       " <a list of 10 Patch objects>)"
      ]
     },
     "execution_count": 69,
     "metadata": {},
     "output_type": "execute_result"
    },
    {
     "data": {
      "image/png": "[encoded data removed]",
      "text/plain": [
       "<Figure size 432x288 with 1 Axes>"
      ]
     },
     "metadata": {
      "needs_background": "light"
     },
     "output_type": "display_data"
    }
   ],
   "source": [
    "plt.hist(df.this_cr_change.dropna().map(float))"
   ]
  },
  {
   "cell_type": "markdown",
   "metadata": {},
   "source": [
    "Looks OK."
   ]
  },
  {
   "cell_type": "markdown",
   "metadata": {},
   "source": [
    "<p><a name=\"pacemaker\"></a></p>\n",
    "## Pacemaker (aicd)"
   ]
  },
  {
   "cell_type": "code",
   "execution_count": 70,
   "metadata": {},
   "outputs": [
    {
     "data": {
      "text/plain": [
       "0.0    392\n",
       "1.0     38\n",
       "Name: aicd, dtype: int64"
      ]
     },
     "execution_count": 70,
     "metadata": {},
     "output_type": "execute_result"
    }
   ],
   "source": [
    "df.aicd.value_counts(dropna = False)"
   ]
  },
  {
   "cell_type": "markdown",
   "metadata": {},
   "source": [
    "<p><a name=\"duration\"></a></p>\n",
    "## Duration"
   ]
  },
  {
   "cell_type": "code",
   "execution_count": 71,
   "metadata": {
    "scrolled": false
   },
   "outputs": [
    {
     "data": {
      "text/plain": [
       "count     410.000000\n",
       "mean       56.678049\n",
       "std       342.632123\n",
       "min     -3638.000000\n",
       "25%        24.000000\n",
       "50%        47.500000\n",
       "75%        95.000000\n",
       "max      1390.000000\n",
       "Name: duration, dtype: float64"
      ]
     },
     "execution_count": 71,
     "metadata": {},
     "output_type": "execute_result"
    }
   ],
   "source": [
    "df.duration.describe()"
   ]
  },
  {
   "cell_type": "code",
   "execution_count": 75,
   "metadata": {},
   "outputs": [
    {
     "data": {
      "text/plain": [
       "416   -3638.0\n",
       "388   -2628.0\n",
       "252   -1783.0\n",
       "136   -1395.0\n",
       "179   -1393.0\n",
       "173   -1045.0\n",
       "194   -1028.0\n",
       "183   -1024.0\n",
       "354    -997.0\n",
       "110    -705.0\n",
       "186    -696.0\n",
       "175    -657.0\n",
       "62     -334.0\n",
       "86     -312.0\n",
       "200    -307.0\n",
       "251    -298.0\n",
       "133    -277.0\n",
       "207    -266.0\n",
       "94      -27.0\n",
       "132      -3.0\n",
       "24        0.0\n",
       "Name: duration, dtype: float64"
      ]
     },
     "execution_count": 75,
     "metadata": {},
     "output_type": "execute_result"
    }
   ],
   "source": [
    "df.duration.sort_values().head(21)"
   ]
  },
  {
   "cell_type": "markdown",
   "metadata": {},
   "source": [
    "Why all the negative durations?"
   ]
  },
  {
   "cell_type": "code",
   "execution_count": 92,
   "metadata": {},
   "outputs": [
    {
     "data": {
      "text/plain": [
       "20"
      ]
     },
     "execution_count": 92,
     "metadata": {},
     "output_type": "execute_result"
    }
   ],
   "source": [
    "df.duration.isna().sum()"
   ]
  },
  {
   "cell_type": "markdown",
   "metadata": {},
   "source": [
    "20 missing durations."
   ]
  },
  {
   "cell_type": "code",
   "execution_count": 78,
   "metadata": {},
   "outputs": [
    {
     "data": {
      "text/plain": [
       "count     390.000000\n",
       "mean      107.823077\n",
       "std       171.539564\n",
       "min         0.000000\n",
       "25%        26.250000\n",
       "50%        49.000000\n",
       "75%        98.000000\n",
       "max      1390.000000\n",
       "Name: duration, dtype: float64"
      ]
     },
     "execution_count": 78,
     "metadata": {},
     "output_type": "execute_result"
    }
   ],
   "source": [
    "df.duration[df.duration >= 0].describe()"
   ]
  },
  {
   "cell_type": "code",
   "execution_count": 79,
   "metadata": {},
   "outputs": [
    {
     "data": {
      "text/plain": [
       "(array([320.,  27.,  22.,  10.,   2.,   5.,   2.,   0.,   0.,   2.]),\n",
       " array([   0.,  139.,  278.,  417.,  556.,  695.,  834.,  973., 1112.,\n",
       "        1251., 1390.]),\n",
       " <a list of 10 Patch objects>)"
      ]
     },
     "execution_count": 79,
     "metadata": {},
     "output_type": "execute_result"
    },
    {
     "data": {
      "image/png": "[encoded data removed]",
      "text/plain": [
       "<Figure size 432x288 with 1 Axes>"
      ]
     },
     "metadata": {
      "needs_background": "light"
     },
     "output_type": "display_data"
    }
   ],
   "source": [
    "plt.hist(df.duration[(df.duration > -1 )])"
   ]
  },
  {
   "cell_type": "markdown",
   "metadata": {},
   "source": [
    "Plot is heavily skewed."
   ]
  },
  {
   "cell_type": "code",
   "execution_count": 28,
   "metadata": {
    "scrolled": true
   },
   "outputs": [
    {
     "data": {
      "text/plain": [
       "(array([37., 37., 45., 41., 41., 35., 33., 17., 20., 19.]),\n",
       " array([ 1. , 10.8, 20.6, 30.4, 40.2, 50. , 59.8, 69.6, 79.4, 89.2, 99. ]),\n",
       " <a list of 10 Patch objects>)"
      ]
     },
     "execution_count": 28,
     "metadata": {},
     "output_type": "execute_result"
    },
    {
     "data": {
      "image/png": "[encoded data removed]",
      "text/plain": [
       "<Figure size 432x288 with 1 Axes>"
      ]
     },
     "metadata": {
      "needs_background": "light"
     },
     "output_type": "display_data"
    }
   ],
   "source": [
    "plt.hist(df.duration[(df.duration < 100)])"
   ]
  },
  {
   "cell_type": "code",
   "execution_count": 29,
   "metadata": {},
   "outputs": [
    {
     "data": {
      "text/plain": [
       "(array([  9.,   7.,  13.,  36.,  84., 132.,  72.,  42.,  26.,  11.]),\n",
       " array([0.        , 0.7237059 , 1.44741181, 2.17111771, 2.89482361,\n",
       "        3.61852951, 4.34223542, 5.06594132, 5.78964722, 6.51335312,\n",
       "        7.23705903]),\n",
       " <a list of 10 Patch objects>)"
      ]
     },
     "execution_count": 29,
     "metadata": {},
     "output_type": "execute_result"
    },
    {
     "data": {
      "image/png": "[encoded data removed]",
      "text/plain": [
       "<Figure size 432x288 with 1 Axes>"
      ]
     },
     "metadata": {
      "needs_background": "light"
     },
     "output_type": "display_data"
    }
   ],
   "source": [
    "plt.hist(df.duration[df.duration < 9999].map(np.log))"
   ]
  },
  {
   "cell_type": "markdown",
   "metadata": {},
   "source": [
    "Log histogram of non-missing values looks much more normal. Box-Cox transformation may be appropriate here."
   ]
  },
  {
   "cell_type": "code",
   "execution_count": null,
   "metadata": {},
   "outputs": [],
   "source": []
  }
 ],
 "metadata": {
  "kernelspec": {
   "display_name": "Python 3",
   "language": "python",
   "name": "python3"
  },
  "language_info": {
   "codemirror_mode": {
    "name": "ipython",
    "version": 3
   },
   "file_extension": ".py",
   "mimetype": "text/x-python",
   "name": "python",
   "nbconvert_exporter": "python",
   "pygments_lexer": "ipython3",
   "version": "3.7.0"
  }
 },
 "nbformat": 4,
 "nbformat_minor": 2
}
